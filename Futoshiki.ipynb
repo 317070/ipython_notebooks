{
 "metadata": {
  "name": "",
  "signature": "sha256:c7438c123b0ae51460d441953835a5795b7e0b9690df2dbe8b469f971413514c"
 },
 "nbformat": 3,
 "nbformat_minor": 0,
 "worksheets": [
  {
   "cells": [
    {
     "cell_type": "heading",
     "level": 1,
     "metadata": {},
     "source": [
      "Exhaustive http://www.futoshiki.org/ Solver"
     ]
    },
    {
     "cell_type": "code",
     "collapsed": false,
     "input": [
      "def unique_rows_columns(grid):\n",
      "    for r in range(0,5):\n",
      "        for c in range (0,5):\n",
      "            for c2 in range (0,c):\n",
      "                if(grid[r][c]!=\" \" and grid[r][c2]!=\" \" and grid[r][c]==grid[r][c2]):\n",
      "                    return False\n",
      "    for c in range(0,5):\n",
      "        for r in range (0,5):\n",
      "            for r2 in range (0,r):\n",
      "                if(grid[r][c]!=\" \" and grid[r2][c]!=\" \" and grid[r][c]==grid[r2][c]):\n",
      "                    return False\n",
      "    return True\n",
      "\n",
      "def equals(grid, r,c,val):\n",
      "    return grid[r][c]==\" \" or grid[r][c]==val\n",
      "def less(grid, r,c,r2,c2):\n",
      "    assert( (r==r2 and abs(c-c2)==1) or (c==c2 and abs(r-r2)==1) )\n",
      "    return grid[r][c]==\" \" or grid[r2][c2]==\" \" or grid[r][c]<grid[r2][c2]"
     ],
     "language": "python",
     "metadata": {},
     "outputs": [],
     "prompt_number": 15
    },
    {
     "cell_type": "code",
     "collapsed": false,
     "input": [
      "def my_check(grid):\n",
      "    return (equals(grid,3,1,\"2\")\n",
      "        and less(grid, 0,1, 1, 1) \n",
      "        and less(grid, 1,2, 0,2) \n",
      "        and less(grid, 0,3,1,3) \n",
      "        and less(grid, 1,0, 2,0) \n",
      "        and less(grid, 1,4, 2,4) \n",
      "        and less(grid, 2,4, 2,3) \n",
      "        and less(grid, 3,1, 3,0) \n",
      "        and less(grid, 3,4, 3,3) \n",
      "        and less(grid, 4,2, 3,2) \n",
      "        and less(grid, 4,0, 4,1) \n",
      "        and less(grid, 4,1, 4,2) \n",
      "        and less(grid, 4,3, 4,2) \n",
      "        )"
     ],
     "language": "python",
     "metadata": {},
     "outputs": [],
     "prompt_number": 14
    },
    {
     "cell_type": "code",
     "collapsed": false,
     "input": [
      "def solve(grid, r,c):\n",
      "    \n",
      "    #bottom out failure if grid violates constraint\n",
      "    if  not unique_rows_columns(grid) or not my_check(grid):\n",
      "       return False, None\n",
      "    \n",
      "    #bottom out for Success!\n",
      "    if r>4:\n",
      "        return True, grid\n",
      "\n",
      "    #try each cell value\n",
      "    for i in \"12345\":\n",
      "        newgrid = grid[:]\n",
      "        newgrid[r]=newgrid[r][0:c]+i+grid[r][c+1:]\n",
      "        #print(newgrid)\n",
      "        \n",
      "        #recursively try next cell\n",
      "        if c<4: \n",
      "            works, solution = solve(newgrid, r, c+1)\n",
      "        else: \n",
      "            works, solution = solve(newgrid, r+1, 0)\n",
      "        \n",
      "        if works:\n",
      "            return works, solution\n",
      "        \n",
      "    return False, None\n",
      "    \n",
      "print(\"Started\")\n",
      "grid = [\" \"*5 for i in (range(0,5))]\n",
      "works, solution = solve(grid, 0, 0)\n",
      "if works:\n",
      "    print(\"Success\")\n",
      "    print(solution)\n",
      "else:\n",
      "    print(\"Failed\")\n",
      "    "
     ],
     "language": "python",
     "metadata": {},
     "outputs": [
      {
       "output_type": "stream",
       "stream": "stdout",
       "text": [
        "Started\n",
        "Success"
       ]
      },
      {
       "output_type": "stream",
       "stream": "stdout",
       "text": [
        "\n",
        "['54312', '25143', '31254', '42531', '13425']\n"
       ]
      }
     ],
     "prompt_number": 18
    },
    {
     "cell_type": "code",
     "collapsed": false,
     "input": [],
     "language": "python",
     "metadata": {},
     "outputs": [],
     "prompt_number": 4
    }
   ],
   "metadata": {}
  }
 ]
}