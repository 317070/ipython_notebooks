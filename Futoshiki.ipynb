{
 "cells": [
  {
   "cell_type": "markdown",
   "metadata": {},
   "source": [
    "# A Brute Force Solver for http://www.futoshiki.org/"
   ]
  },
  {
   "cell_type": "markdown",
   "metadata": {},
   "source": [
    "First we define helper functions to check if the main [Latin Square](http://en.wikipedia.org/wiki/Latin_square) constraint is met: that each row and column contain unique numbers.\n",
    "The grid will be stored as an array of strings, so for a 5x5 grid the array will contain 5 strings of 5 characters.  Cells that have not yet been filled are stored as a space.  When we check the constraint we ignore cells that have not yet been filled; but we fail if the filled cells violate the constraint."
   ]
  },
  {
   "cell_type": "code",
   "execution_count": 1,
   "metadata": {
    "collapsed": false
   },
   "outputs": [],
   "source": [
    "def unique_rows_columns(grid):\n",
    "    size = len(grid) \n",
    "    for r in range(0,size):\n",
    "        assert(size==len(grid[r]))\n",
    "        for c in range (0,size):\n",
    "            for c2 in range (0,c):\n",
    "                if(grid[r][c]!=\" \" and grid[r][c2]!=\" \" and grid[r][c]==grid[r][c2]):\n",
    "                    return False\n",
    "    for c in range(0,size):\n",
    "        for r in range (0,size):\n",
    "            for r2 in range (0,r):\n",
    "                if(grid[r][c]!=\" \" and grid[r2][c]!=\" \" and grid[r][c]==grid[r2][c]):\n",
    "                    return False\n",
    "    return True"
   ]
  },
  {
   "cell_type": "markdown",
   "metadata": {},
   "source": [
    "We would like to read a random puzzle from the http://Futoshiki.org website, but the puzzle there is generated in html5 after the page is loaded; this is not something easy to replicate in Python.  So as a poor workaround we copy the generated page's HTML from a browser and paste it below:\n",
    "1. In Chrome visit http://Futoshiki.org\n",
    "2. Choose a puzzle size and difficulty\n",
    "3. On the top left cell of the board, right-click and choose *Inspect Element*\n",
    "4. In the lower pane right click the *board* element and choose *Edit as HTML*\n",
    "5. Press `Ctrl-A` to select all text then copy with `Ctrl-C`\n",
    "6. Paste below replacing the html between the triple quotes"
   ]
  },
  {
   "cell_type": "code",
   "execution_count": 7,
   "metadata": {
    "collapsed": false
   },
   "outputs": [
    {
     "data": {
      "text/html": [
       "\n",
       "<div id=\"board\" style=\"margin:0px auto;text-align:center\" class=\"no-text-selection\"><table border=\"0\" cellpadding=\"3\" style=\"margin:15px auto;text-align:center\" id=\"boardTable\"><tbody><tr><td id=\"cell-0-0\" style=\"border:1px solid #808080;font-size:32px\" onclick=\"clicked(0, 0)\"></td><td><img id=\"arrow-0-0v\" src=\"http://www.goobix.com/games/futoshiki/arrow_v.gif\"></td><td id=\"cell-0-1\" style=\"border:1px solid #808080;font-size:32px\" onclick=\"clicked(0, 1)\"></td><td><img id=\"arrow-0-1v\" src=\"http://www.goobix.com/games/futoshiki/arrow_v.gif\"></td><td id=\"cell-0-2\" style=\"border:1px solid #808080;font-size:32px\" onclick=\"clicked(0, 2)\"></td><td><img id=\"arrow-0-2v\" src=\"http://www.goobix.com/games/futoshiki/arrow_v.gif\"></td><td id=\"cell-0-3\" style=\"border:1px solid #808080;font-size:32px\" onclick=\"clicked(0, 3)\"></td><td><img id=\"arrow-0-3v\" src=\"http://www.goobix.com/games/futoshiki/arrow_r0.gif\"></td><td id=\"cell-0-4\" style=\"border:1px solid #808080;font-size:32px\" onclick=\"clicked(0, 4)\"></td><td><img id=\"arrow-0-4v\" src=\"http://www.goobix.com/games/futoshiki/arrow_v.gif\"></td></tr><tr><td><img id=\"arrow-0-0h\" src=\"http://www.goobix.com/games/futoshiki/arrow_d0.gif\"></td><td></td><td><img id=\"arrow-0-1h\" src=\"http://www.goobix.com/games/futoshiki/arrow_u0.gif\"></td><td></td><td><img id=\"arrow-0-2h\" src=\"http://www.goobix.com/games/futoshiki/arrow_h.gif\"></td><td></td><td><img id=\"arrow-0-3h\" src=\"http://www.goobix.com/games/futoshiki/arrow_h.gif\"></td><td></td><td><img id=\"arrow-0-4h\" src=\"http://www.goobix.com/games/futoshiki/arrow_d0.gif\"></td></tr><tr><td id=\"cell-1-0\" style=\"border:1px solid #808080;font-size:32px\" onclick=\"clicked(1, 0)\"></td><td><img id=\"arrow-1-0v\" src=\"http://www.goobix.com/games/futoshiki/arrow_v.gif\"></td><td id=\"cell-1-1\" style=\"border:1px solid #808080;font-size:32px\" onclick=\"clicked(1, 1)\"></td><td><img id=\"arrow-1-1v\" src=\"http://www.goobix.com/games/futoshiki/arrow_v.gif\"></td><td id=\"cell-1-2\" style=\"border:1px solid #808080;font-size:32px\" onclick=\"clicked(1, 2)\"></td><td><img id=\"arrow-1-2v\" src=\"http://www.goobix.com/games/futoshiki/arrow_v.gif\"></td><td id=\"cell-1-3\" style=\"border:1px solid #808080;font-size:32px\" onclick=\"clicked(1, 3)\"></td><td><img id=\"arrow-1-3v\" src=\"http://www.goobix.com/games/futoshiki/arrow_v.gif\"></td><td id=\"cell-1-4\" style=\"border:1px solid #808080;font-size:32px\" onclick=\"clicked(1, 4)\"></td><td><img id=\"arrow-1-4v\" src=\"http://www.goobix.com/games/futoshiki/arrow_v.gif\"></td></tr><tr><td><img id=\"arrow-1-0h\" src=\"http://www.goobix.com/games/futoshiki/arrow_d0.gif\"></td><td></td><td><img id=\"arrow-1-1h\" src=\"http://www.goobix.com/games/futoshiki/arrow_d0.gif\"></td><td></td><td><img id=\"arrow-1-2h\" src=\"http://www.goobix.com/games/futoshiki/arrow_h.gif\"></td><td></td><td><img id=\"arrow-1-3h\" src=\"http://www.goobix.com/games/futoshiki/arrow_h.gif\"></td><td></td><td><img id=\"arrow-1-4h\" src=\"http://www.goobix.com/games/futoshiki/arrow_h.gif\"></td></tr><tr><td id=\"cell-2-0\" style=\"border:1px solid #808080;font-size:32px\" onclick=\"clicked(2, 0)\"></td><td><img id=\"arrow-2-0v\" src=\"http://www.goobix.com/games/futoshiki/arrow_v.gif\"></td><td id=\"cell-2-1\" style=\"border:1px solid #808080;font-size:32px\" onclick=\"clicked(2, 1)\"></td><td><img id=\"arrow-2-1v\" src=\"http://www.goobix.com/games/futoshiki/arrow_v.gif\"></td><td id=\"cell-2-2\" style=\"border:1px solid #808080;font-size:32px\" onclick=\"clicked(2, 2)\"></td><td><img id=\"arrow-2-2v\" src=\"http://www.goobix.com/games/futoshiki/arrow_v.gif\"></td><td id=\"cell-2-3\" style=\"border:1px solid #808080;font-size:32px\" onclick=\"clicked(2, 3)\"></td><td><img id=\"arrow-2-3v\" src=\"http://www.goobix.com/games/futoshiki/arrow_v.gif\"></td><td id=\"cell-2-4\" style=\"border:1px solid #808080;font-size:32px\" onclick=\"clicked(2, 4)\"></td><td><img id=\"arrow-2-4v\" src=\"http://www.goobix.com/games/futoshiki/arrow_v.gif\"></td></tr><tr><td><img id=\"arrow-2-0h\" src=\"http://www.goobix.com/games/futoshiki/arrow_h.gif\"></td><td></td><td><img id=\"arrow-2-1h\" src=\"http://www.goobix.com/games/futoshiki/arrow_d0.gif\"></td><td></td><td><img id=\"arrow-2-2h\" src=\"http://www.goobix.com/games/futoshiki/arrow_h.gif\"></td><td></td><td><img id=\"arrow-2-3h\" src=\"http://www.goobix.com/games/futoshiki/arrow_d0.gif\"></td><td></td><td><img id=\"arrow-2-4h\" src=\"http://www.goobix.com/games/futoshiki/arrow_d0.gif\"></td></tr><tr><td id=\"cell-3-0\" style=\"border:1px solid #808080;font-size:32px\" onclick=\"clicked(3, 0)\"></td><td><img id=\"arrow-3-0v\" src=\"http://www.goobix.com/games/futoshiki/arrow_v.gif\"></td><td id=\"cell-3-1\" style=\"border:1px solid #808080;font-size:32px\" onclick=\"clicked(3, 1)\"></td><td><img id=\"arrow-3-1v\" src=\"http://www.goobix.com/games/futoshiki/arrow_v.gif\"></td><td id=\"cell-3-2\" style=\"border:1px solid #808080;font-size:32px\" onclick=\"clicked(3, 2)\"></td><td><img id=\"arrow-3-2v\" src=\"http://www.goobix.com/games/futoshiki/arrow_v.gif\"></td><td id=\"cell-3-3\" style=\"border:1px solid #808080;font-size:32px\" onclick=\"clicked(3, 3)\"></td><td><img id=\"arrow-3-3v\" src=\"http://www.goobix.com/games/futoshiki/arrow_v.gif\"></td><td id=\"cell-3-4\" style=\"border:1px solid #808080;font-size:32px\" onclick=\"clicked(3, 4)\"></td><td><img id=\"arrow-3-4v\" src=\"http://www.goobix.com/games/futoshiki/arrow_v.gif\"></td></tr><tr><td><img id=\"arrow-3-0h\" src=\"http://www.goobix.com/games/futoshiki/arrow_d0.gif\"></td><td></td><td><img id=\"arrow-3-1h\" src=\"http://www.goobix.com/games/futoshiki/arrow_h.gif\"></td><td></td><td><img id=\"arrow-3-2h\" src=\"http://www.goobix.com/games/futoshiki/arrow_h.gif\"></td><td></td><td><img id=\"arrow-3-3h\" src=\"http://www.goobix.com/games/futoshiki/arrow_d0.gif\"></td><td></td><td><img id=\"arrow-3-4h\" src=\"http://www.goobix.com/games/futoshiki/arrow_h.gif\"></td></tr><tr><td id=\"cell-4-0\" style=\"border:1px solid #808080;font-size:32px\" onclick=\"clicked(4, 0)\"></td><td><img id=\"arrow-4-0v\" src=\"http://www.goobix.com/games/futoshiki/arrow_r0.gif\"></td><td id=\"cell-4-1\" style=\"border:1px solid #808080;font-size:32px\" onclick=\"clicked(4, 1)\"></td><td><img id=\"arrow-4-1v\" src=\"http://www.goobix.com/games/futoshiki/arrow_r0.gif\"></td><td id=\"cell-4-2\" style=\"border:1px solid #808080;font-size:32px\" onclick=\"clicked(4, 2)\"></td><td><img id=\"arrow-4-2v\" src=\"http://www.goobix.com/games/futoshiki/arrow_v.gif\"></td><td id=\"cell-4-3\" style=\"border:1px solid #808080;font-size:32px\" onclick=\"clicked(4, 3)\"></td><td><img id=\"arrow-4-3v\" src=\"http://www.goobix.com/games/futoshiki/arrow_v.gif\"></td><td id=\"cell-4-4\" style=\"border:1px solid #808080;font-size:32px\" onclick=\"clicked(4, 4)\"></td><td><img id=\"arrow-4-4v\" src=\"http://www.goobix.com/games/futoshiki/arrow_v.gif\"></td></tr></tbody></table></div>\n"
      ],
      "text/plain": [
       "<IPython.core.display.HTML at 0x5919d68>"
      ]
     },
     "execution_count": 7,
     "metadata": {},
     "output_type": "execute_result"
    }
   ],
   "source": [
    "from IPython.display import HTML\n",
    "page = '''\n",
    "<div id=\"board\" style=\"margin:0px auto;text-align:center\" class=\"no-text-selection\"><table border=\"0\" cellpadding=\"3\" style=\"margin:15px auto;text-align:center\" id=\"boardTable\"><tbody><tr><td id=\"cell-0-0\" style=\"border:1px solid #808080;font-size:32px\" onclick=\"clicked(0, 0)\"></td><td><img id=\"arrow-0-0v\" src=\"http://www.goobix.com/games/futoshiki/arrow_v.gif\"></td><td id=\"cell-0-1\" style=\"border:1px solid #808080;font-size:32px\" onclick=\"clicked(0, 1)\"></td><td><img id=\"arrow-0-1v\" src=\"http://www.goobix.com/games/futoshiki/arrow_v.gif\"></td><td id=\"cell-0-2\" style=\"border:1px solid #808080;font-size:32px\" onclick=\"clicked(0, 2)\"></td><td><img id=\"arrow-0-2v\" src=\"http://www.goobix.com/games/futoshiki/arrow_v.gif\"></td><td id=\"cell-0-3\" style=\"border:1px solid #808080;font-size:32px\" onclick=\"clicked(0, 3)\"></td><td><img id=\"arrow-0-3v\" src=\"http://www.goobix.com/games/futoshiki/arrow_r0.gif\"></td><td id=\"cell-0-4\" style=\"border:1px solid #808080;font-size:32px\" onclick=\"clicked(0, 4)\"></td><td><img id=\"arrow-0-4v\" src=\"http://www.goobix.com/games/futoshiki/arrow_v.gif\"></td></tr><tr><td><img id=\"arrow-0-0h\" src=\"http://www.goobix.com/games/futoshiki/arrow_d0.gif\"></td><td></td><td><img id=\"arrow-0-1h\" src=\"http://www.goobix.com/games/futoshiki/arrow_u0.gif\"></td><td></td><td><img id=\"arrow-0-2h\" src=\"http://www.goobix.com/games/futoshiki/arrow_h.gif\"></td><td></td><td><img id=\"arrow-0-3h\" src=\"http://www.goobix.com/games/futoshiki/arrow_h.gif\"></td><td></td><td><img id=\"arrow-0-4h\" src=\"http://www.goobix.com/games/futoshiki/arrow_d0.gif\"></td></tr><tr><td id=\"cell-1-0\" style=\"border:1px solid #808080;font-size:32px\" onclick=\"clicked(1, 0)\"></td><td><img id=\"arrow-1-0v\" src=\"http://www.goobix.com/games/futoshiki/arrow_v.gif\"></td><td id=\"cell-1-1\" style=\"border:1px solid #808080;font-size:32px\" onclick=\"clicked(1, 1)\"></td><td><img id=\"arrow-1-1v\" src=\"http://www.goobix.com/games/futoshiki/arrow_v.gif\"></td><td id=\"cell-1-2\" style=\"border:1px solid #808080;font-size:32px\" onclick=\"clicked(1, 2)\"></td><td><img id=\"arrow-1-2v\" src=\"http://www.goobix.com/games/futoshiki/arrow_v.gif\"></td><td id=\"cell-1-3\" style=\"border:1px solid #808080;font-size:32px\" onclick=\"clicked(1, 3)\"></td><td><img id=\"arrow-1-3v\" src=\"http://www.goobix.com/games/futoshiki/arrow_v.gif\"></td><td id=\"cell-1-4\" style=\"border:1px solid #808080;font-size:32px\" onclick=\"clicked(1, 4)\"></td><td><img id=\"arrow-1-4v\" src=\"http://www.goobix.com/games/futoshiki/arrow_v.gif\"></td></tr><tr><td><img id=\"arrow-1-0h\" src=\"http://www.goobix.com/games/futoshiki/arrow_d0.gif\"></td><td></td><td><img id=\"arrow-1-1h\" src=\"http://www.goobix.com/games/futoshiki/arrow_d0.gif\"></td><td></td><td><img id=\"arrow-1-2h\" src=\"http://www.goobix.com/games/futoshiki/arrow_h.gif\"></td><td></td><td><img id=\"arrow-1-3h\" src=\"http://www.goobix.com/games/futoshiki/arrow_h.gif\"></td><td></td><td><img id=\"arrow-1-4h\" src=\"http://www.goobix.com/games/futoshiki/arrow_h.gif\"></td></tr><tr><td id=\"cell-2-0\" style=\"border:1px solid #808080;font-size:32px\" onclick=\"clicked(2, 0)\"></td><td><img id=\"arrow-2-0v\" src=\"http://www.goobix.com/games/futoshiki/arrow_v.gif\"></td><td id=\"cell-2-1\" style=\"border:1px solid #808080;font-size:32px\" onclick=\"clicked(2, 1)\"></td><td><img id=\"arrow-2-1v\" src=\"http://www.goobix.com/games/futoshiki/arrow_v.gif\"></td><td id=\"cell-2-2\" style=\"border:1px solid #808080;font-size:32px\" onclick=\"clicked(2, 2)\"></td><td><img id=\"arrow-2-2v\" src=\"http://www.goobix.com/games/futoshiki/arrow_v.gif\"></td><td id=\"cell-2-3\" style=\"border:1px solid #808080;font-size:32px\" onclick=\"clicked(2, 3)\"></td><td><img id=\"arrow-2-3v\" src=\"http://www.goobix.com/games/futoshiki/arrow_v.gif\"></td><td id=\"cell-2-4\" style=\"border:1px solid #808080;font-size:32px\" onclick=\"clicked(2, 4)\"></td><td><img id=\"arrow-2-4v\" src=\"http://www.goobix.com/games/futoshiki/arrow_v.gif\"></td></tr><tr><td><img id=\"arrow-2-0h\" src=\"http://www.goobix.com/games/futoshiki/arrow_h.gif\"></td><td></td><td><img id=\"arrow-2-1h\" src=\"http://www.goobix.com/games/futoshiki/arrow_d0.gif\"></td><td></td><td><img id=\"arrow-2-2h\" src=\"http://www.goobix.com/games/futoshiki/arrow_h.gif\"></td><td></td><td><img id=\"arrow-2-3h\" src=\"http://www.goobix.com/games/futoshiki/arrow_d0.gif\"></td><td></td><td><img id=\"arrow-2-4h\" src=\"http://www.goobix.com/games/futoshiki/arrow_d0.gif\"></td></tr><tr><td id=\"cell-3-0\" style=\"border:1px solid #808080;font-size:32px\" onclick=\"clicked(3, 0)\"></td><td><img id=\"arrow-3-0v\" src=\"http://www.goobix.com/games/futoshiki/arrow_v.gif\"></td><td id=\"cell-3-1\" style=\"border:1px solid #808080;font-size:32px\" onclick=\"clicked(3, 1)\"></td><td><img id=\"arrow-3-1v\" src=\"http://www.goobix.com/games/futoshiki/arrow_v.gif\"></td><td id=\"cell-3-2\" style=\"border:1px solid #808080;font-size:32px\" onclick=\"clicked(3, 2)\"></td><td><img id=\"arrow-3-2v\" src=\"http://www.goobix.com/games/futoshiki/arrow_v.gif\"></td><td id=\"cell-3-3\" style=\"border:1px solid #808080;font-size:32px\" onclick=\"clicked(3, 3)\"></td><td><img id=\"arrow-3-3v\" src=\"http://www.goobix.com/games/futoshiki/arrow_v.gif\"></td><td id=\"cell-3-4\" style=\"border:1px solid #808080;font-size:32px\" onclick=\"clicked(3, 4)\"></td><td><img id=\"arrow-3-4v\" src=\"http://www.goobix.com/games/futoshiki/arrow_v.gif\"></td></tr><tr><td><img id=\"arrow-3-0h\" src=\"http://www.goobix.com/games/futoshiki/arrow_d0.gif\"></td><td></td><td><img id=\"arrow-3-1h\" src=\"http://www.goobix.com/games/futoshiki/arrow_h.gif\"></td><td></td><td><img id=\"arrow-3-2h\" src=\"http://www.goobix.com/games/futoshiki/arrow_h.gif\"></td><td></td><td><img id=\"arrow-3-3h\" src=\"http://www.goobix.com/games/futoshiki/arrow_d0.gif\"></td><td></td><td><img id=\"arrow-3-4h\" src=\"http://www.goobix.com/games/futoshiki/arrow_h.gif\"></td></tr><tr><td id=\"cell-4-0\" style=\"border:1px solid #808080;font-size:32px\" onclick=\"clicked(4, 0)\"></td><td><img id=\"arrow-4-0v\" src=\"http://www.goobix.com/games/futoshiki/arrow_r0.gif\"></td><td id=\"cell-4-1\" style=\"border:1px solid #808080;font-size:32px\" onclick=\"clicked(4, 1)\"></td><td><img id=\"arrow-4-1v\" src=\"http://www.goobix.com/games/futoshiki/arrow_r0.gif\"></td><td id=\"cell-4-2\" style=\"border:1px solid #808080;font-size:32px\" onclick=\"clicked(4, 2)\"></td><td><img id=\"arrow-4-2v\" src=\"http://www.goobix.com/games/futoshiki/arrow_v.gif\"></td><td id=\"cell-4-3\" style=\"border:1px solid #808080;font-size:32px\" onclick=\"clicked(4, 3)\"></td><td><img id=\"arrow-4-3v\" src=\"http://www.goobix.com/games/futoshiki/arrow_v.gif\"></td><td id=\"cell-4-4\" style=\"border:1px solid #808080;font-size:32px\" onclick=\"clicked(4, 4)\"></td><td><img id=\"arrow-4-4v\" src=\"http://www.goobix.com/games/futoshiki/arrow_v.gif\"></td></tr></tbody></table></div>\n",
    "'''\n",
    "HTML(page)"
   ]
  },
  {
   "cell_type": "markdown",
   "metadata": {},
   "source": [
    "Now we parse the HTML for the puzzle to work out the cells and arrows it includes and save the constaints particular to this puzzle.  Parsing ought to be done with an XML parser, but the HTML is not compliant so we fall back to regexps instead."
   ]
  },
  {
   "cell_type": "code",
   "execution_count": 3,
   "metadata": {
    "collapsed": false
   },
   "outputs": [],
   "source": [
    "import urllib.request\n",
    "import xml.etree.ElementTree as ET\n",
    "import re\n",
    "\n",
    "def read_puzzle(page):\n",
    "    values = [];\n",
    "    less_than = [];\n",
    "    #page = urllib.request.urlopen('http://Futoshiki.org').read().decode('utf-8') #doesn't work since puzzle is generated in html5\n",
    "    #page = re.sub('<meta[^>]*>','',page) #attempt to fix up malformed XML, but there's too much!\n",
    "    #root = ET.fromstring(page) #so give up and use regex\n",
    "\n",
    "    maxsize=10\n",
    "    for r in range(0,maxsize):\n",
    "        #if not root.find(\".//[@id='cell-\" +r + \"-0']\"): break\n",
    "        if not re.search('cell-'+str(r)+'-0', page):\n",
    "            print('finished reading puzzle with rows=',r)\n",
    "            break\n",
    "        for c in range(0,maxsize):\n",
    "            #find the cell and check if it has a value\n",
    "            #val = root.find(\".//[@id='cell-\"+r+\"-\"+c+\"']\")[0].text\n",
    "            val = re.search('cell-'+str(r)+'-'+str(c)+'[^>]*>([^<]*)<', page)\n",
    "            if not val: \n",
    "                break\n",
    "            cell = val.group(1)\n",
    "            #print(r,c,cell)\n",
    "            if len(cell):\n",
    "                values += [(r,c,cell)]\n",
    "            #find an arrow to the right, check the presence and direction using the gif name \n",
    "            val = re.search('arrow-'+str(r)+'-'+str(c)+r'v\" src=\"[^\"]*arrow_([^.]*)\\.gif', page)\n",
    "            if val:\n",
    "                #print(r,c,val.group(1))\n",
    "                if val.group(1)==\"r0\":\n",
    "                    less_than += [(r,c+1,r,c)]\n",
    "                elif val.group(1)==\"l0\":\n",
    "                    less_than += [(r,c,r,c+1)]\n",
    "            #find an arrow below \n",
    "            val = re.search('arrow-'+str(r)+'-'+str(c)+r'h\" src=\"[^\"]*arrow_([^.]*)\\.gif', page)\n",
    "            if val:\n",
    "                #print(r,c,val.group(1))\n",
    "                if val.group(1)==\"u0\":\n",
    "                    less_than += [(r,c,r+1,c)]\n",
    "                elif val.group(1)==\"d0\":\n",
    "                    less_than += [(r+1,c,r,c)]\n",
    "    return r, values, less_than"
   ]
  },
  {
   "cell_type": "markdown",
   "metadata": {},
   "source": [
    "These function check these value and less_than constraints"
   ]
  },
  {
   "cell_type": "code",
   "execution_count": 4,
   "metadata": {
    "collapsed": false
   },
   "outputs": [],
   "source": [
    "def equals(grid, r,c,val):\n",
    "    return grid[r][c]==\" \" or grid[r][c]==val\n",
    "\n",
    "def less(grid, r,c,r2,c2):\n",
    "    assert( (r==r2 and abs(c-c2)==1) or (c==c2 and abs(r-r2)==1) )\n",
    "    return grid[r][c]==\" \" or grid[r2][c2]==\" \" or grid[r][c]<grid[r2][c2]\n",
    "\n",
    "def my_check(grid, values, less_than):\n",
    "    #if any constraint fails, fail the whole solution\n",
    "    for v in values:\n",
    "        if not equals(grid, v[0], v[1], v[2]):\n",
    "            return False\n",
    "    for l in less_than:\n",
    "        if not less(grid, l[0], l[1], l[2], l[3]):\n",
    "            return False\n",
    "    return True"
   ]
  },
  {
   "cell_type": "markdown",
   "metadata": {},
   "source": [
    "Finally to solve a puzzle we use a depth-first brute force search algorithm which tries each possible value in each cell recursively."
   ]
  },
  {
   "cell_type": "code",
   "execution_count": 8,
   "metadata": {
    "collapsed": false
   },
   "outputs": [
    {
     "name": "stdout",
     "output_type": "stream",
     "text": [
      "Started\n",
      "finished reading puzzle with rows= 5\n",
      "Success\n",
      "34152\n",
      "25341\n",
      "12534\n",
      "51423\n",
      "43215\n"
     ]
    }
   ],
   "source": [
    "def solve(grid, r,c):\n",
    "    #print(grid,r,c)\n",
    "    \n",
    "    #bottom out failure if grid violates constraint\n",
    "    if  not unique_rows_columns(grid) or not my_check(grid, values, less_than):\n",
    "       return False, None\n",
    "    \n",
    "    #bottom out for Success!\n",
    "    size = len(grid[0])\n",
    "    if r>=size:\n",
    "        return True, grid\n",
    "\n",
    "    #try each cell value\n",
    "    for i in range(0,size):\n",
    "        newgrid = grid[:] #make a local copy\n",
    "        newgrid[r]=newgrid[r][0:c]+str(i+1)+grid[r][c+1:]\n",
    "        #print(newgrid)\n",
    "        \n",
    "        #recursively try next cell\n",
    "        if c<size-1: \n",
    "            works, solution = solve(newgrid, r, c+1)\n",
    "        else: \n",
    "            works, solution = solve(newgrid, r+1, 0)\n",
    "        \n",
    "        if works:\n",
    "            return works, solution\n",
    "        \n",
    "    return False, None\n",
    "    \n",
    "def blank_grid(size):\n",
    "    return [\" \"*size for i in (range(0,size))]\n",
    "\n",
    "print(\"Started\")\n",
    "size, values, less_than = read_puzzle(page)\n",
    "grid = blank_grid(size)\n",
    "works, solution = solve(grid, 0, 0)\n",
    "if works:\n",
    "    print(\"Success\")\n",
    "    for r in solution: print(r)\n",
    "else:\n",
    "    print(\"Failed\")\n",
    "    "
   ]
  },
  {
   "cell_type": "markdown",
   "metadata": {},
   "source": [
    "We add a quick Unit Test to maintain code quality."
   ]
  },
  {
   "cell_type": "code",
   "execution_count": 6,
   "metadata": {
    "collapsed": false
   },
   "outputs": [
    {
     "name": "stdout",
     "output_type": "stream",
     "text": [
      "finished reading puzzle with rows= 4\n",
      "True\n"
     ]
    }
   ],
   "source": [
    "import unittest\n",
    "\n",
    "class TestFutoshiki(unittest.TestCase):\n",
    "\n",
    "    def test_one_puzzle(self):\n",
    "        page = '''\n",
    "        <div id=\"board\" style=\"margin:0px auto;text-align:center\" class=\"no-text-selection\"><table border=\"0\" cellpadding=\"3\" style=\"margin:15px auto;text-align:center\" id=\"boardTable\"><tbody><tr><td id=\"cell-0-0\" style=\"border:1px solid #808080;font-size:32px\" onclick=\"clicked(0, 0)\">2</td><td><img id=\"arrow-0-0v\" src=\"http://www.goobix.com/games/futoshiki/arrow_v.gif\"></td><td id=\"cell-0-1\" style=\"border:1px solid #808080;font-size:32px\" onclick=\"clicked(0, 1)\"></td><td><img id=\"arrow-0-1v\" src=\"http://www.goobix.com/games/futoshiki/arrow_v.gif\"></td><td id=\"cell-0-2\" style=\"border:1px solid #808080;font-size:32px\" onclick=\"clicked(0, 2)\"></td><td><img id=\"arrow-0-2v\" src=\"http://www.goobix.com/games/futoshiki/arrow_v.gif\"></td><td id=\"cell-0-3\" style=\"border:1px solid #808080;font-size:32px\" onclick=\"clicked(0, 3)\"></td><td><img id=\"arrow-0-3v\" src=\"http://www.goobix.com/games/futoshiki/arrow_v.gif\"></td></tr><tr><td><img id=\"arrow-0-0h\" src=\"http://www.goobix.com/games/futoshiki/arrow_h.gif\"></td><td></td><td><img id=\"arrow-0-1h\" src=\"http://www.goobix.com/games/futoshiki/arrow_h.gif\"></td><td></td><td><img id=\"arrow-0-2h\" src=\"http://www.goobix.com/games/futoshiki/arrow_h.gif\"></td><td></td><td><img id=\"arrow-0-3h\" src=\"http://www.goobix.com/games/futoshiki/arrow_u0.gif\"></td></tr><tr><td id=\"cell-1-0\" style=\"border:1px solid #808080;font-size:32px\" onclick=\"clicked(1, 0)\"></td><td><img id=\"arrow-1-0v\" src=\"http://www.goobix.com/games/futoshiki/arrow_r0.gif\"></td><td id=\"cell-1-1\" style=\"border:1px solid #808080;font-size:32px\" onclick=\"clicked(1, 1)\"></td><td><img id=\"arrow-1-1v\" src=\"http://www.goobix.com/games/futoshiki/arrow_v.gif\"></td><td id=\"cell-1-2\" style=\"border:1px solid #808080;font-size:32px\" onclick=\"clicked(1, 2)\"></td><td><img id=\"arrow-1-2v\" src=\"http://www.goobix.com/games/futoshiki/arrow_r0.gif\"></td><td id=\"cell-1-3\" style=\"border:1px solid #808080;font-size:32px\" onclick=\"clicked(1, 3)\"></td><td><img id=\"arrow-1-3v\" src=\"http://www.goobix.com/games/futoshiki/arrow_v.gif\"></td></tr><tr><td><img id=\"arrow-1-0h\" src=\"http://www.goobix.com/games/futoshiki/arrow_h.gif\"></td><td></td><td><img id=\"arrow-1-1h\" src=\"http://www.goobix.com/games/futoshiki/arrow_h.gif\"></td><td></td><td><img id=\"arrow-1-2h\" src=\"http://www.goobix.com/games/futoshiki/arrow_h.gif\"></td><td></td><td><img id=\"arrow-1-3h\" src=\"http://www.goobix.com/games/futoshiki/arrow_h.gif\"></td></tr><tr><td id=\"cell-2-0\" style=\"border:1px solid #808080;font-size:32px\" onclick=\"clicked(2, 0)\"></td><td><img id=\"arrow-2-0v\" src=\"http://www.goobix.com/games/futoshiki/arrow_v.gif\"></td><td id=\"cell-2-1\" style=\"border:1px solid #808080;font-size:32px\" onclick=\"clicked(2, 1)\"></td><td><img id=\"arrow-2-1v\" src=\"http://www.goobix.com/games/futoshiki/arrow_v.gif\"></td><td id=\"cell-2-2\" style=\"border:1px solid #808080;font-size:32px\" onclick=\"clicked(2, 2)\"></td><td><img id=\"arrow-2-2v\" src=\"http://www.goobix.com/games/futoshiki/arrow_v.gif\"></td><td id=\"cell-2-3\" style=\"border:1px solid #808080;font-size:32px\" onclick=\"clicked(2, 3)\"></td><td><img id=\"arrow-2-3v\" src=\"http://www.goobix.com/games/futoshiki/arrow_v.gif\"></td></tr><tr><td><img id=\"arrow-2-0h\" src=\"http://www.goobix.com/games/futoshiki/arrow_d0.gif\"></td><td></td><td><img id=\"arrow-2-1h\" src=\"http://www.goobix.com/games/futoshiki/arrow_h.gif\"></td><td></td><td><img id=\"arrow-2-2h\" src=\"http://www.goobix.com/games/futoshiki/arrow_h.gif\"></td><td></td><td><img id=\"arrow-2-3h\" src=\"http://www.goobix.com/games/futoshiki/arrow_u0.gif\"></td></tr><tr><td id=\"cell-3-0\" style=\"border:1px solid #808080;font-size:32px\" onclick=\"clicked(3, 0)\"></td><td><img id=\"arrow-3-0v\" src=\"http://www.goobix.com/games/futoshiki/arrow_v.gif\"></td><td id=\"cell-3-1\" style=\"border:1px solid #808080;font-size:32px\" onclick=\"clicked(3, 1)\"></td><td><img id=\"arrow-3-1v\" src=\"http://www.goobix.com/games/futoshiki/arrow_v.gif\"></td><td id=\"cell-3-2\" style=\"border:1px solid #808080;font-size:32px\" onclick=\"clicked(3, 2)\"></td><td><img id=\"arrow-3-2v\" src=\"http://www.goobix.com/games/futoshiki/arrow_v.gif\"></td><td id=\"cell-3-3\" style=\"border:1px solid #808080;font-size:32px\" onclick=\"clicked(3, 3)\"></td><td><img id=\"arrow-3-3v\" src=\"http://www.goobix.com/games/futoshiki/arrow_v.gif\"></td></tr></tbody></table></div>\n",
    "        '''\n",
    "        size, values, less_than = read_puzzle(page)\n",
    "        grid = blank_grid(size)\n",
    "        works, solution = solve(grid, 0, 0)\n",
    "        self.assertTrue(works)\n",
    "        self.assertEqual(solution, [\"2431\",\"3142\",\"4213\",\"1324\"])\n",
    "        \n",
    "t=TestFutoshiki()\n",
    "print(t.test_one_puzzle() is None)"
   ]
  }
 ],
 "metadata": {
  "kernelspec": {
   "display_name": "Python [default]",
   "language": "python",
   "name": "python3"
  },
  "language_info": {
   "codemirror_mode": {
    "name": "ipython",
    "version": 3
   },
   "file_extension": ".py",
   "mimetype": "text/x-python",
   "name": "python",
   "nbconvert_exporter": "python",
   "pygments_lexer": "ipython3",
   "version": "3.5.2"
  }
 },
 "nbformat": 4,
 "nbformat_minor": 0
}
