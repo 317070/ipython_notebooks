{
 "cells": [
  {
   "cell_type": "markdown",
   "metadata": {},
   "source": [
    "# Art generator, in the style of [Sophie Taeuber-Arp](https://en.wikipedia.org/wiki/Sophie_Taeuber-Arp)\n",
    "![original from https://www.pinterest.com/pin/57280226486268470/](tarp/original.jpg)"
   ]
  },
  {
   "cell_type": "code",
   "execution_count": 2,
   "metadata": {
    "collapsed": true
   },
   "outputs": [],
   "source": [
    "from PIL import Image, ImageFont, ImageDraw, ImageChops\n",
    "from scipy.interpolate import UnivariateSpline\n",
    "import numpy as np\n",
    "import random"
   ]
  },
  {
   "cell_type": "code",
   "execution_count": 1,
   "metadata": {
    "collapsed": false
   },
   "outputs": [
    {
     "data": {
      "image/png": "[encoded data removed]",
      "text/plain": [
       "<PIL.Image.Image image mode=RGB size=640x480 at 0x26F328BA860>"
      ]
     },
     "execution_count": 1,
     "metadata": {},
     "output_type": "execute_result"
    }
   ],
   "source": [
    "size = 1000\n",
    "image = Image.new(\"RGB\", (640,480), \"beige\")\n",
    "drawing = ImageDraw.Draw(image)\n",
    "\n",
    "splinepoints = 4\n",
    "squaresize = 50 \n",
    "xsquares = int(image.width/squaresize)\n",
    "ysquares = int(image.height/squaresize)\n",
    "x = np.arange(0, image.width, image.width/splinepoints)\n",
    "ysplines = []\n",
    "for i in range(0,ysquares+1):\n",
    "    y = np.random.uniform(i*squaresize,(i+0.5)*squaresize,(splinepoints))\n",
    "    ysplines.append(UnivariateSpline(x, y, s=0))\n",
    "y = np.arange(0, image.height, image.height/splinepoints)\n",
    "xsplines = []\n",
    "for i in range(0,xsquares+1):\n",
    "    x = np.random.uniform(i*squaresize,(i+0.5)*squaresize,(splinepoints))\n",
    "    xsplines.append(UnivariateSpline(y, x, s=0))\n",
    "\n",
    "x = np.arange(0, image.width-squaresize, squaresize)    \n",
    "y = np.arange(0, image.height-squaresize, squaresize)\n",
    "for j in range(0,ysquares):\n",
    "    t = ysplines[j](x)\n",
    "    b = ysplines[j+1](x)\n",
    "    h = np.random.randint(0, 5, (xsquares))*60 + np.random.randint(0, 10, (xsquares))\n",
    "    l = np.random.randint(20, 50, (xsquares))\n",
    "    for i in range(0, xsquares):\n",
    "        drawing.polygon(\n",
    "            [\n",
    "                xsplines[i](t[i]), ysplines[j](xsplines[i](t[i])), \n",
    "                xsplines[i](b[i]), ysplines[j+1](xsplines[i](b[i])),\n",
    "                xsplines[i+1](b[i]), ysplines[j+1](xsplines[i+1](b[i])),\n",
    "                xsplines[i+1](t[i]), ysplines[j](xsplines[i+1](t[i]))\n",
    "            ]\n",
    "            , fill=\"hsl(\"+str(h[i])+\",50%,\"+str(l[i])+\"%)\"\n",
    "        )\n",
    "    \n",
    "image.save(r\"tarp/tarp\"+str(random.randint(0,1000))+\".png\")\n",
    "image\n",
    "#help(np.arange)"
   ]
  },
  {
   "cell_type": "code",
   "execution_count": null,
   "metadata": {
    "collapsed": true
   },
   "outputs": [],
   "source": []
  }
 ],
 "metadata": {
  "kernelspec": {
   "display_name": "Python [default]",
   "language": "python",
   "name": "python3"
  },
  "language_info": {
   "codemirror_mode": {
    "name": "ipython",
    "version": 3
   },
   "file_extension": ".py",
   "mimetype": "text/x-python",
   "name": "python",
   "nbconvert_exporter": "python",
   "pygments_lexer": "ipython3",
   "version": "3.5.2"
  }
 },
 "nbformat": 4,
 "nbformat_minor": 0
}
