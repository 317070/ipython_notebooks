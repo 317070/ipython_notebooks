{
 "metadata": {
  "name": "",
  "signature": "sha256:5d635064cc47b193fd278420af485245cd3510d865421872b4fd1820cc45ccde"
 },
 "nbformat": 3,
 "nbformat_minor": 0,
 "worksheets": [
  {
   "cells": [
    {
     "cell_type": "markdown",
     "metadata": {},
     "source": [
      "In this notebook I attempt to replicate a logo postmark I received on some junk mail.\n",
      "\n",
      "![postmark](checkerBall postmark.jpg) "
     ]
    },
    {
     "cell_type": "markdown",
     "metadata": {},
     "source": [
      "Standard setup for functional images."
     ]
    },
    {
     "cell_type": "code",
     "collapsed": false,
     "input": [
      "%matplotlib inline  \n",
      "import matplotlib.pyplot as pyplot\n",
      "import numpy as np\n",
      "from math import sqrt\n",
      "import functools\n",
      "def compose2(func_1, func_2): return lambda *args, **kwargs: func_1(*func_2(*args, **kwargs))\n",
      "def compose(*functions): return functools.reduce(compose2, functions)\n",
      "width = height = 200\n",
      "shape=(width,height)\n",
      "def scaleMove(scale, mx, my): return lambda r,c: (scale*(c/shape[0]+mx), scale*(r/shape[0]+my))\n",
      "def show(f, scale=1.0, centreX=0.0, centreY=0.0, cmap='summer'): \n",
      "    pyplot.imshow(np.fromfunction(compose(f, scaleMove(scale*2, centreX-0.5, centreY-0.5)), shape), cmap)"
     ],
     "language": "python",
     "metadata": {},
     "outputs": []
    },
    {
     "cell_type": "markdown",
     "metadata": {},
     "source": [
      "The image consists of alternative regions of color defined by two checkboard patterns, one rotated by 45 degrees.  This is then mapped onto the surface of a ball."
     ]
    },
    {
     "cell_type": "code",
     "collapsed": false,
     "input": [
      "def even(x): return (x/2).round(0)*2==x.round(0)\n",
      "def checker(x,y): return even(x) ^ even(y)\n",
      "def rotate45(x,y): return x+y+0.5,x-y+0.5\n",
      "def distO(x,y): return pow((x*x+y*y),0.5)\n",
      "def disc(x,y): return distO(x,y)<1\n",
      "def toPolar(x,y): return distO(x,y), np.arctan2(y,x)\n",
      "def fromPolar(rho, theta): return rho*np.cos(theta), rho*np.sin(theta)\n",
      "def xor(im1, im2): return lambda x,y: im1(x,y) ^ im2(x,y)\n",
      "def both(im1, im2): return lambda x,y: im1(x,y) & im2(x,y)\n",
      "def dualChecker(): return xor(compose(checker,rotate45),checker)\n",
      "def ball(f): \n",
      "    return compose(\n",
      "        f, \n",
      "        fromPolar,\n",
      "        lambda r,t:(2*np.tan(r),t), \n",
      "        toPolar)\n",
      "def checkerBall():\n",
      "    return both(\n",
      "        disc, #crop to unit circle\n",
      "        ball(dualChecker())\n",
      "        )\n",
      "\n",
      "show(checkerBall(), scale=1.1)"
     ],
     "language": "python",
     "metadata": {},
     "outputs": []
    },
    {
     "cell_type": "code",
     "collapsed": false,
     "input": [],
     "language": "python",
     "metadata": {},
     "outputs": []
    }
   ],
   "metadata": {}
  }
 ]
}