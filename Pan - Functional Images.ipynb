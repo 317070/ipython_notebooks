{
 "metadata": {
  "name": "",
  "signature": "sha256:2e67ff382d4e18b015a60531c63d70c0d0a5a1d0b9d888f7a374c8d327b96557"
 },
 "nbformat": 3,
 "nbformat_minor": 0,
 "worksheets": [
  {
   "cells": [
    {
     "cell_type": "markdown",
     "metadata": {},
     "source": [
      "Inspired by http://nbviewer.ipython.org/github/shashi/ijulia-notebooks/blob/master/funcgeo/Functional%20Geometry.ipynb\n",
      "\n",
      "I try an IPython Notebook for http://web.archive.org/web/20100401011117/http://conal.net/papers/functional-images/fop-conal.pdf\n",
      "\n",
      "Pan: \"Functional programming offers its practitioners a sense of beauty of expression.\n",
      "It is a joy to express our ideas with simplicity and generality and then\n",
      "compose them in endless variety. Software used to produce visual beauty,\n",
      "on the other hand, is usually created with imperative languages and generally\n",
      "lacks the sort of \u2018inner beauty\u2019 that we value. When occasionally one gets to\n",
      "combine these two kinds of beauty, the process, and sometimes the result, is\n",
      "a great pleasure. This chapter describes one such combination in an attempt\n",
      "to share this pleasure and inspire others to join in the exploration.\""
     ]
    },
    {
     "cell_type": "code",
     "collapsed": false,
     "input": [
      "%matplotlib inline  \n",
      "from matplotlib.pyplot import imshow\n",
      "import numpy as np\n",
      "from functools import partial"
     ],
     "language": "python",
     "metadata": {},
     "outputs": [],
     "prompt_number": 4
    },
    {
     "cell_type": "code",
     "collapsed": false,
     "input": [
      "def vstrip(x, y): \n",
      "    return abs(x) < 0.3\n",
      "\n",
      "width = height = 50\n",
      "ndarr = np.zeros(shape=(width,height))\n",
      "for r in range(0,height):\n",
      "    for c in range(0,width):\n",
      "        x = c/width -0.5\n",
      "        y = r/height -0.5\n",
      "        ndarr[r,c]=0.5*vstrip(x,y)\n",
      "\n",
      "imshow(ndarr)"
     ],
     "language": "python",
     "metadata": {},
     "outputs": [
      {
       "metadata": {},
       "output_type": "pyout",
       "prompt_number": 5,
       "text": [
        "<matplotlib.image.AxesImage at 0x550c588>"
       ]
      },
      {
       "metadata": {},
       "output_type": "display_data",
       "png": "[encoded data removed]",
       "text": [
        "<matplotlib.figure.Figure at 0x74150b8>"
       ]
      }
     ],
     "prompt_number": 5
    },
    {
     "cell_type": "markdown",
     "metadata": {},
     "source": [
      "As a first example, Figure 7.1 shows an infinitely tall vertical strip of unit\n",
      "width, vstrip, as defined below.3"
     ]
    },
    {
     "cell_type": "code",
     "collapsed": false,
     "input": [
      "def scaleMove(s, mx, my, x, y):\n",
      "    return (s*y+my, s*x+mx)\n",
      "def transform(t, im, x, y):\n",
      "    (xx, yy)=t(x,y)\n",
      "    return im(xx,yy)\n",
      "def show(f, scale=1.0, centreX=0., centreY=0.):\n",
      "    imshow(np.fromfunction(partial(transform, partial(scaleMove,scale*2/width, centreX-1.0, centreY-1.0), f), shape=(width,height)))\n",
      "\n",
      "show(vstrip, centreY=0.0)"
     ],
     "language": "python",
     "metadata": {},
     "outputs": [
      {
       "metadata": {},
       "output_type": "display_data",
       "png": "[encoded data removed]",
       "text": [
        "<matplotlib.figure.Figure at 0x7a10048>"
       ]
      }
     ],
     "prompt_number": 8
    },
    {
     "cell_type": "markdown",
     "metadata": {},
     "source": [
      "For a slightly more complex example, consider the checkered region shown\n",
      "in Figure 7.2. The trick is to take the floor of the pixel coordinates and test\n",
      "whether the sum is even or odd. Whenever x or y passes an integer value, the\n",
      "parity of \u0006x\u0007+\u0006y\u0007 changes.\n",
      "checker :: Region\n",
      "checker (x, y) = even (\u0006x\u0007+\u0006y\u0007)"
     ]
    },
    {
     "cell_type": "code",
     "collapsed": false,
     "input": [
      "def checker(x,y):\n",
      "    print(abs(y))\n",
      "    #print(y)\n",
      "    return int(x+y)\n",
      "\n",
      "shape=3,3\n",
      "print(np.fromfunction(lambda x,y: x+y, shape, dtype=int))\n",
      "#show(checker)\n",
      "#partial(transform, partial(scaleMove,0.5,0,0), checker)\n",
      "#print(width, height)\n",
      "shape=width,height\n",
      "#imshow(np.fromfunction(lambda x,y: checker(x,y), shape))"
     ],
     "language": "python",
     "metadata": {},
     "outputs": [
      {
       "output_type": "stream",
       "stream": "stdout",
       "text": [
        "[[0 1 2]\n",
        " [1 2 3]\n",
        " [2 3 4]]\n"
       ]
      }
     ],
     "prompt_number": 42
    },
    {
     "cell_type": "markdown",
     "metadata": {},
     "source": [
      "compose function from http://stackoverflow.com/questions/8977612/compose-function-and-functional-module"
     ]
    },
    {
     "cell_type": "code",
     "collapsed": false,
     "input": [
      "def scaleMove(s, mx, my, x, y):\n",
      "    return (s*x+mx, s*y+my)\n",
      "def transform(t, im, x, y):\n",
      "    (xx, yy)=t(x,y)\n",
      "    return im(xx,yy)\n",
      "show(partial(transform, partial(scaleMove,2./width, -1.0, -1.0), vstrip))"
     ],
     "language": "python",
     "metadata": {},
     "outputs": [
      {
       "metadata": {},
       "output_type": "display_data",
       "png": "[encoded data removed]",
       "text": [
        "<matplotlib.figure.Figure at 0x506a8d0>"
       ]
      }
     ],
     "prompt_number": 111
    },
    {
     "cell_type": "code",
     "collapsed": false,
     "input": [
      "def compose(func_1, func_2, unpack=False):\n",
      "    \"\"\"\n",
      "    compose(func_1, func_2, unpack=False) -> function\n",
      "\n",
      "    The function returned by compose is a composition of func_1 and func_2.\n",
      "    That is, compose(func_1, func_2)(5) == func_1(func_2(5))\n",
      "    \"\"\"\n",
      "    if not callable(func_1):\n",
      "        raise TypeError(\"First argument to compose must be callable\")\n",
      "    if not callable(func_2):\n",
      "        raise TypeError(\"Second argument to compose must be callable\")\n",
      "\n",
      "    if unpack:\n",
      "        def composition(*args, **kwargs):\n",
      "            return func_1(*func_2(*args, **kwargs))\n",
      "    else:\n",
      "        def composition(*args, **kwargs):\n",
      "            return func_1(func_2(*args, **kwargs))\n",
      "    return composition"
     ],
     "language": "python",
     "metadata": {},
     "outputs": [],
     "prompt_number": 40
    },
    {
     "cell_type": "code",
     "collapsed": false,
     "input": [],
     "language": "python",
     "metadata": {},
     "outputs": [],
     "prompt_number": 41
    },
    {
     "cell_type": "code",
     "collapsed": false,
     "input": [],
     "language": "python",
     "metadata": {},
     "outputs": [],
     "prompt_number": 36
    }
   ],
   "metadata": {}
  }
 ]
}