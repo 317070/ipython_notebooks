{
 "cells": [
  {
   "cell_type": "code",
   "execution_count": 3,
   "metadata": {
    "collapsed": false
   },
   "outputs": [
    {
     "name": "stdout",
     "output_type": "stream",
     "text": [
      "TEMPERATURE at home is 18.81C\n"
     ]
    }
   ],
   "source": [
    "#using http://www.instructables.com/id/Temperature-Monitor-with-ESP8266-IoT/\n",
    "import requests\n",
    "r = requests.get(r'https://www.ic2pro.com/Wire/connector/get?id=930d6623-21f4-4d61-affd-2f370202145d&TEMPERATURE', auth=('terryspitz@xxx','xxx'))\n",
    "print(r.text.replace(',',' at home is ')[:-1]+\"C\")"
   ]
  },
  {
   "cell_type": "code",
   "execution_count": null,
   "metadata": {
    "collapsed": true
   },
   "outputs": [],
   "source": []
  }
 ],
 "metadata": {
  "anaconda-cloud": {},
  "kernelspec": {
   "display_name": "Python [default]",
   "language": "python",
   "name": "python3"
  },
  "language_info": {
   "codemirror_mode": {
    "name": "ipython",
    "version": 3
   },
   "file_extension": ".py",
   "mimetype": "text/x-python",
   "name": "python",
   "nbconvert_exporter": "python",
   "pygments_lexer": "ipython3",
   "version": "3.5.2"
  }
 },
 "nbformat": 4,
 "nbformat_minor": 1
}
