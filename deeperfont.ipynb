{
 "cells": [
  {
   "cell_type": "markdown",
   "metadata": {},
   "source": [
    "# Deeperfont\n",
    "*[Website](http://nbviewer.jupyter.org/github/terryspitz/ipython_notebooks/blob/master/deeperfont.ipynb)*\n",
    "\n",
    "Deeperfont is a Neural Network attempt at the 'Font Problem' - that is, how to capture the essence of a font in such a way as to generalise to unseen glyphs and to allow interpolation between different fonts.  This problem was noted as early as 1979 when Donald Knuth wrote the first version of [MetaFont](https://en.wikipedia.org/wiki/Metafont).\n",
    "\n",
    "For this network initial research suggested the use of [Keras](https://keras.io/) and [Tensorflow](https://www.tensorflow.org/) as best practise for both getting started and long-term research.  \n",
    "\n",
    "As output the network will generate a set of [glyph outlines](https://en.wikipedia.org/wiki/Glyph).  The encoding of outputs has been considered in a number of ways: \n",
    "* raw (x,y) coordinates, for example as expressed in the [TrueType](https://en.wikipedia.org/wiki/TrueType) font file\n",
    "* incremental coordinate changes (dx,dy)\n",
    "* a conversion of these outlines to (angle, distance) pairs for each line as in [Turtle graphics](https://en.wikipedia.org/wiki/Turtle_graphics) (best known for its  use in [Logo](https://en.wikipedia.org/wiki/Logo_(programming_language).)  We do not currently model the bezier curves used in the original glyphs; a future enhancement could use a rendered glyph as the source of font coordinates to train against.\n",
    "\n",
    "Considering the [loss](https://en.wikipedia.org/wiki/Loss_function) or evaluation function we note that the exact sequence of points in the glyph can be varied while generating identical rendered output, for example a line segment can be split into a number of smaller colinear segments.  The network should be free to express its results in any equivalent way.  The evaluation function is therefore required to compare rendered output.  We build an evaluation function in pure Tensorflow using a [scanline algorithm](https://en.wikipedia.org/wiki/Scanline_rendering) to generate a tensor containing the x coordinates of the outline for a set of equi-spaced y line.  The predicted and true outlines are then compared by calculating the difference in these coordinates (or perhaps *visible pixels* in a future enhancement).\n",
    "\n",
    "We would like access to the trained glyph outlines but since the network loss function requires the x coordinates we use a final lambda layer to render the outlines for comparison in the loss function, then use the previous, outline generation layer from the fitted model when making predictions.\n",
    "\n",
    "As input we provide a [one-hot](https://en.wikipedia.org/wiki/One-hot) vector respresenting the individual glyphs to render.  In a future enhancement where we train against multiple fonts, this input could also include a font feature or even font classifications such as serif/sans-serif/script/etc.\n",
    "\n",
    "See also:\n",
    "* [MetaFont](https://en.wikipedia.org/wiki/Metafont)\n",
    "* [Metaflop - interactive MetaFont](http://www.metaflop.com/modulator)\n",
    "* [deepfont](https://erikbern.com/2016/01/21/analyzing-50k-fonts-using-deep-neural-networks.html)\n",
    "* https://arxiv.org/abs/1507.03196\n",
    "* https://pypi.python.org/pypi/FontTools\n"
   ]
  },
  {
   "cell_type": "code",
   "execution_count": 17,
   "metadata": {
    "collapsed": false
   },
   "outputs": [
    {
     "name": "stdout",
     "output_type": "stream",
     "text": [
      "1.13.1\n",
      "1.3.0\n",
      "2.0.6\n"
     ]
    }
   ],
   "source": [
    "from enum import Enum\n",
    "import math\n",
    "import os\n",
    "import glob\n",
    "import xml.etree.ElementTree as ET\n",
    "import numpy as np\n",
    "from PIL import Image, ImageDraw, ImageChops, ImageFont\n",
    "from IPython.display import display\n",
    "from keras.callbacks import TensorBoard\n",
    "import keras.models as models\n",
    "import keras.layers as layers\n",
    "import keras.initializers\n",
    "import keras\n",
    "import tensorflow as tf\n",
    "print(np.__version__)\n",
    "print(tf.__version__)\n",
    "print(keras.__version__)\n",
    "np.set_printoptions(precision=2)"
   ]
  },
  {
   "cell_type": "code",
   "execution_count": 2,
   "metadata": {
    "collapsed": false
   },
   "outputs": [],
   "source": [
    "class Scheme(Enum):\n",
    "    \"\"\"\n",
    "    Enum defining scheme for respresenting the glyph outlines:\n",
    "    XY: the raw (x,y) coordinates\n",
    "    DXDY: incremental coordinate changes (dx,dy)\n",
    "    ANGDIST: a conversion of these outlines to (angle, distance) pairs for each line \n",
    "    \"\"\"\n",
    "    XY = 1\n",
    "    DXDY = 2\n",
    "    ANGDIST = 3\n",
    "\n",
    "def renderGlyphs(gls, max_points_per_line, ygrid, scheme):\n",
    "    '''\n",
    "    Pure tensorflow function\n",
    "    Input: 2D tensor of glyph * outlines (either x,y or angle, distance pairs)\n",
    "    Output: glyph * matrix of sorted x coords for each line per y coording\n",
    "    '''\n",
    "    if scheme == Scheme.XY:\n",
    "        xs = gls[:,::2]\n",
    "        ys = gls[:,1::2]\n",
    "        visible = tf.logical_or(xs[:,1:]>0,ys[:,1:]>0)\n",
    "    elif scheme == Scheme.DXDY:\n",
    "        dxs = gls[:,::2]\n",
    "        dys = gls[:,1::2]\n",
    "        xs = tf.cumsum(dxs, axis=-1)+1e-2\n",
    "        ys = tf.cumsum(dys, axis=-1)+1e-2\n",
    "        visible = tf.logical_or(xs[:,1:]>0,ys[:,1:]>0)\n",
    "    elif scheme == Scheme.ANGDIST:\n",
    "        angles = gls[:,::2]\n",
    "        dists = gls[:,1::2]\n",
    "        visible = dists[:,1:]>0\n",
    "        #turn angles,dists into coordinates\n",
    "        xs = tf.cumsum(tf.abs(dists)*tf.cos(angles*math.pi), axis=-1)+1e-2\n",
    "        ys = tf.cumsum(tf.abs(dists)*tf.sin(angles*math.pi), axis=-1)+1e-2\n",
    "    #offset to create line start x1,y1 to end x2,y2\n",
    "    x1s = xs[:,:-1]\n",
    "    x2s = xs[:,1:]\n",
    "    y1s = ys[:,:-1]\n",
    "    y2s = ys[:,1:]\n",
    "    #add 3rd dimension (size=1) so following interpolation in y is broadcast across all lines\n",
    "    xx1s=tf.expand_dims(x1s,-1)\n",
    "    xx2s=tf.expand_dims(x2s,-1)\n",
    "    yy1s=tf.expand_dims(y1s,-1)\n",
    "    yy2s=tf.expand_dims(y2s,-1)\n",
    "    #interpolate the x coords for all lines at all y coord\n",
    "    xxs = xx1s + (xx2s-xx1s)*(ygrid-yy1s)/(yy2s-yy1s)\n",
    "    #zero x coords outside of line y bounds or where dy=0 and for hidden lines\n",
    "    in_range = tf.logical_or(tf.logical_and(yy1s<ygrid, ygrid<=yy2s), tf.logical_and(yy2s<ygrid, ygrid<=yy1s))\n",
    "    in_range = tf.logical_and(in_range, yy2s!=yy1s)\n",
    "    in_range = tf.logical_and(in_range, tf.expand_dims(visible,-1))\n",
    "    xxs = tf.where(in_range, xxs, tf.zeros_like(xxs)) \n",
    "    return tf.nn.top_k(tf.transpose(xxs, perm=(0,2,1)),max_points_per_line).values"
   ]
  },
  {
   "cell_type": "code",
   "execution_count": 3,
   "metadata": {
    "collapsed": false
   },
   "outputs": [],
   "source": [
    "#Read Font outlines from local font files and write outlines to file for fitting\n",
    "from fontTools.ttLib import TTFont  #pip install fonttools\n",
    "\n",
    "def GetCoordinates(font, glyphName):\n",
    "    \"\"\"font, glyphName --> glyph coordinates as expected by \"gvar\" table\n",
    "    The result includes four \"phantom points\" for the glyph metrics,\n",
    "    as mandated by the \"gvar\" spec.\n",
    "    Function from https://github.com/fonttools/fonttools/blob/master/Snippets/interpolate.py\n",
    "    By inspection coords[0] are all points, and coords[1] are the end of the ranges for each contour (shape)\n",
    "    \"\"\"\n",
    "    glyphTable = font[\"glyf\"]\n",
    "    glyph = glyphTable.glyphs.get(glyphName)\n",
    "    if glyph is None:\n",
    "        return None\n",
    "    glyph.expand(glyphTable)\n",
    "    glyph.recalcBounds(glyphTable)\n",
    "    coords = glyph.getCoordinates(glyphTable)\n",
    "    start=0\n",
    "    contours = []\n",
    "    for end in coords[1]:\n",
    "        contours.append(coords[0][start:end+1])\n",
    "        start=end+1\n",
    "    return contours\n",
    "\n",
    "def readFonts(glyphs, max_points_per_line, ygrid):\n",
    "    glyphinputs = np.identity(len(glyphs), dtype=float)  #input is one-hot vec, one per glyph\n",
    "    files = glob.glob('deeper/*.ttf')\n",
    "    fontvec = np.identity(len(files), dtype=float)  #one-hot vec, one per file\n",
    "    inputs = []\n",
    "    outlines = []\n",
    "    for i, fontfile in enumerate(files):\n",
    "        fontvec = np.zeros(len(files))\n",
    "        fontvec[i]=1\n",
    "        inputs.append(np.concatenate(glyphinputs, fontvec))\n",
    "        outlines.append(generateOutlines(fontfile, glyphs, max_points_per_line, ygrid))\n",
    "    return np.stack(inputs), np.stack(outlines)\n",
    "\n",
    "def generateOutlines(fontfile, glyphs, max_points_per_line, ygrid):\n",
    "    \"\"\"\n",
    "    Read the actual points from all glyphs in the font into numpy array.\n",
    "    Output is array of glyphs x points x 2 (angle in radians, distance).\n",
    "    We use float not the original ints from the font - according to https://github.com/fchollet/keras/issues/2218.\n",
    "    \"\"\"\n",
    "    font = TTFont(fontfile)\n",
    "    unitsPerEm = font['head'].unitsPerEm * 0.9\n",
    "    def angleDist(p1, p2, hidden=False):\n",
    "        \"\"\"Given two point tuples return the angle scaled to [-1,1], and distance scaled similarly\"\"\"\n",
    "        dx = p2[0]-p1[0]\n",
    "        dy = p2[1]-p1[1]\n",
    "        return math.atan2(dy,dx)/math.pi, math.sqrt(dx**2 + dy**2) * (-1 if hidden else 1) / unitsPerEm  #negative distance means hidden\n",
    "    numglyphs = len(glyphs)\n",
    "    outlines = np.zeros((numglyphs, 200), np.float32)\n",
    "    Y = np.zeros((numglyphs, len(ygrid),max_points_per_line), np.float32)\n",
    "    for i, letter in enumerate(glyphs):\n",
    "        contours = GetCoordinates(font, letter)\n",
    "        outline = []\n",
    "        startp = (0,0.1)\n",
    "        #ttx contours are areas within the glyph, like the outside and inside outlines of an O\n",
    "        for xy in contours:\n",
    "            #fill output matrix, start with hidden line to start position\n",
    "            outline += angleDist(startp, xy[0], hidden=True)\n",
    "            startp = xy[0]\n",
    "            #then between points\n",
    "            for n in range(len(xy)-1):\n",
    "                outline += angleDist(xy[n],xy[n+1])\n",
    "            #finally wrap last point to first in contour\n",
    "            N=len(xy)-1\n",
    "            outline += angleDist(xy[N],xy[0])\n",
    "        if len(outline)>outlines.shape[1]: print(\"outline for \"+letter+\" has too many points: \",len(outline))\n",
    "        outlines[i,:len(outline)] = np.array(outline[:outlines.shape[1]], dtype=np.float32)\n",
    "    return outlines"
   ]
  },
  {
   "cell_type": "code",
   "execution_count": 4,
   "metadata": {
    "collapsed": false
   },
   "outputs": [],
   "source": [
    "def drawOutlines(outlines, cellsize, scheme):\n",
    "    \"\"\"Draw numpy array interpreted as a glyph per row and each row containing x,y or angle,dist pairs.\"\"\"\n",
    "    columns = math.ceil(800/cellsize)\n",
    "    rows = math.ceil(outlines.shape[0]/columns)\n",
    "    def drawPoints(im, points, cellx, celly):\n",
    "        #temporary image to use to xor each part with main image\n",
    "        im2 = Image.new('1', size=(columns*cellsize, rows*cellsize), color=(0)) \n",
    "        draw = ImageDraw.Draw(im2) \n",
    "        draw.polygon(points, fill=1)\n",
    "        im = ImageChops.logical_xor(im, im2)\n",
    "        return im\n",
    "    scale = cellsize * 0.9\n",
    "    im = Image.new('1', size=(columns*cellsize, rows*cellsize), color=(0)) \n",
    "    for i in range(outlines.shape[0]):\n",
    "        celly,cellx = divmod(i, columns)\n",
    "        cellx *= cellsize\n",
    "        celly *= cellsize\n",
    "        points = []\n",
    "        x,y=(0,cellsize-1)\n",
    "        for j in range(0, outlines.shape[1], 2):\n",
    "            if scheme == Scheme.XY:\n",
    "                x = outlines[i][j]*scale\n",
    "                y = -outlines[i][j+1]*scale\n",
    "                visible = x>0 or y>0\n",
    "            elif scheme == Scheme.DXDY:\n",
    "                x += outlines[i][j]*scale\n",
    "                y -= outlines[i][j+1]*scale\n",
    "                visible = x>0 or y>0\n",
    "            elif scheme == Scheme.ANGDIST:\n",
    "                angle = outlines[i][j]\n",
    "                dist = outlines[i][j+1]\n",
    "                x += abs(dist)*math.cos(angle*math.pi)*scale\n",
    "                y -= abs(dist)*math.sin(angle*math.pi)*scale\n",
    "                visible = dist>0\n",
    "            if visible:\n",
    "                points += (cellx+x,celly+y)\n",
    "            elif len(points)>2:\n",
    "                im = drawPoints(im, points, cellx, celly)\n",
    "                points=[]\n",
    "        if len(points)>2:\n",
    "            im = drawPoints(im, points, cellx, celly)\n",
    "    return im\n",
    "\n",
    "def drawXYs(xxs, ygrid, cellsize):\n",
    "    '''Draw a glyph rasterisation based on a input y coord array with array of x-intercepts of lines with the y coord'''\n",
    "    columns = math.ceil(800/cellsize)\n",
    "    rows = math.ceil(xxs.shape[0]/columns)\n",
    "    scale = cellsize * 0.9\n",
    "    im = Image.new('1', size=(columns*cellsize, rows*cellsize), color=(0)) \n",
    "    draw = ImageDraw.Draw(im) \n",
    "    for i in range(xxs.shape[0]):\n",
    "        yy,xx = divmod(i, columns)\n",
    "        xx *= cellsize\n",
    "        yy = (yy+1)*cellsize-1\n",
    "        for xs, y in zip(xxs[i], ygrid):\n",
    "            for x in xs:\n",
    "                if x>0.0:\n",
    "                    draw.ellipse((xx+x*scale, yy-y*scale, xx+x*scale+3, yy-y*scale+3), fill=1)\n",
    "    return im"
   ]
  },
  {
   "cell_type": "code",
   "execution_count": 5,
   "metadata": {
    "collapsed": false
   },
   "outputs": [
    {
     "name": "stdout",
     "output_type": "stream",
     "text": [
      "setup...\n",
      "outline shape:  (62, 200)\n",
      "output shape:  (62, 20, 10)\n"
     ]
    },
    {
     "data": {
      "image/png": "[encoded data removed]",
      "text/plain": [
       "<PIL.Image.Image image mode=1 size=800x200 at 0x217F46DA208>"
      ]
     },
     "metadata": {},
     "output_type": "display_data"
    },
    {
     "data": {
      "image/png": "[encoded data removed]",
      "text/plain": [
       "<PIL.Image.Image image mode=1 size=800x200 at 0x217F4664B38>"
      ]
     },
     "metadata": {},
     "output_type": "display_data"
    }
   ],
   "source": [
    "print('setup...')\n",
    "glyphs = [chr(i) for i in range(ord('A'), ord('Z')+1)]\n",
    "glyphs += [chr(i) for i in range(ord('a'), ord('z')+1)]\n",
    "glyphs += ['zero','one','two','three','four','five','six','seven','eight','nine']\n",
    "#glyphs = ['A','B','a','b','one','two']\n",
    "max_points_per_line = 10 # required for g, m\n",
    "y_divisions = 20\n",
    "ygrid = np.linspace(0.0, 1.0, y_divisions, endpoint=False) #y coordinates to render on\n",
    "#inputs, outlines = readFonts(glyphs, max_points_per_line, ygrid)\n",
    "inputs = np.identity(len(glyphs), dtype=float)  #input is one-hot vec, one per glyph\n",
    "outlines = generateOutlines('deeper/Courier Prime.ttf', glyphs, max_points_per_line, ygrid)\n",
    "print(\"outline shape: \", outlines.shape)\n",
    "scheme = Scheme.ANGDIST\n",
    "with tf.Session() as sess:\n",
    "    xcoords = renderGlyphs(outlines, max_points_per_line, ygrid, scheme).eval()\n",
    "    #print(xcoords)\n",
    "    print(\"output shape: \", xcoords.shape)\n",
    "cellsize = 50\n",
    "display(drawOutlines(outlines, cellsize, scheme), drawXYs(xcoords, ygrid, cellsize))"
   ]
  },
  {
   "cell_type": "code",
   "execution_count": 20,
   "metadata": {
    "collapsed": false
   },
   "outputs": [
    {
     "name": "stdout",
     "output_type": "stream",
     "text": [
      "compile models...\n",
      "79 (4898, 20, 2) \n",
      "\n",
      "model.output_shape (None, 2)\n",
      "_________________________________________________________________\n",
      "Layer (type)                 Output Shape              Param #   \n",
      "=================================================================\n",
      "lstm_7 (LSTM)                (None, 20, 20)            1840      \n",
      "_________________________________________________________________\n",
      "lstm_8 (LSTM)                (None, 20)                3280      \n",
      "_________________________________________________________________\n",
      "outlines (Dense)             (None, 2)                 42        \n",
      "=================================================================\n",
      "Total params: 5,162\n",
      "Trainable params: 5,162\n",
      "Non-trainable params: 0\n",
      "_________________________________________________________________\n",
      "model.summary None\n"
     ]
    }
   ],
   "source": [
    "print('compile models...')\n",
    "timesteps = 20\n",
    "#indices = np.zeros(shape=(timesteps, len(inputs)-timesteps), dtype=np.int32)\n",
    "#for i in range(timesteps):\n",
    "#    indices[i,:] = np.arange(i, i+len(inputs)-timesteps)\n",
    "outlines = np.reshape(outlines, (outlines.shape[0], -1, 2))\n",
    "#print(outlines2.shape, outlines2[0][:10])\n",
    "batch_size = outlines.shape[1]-timesteps-1\n",
    "inputs2 = np.stack([r[i:i+timesteps] for r in outlines for i in range(batch_size)])\n",
    "outputs2 = np.stack([r[i+timesteps] for r in outlines for i in range(batch_size)])\n",
    "print(batch_size, inputs2.shape, '\\n')\n",
    "model = models.Sequential()\n",
    "#model.add(layers.Dense(50, input_dim=inputs.shape[1]))\n",
    "#model.add(layers.Lambda(lambda inputs: tf.gather(inputs, indices, axis=1), name='gather'))\n",
    "model.add(layers.LSTM(20, input_shape=(timesteps, 2), dropout=0.1, return_sequences=True))\n",
    "model.add(layers.LSTM(20, input_shape=(timesteps, 10), dropout=0.1, recurrent_dropout=0.1))\n",
    "#model.add(layers.Dense(20))#, activation='relu'))\n",
    "#model.add(layers.Dropout(0.20))\n",
    "#model.add(layers.Dense(100, activation='relu'))\n",
    "model.add(layers.Dense(2, name='outlines'))\n",
    "#scheme = Scheme.ANGDIST\n",
    "#model.add(layers.Lambda(lambda outline: renderGlyphs(outline, max_points_per_line, ygrid, scheme), name='renderGlyph'))\n",
    "print(\"model.output_shape\", model.output_shape)\n",
    "print(\"model.summary\", model.summary())\n",
    "model.compile(loss='mse', optimizer='rmsprop', metrics=['mae'])\n",
    "##grab a model excluding final rendering layer for fitting/predicting outlines only\n",
    "#outlines_model = models.Model(inputs=model.input, outputs=model.get_layer('outlines').output)\n",
    "#outlines_model.compile(loss='mse', optimizer='rmsprop', metrics=['mae'])\n",
    "#print(\"outlines_model.output_shape\", outlines_model.output_shape)"
   ]
  },
  {
   "cell_type": "code",
   "execution_count": null,
   "metadata": {
    "collapsed": false
   },
   "outputs": [
    {
     "name": "stdout",
     "output_type": "stream",
     "text": [
      "fitting model...\n",
      "view using:\n",
      "tensorboard --logdir=C:\\src\\Repos\\ipython_notebooks\\logs\n"
     ]
    }
   ],
   "source": [
    "print('fitting model...')\n",
    "epochs=100\n",
    "logs = 'logs/deeperlstm20'\n",
    "print('view using:\\ntensorboard --logdir='+os.path.abspath('logs'))\n",
    "board = TensorBoard(log_dir=logs)#, histogram_freq=10000)\n",
    "model.fit(inputs2, outputs2, batch_size=batch_size, epochs=epochs, verbose=2, callbacks=[board])\n",
    "scores = model.evaluate(inputs2, outputs2, verbose=0)\n",
    "print(\"%s: %.2f%%\" % (model.metrics_names[0], scores[0]*100))\n",
    "print(\"%s: %.2f%%\" % (model.metrics_names[1], scores[1]*100))"
   ]
  },
  {
   "cell_type": "code",
   "execution_count": 8,
   "metadata": {
    "collapsed": false
   },
   "outputs": [
    {
     "name": "stdout",
     "output_type": "stream",
     "text": [
      "predict outlines...\n"
     ]
    }
   ],
   "source": [
    "print('predict outlines...')\n",
    "newoutlines = np.zeros_like(outlines)\n",
    "for g in range(len(glyphs)):\n",
    "    newoutput = np.zeros_like(outlines[g])\n",
    "    newoutput[0:timesteps] = outlines[g][0:timesteps] #start with existing\n",
    "    for i in range(batch_size):\n",
    "        newoutput[i+timesteps+1] = np.reshape(model.predict(np.reshape(newoutput[i:i+timesteps], (1, timesteps, 2)), verbose=0), (2))\n",
    "    newoutlines[g] = newoutput"
   ]
  },
  {
   "cell_type": "code",
   "execution_count": 9,
   "metadata": {
    "collapsed": false
   },
   "outputs": [
    {
     "name": "stdout",
     "output_type": "stream",
     "text": [
      "[ 0.42 -0.59  1.    0.07  1.    0.02  0.74  0.02  0.5   0.02  0.5   0.02\n",
      "  0.26  0.02  0.    0.02  0.    0.27  0.    0.05 -0.1   0.08 -0.24  0.07\n",
      " -0.38  0.07 -0.5   0.04 -0.5   0.04 -0.67  0.07 -0.83  0.04 -0.1   0.06\n",
      " -0.29  0.1  -0.5   0.06 -0.5   0.04 -0.62  0.07 -0.77  0.07 -0.9   0.08\n",
      "  1.    0.05  1.    0.31  1.    0.02  0.74  0.02  0.5   0.02  0.5   0.02\n",
      "  0.26  0.02  0.    0.02  0.    0.07  0.5   0.5  -0.36 -0.55  0.    0.07\n",
      "  0.22  0.09  0.5   0.05  0.5   0.11  1.    0.14  1.    0.15 -0.5   0.22\n",
      "  0.    0.14  0.53 -0.3   0.    0.06  0.22  0.08  0.5   0.05  0.5   0.05\n",
      "  0.78  0.08  1.    0.06  1.    0.11 -0.5   0.2   0.    0.11  0.    0.    0.\n",
      "  0.    0.    0.    0.    0.    0.    0.    0.    0.    0.    0.  ]\n",
      "[ 0.42 -0.59  1.    0.07  1.    0.02  0.74  0.02  0.5   0.02  0.5   0.02\n",
      "  0.26  0.02  0.    0.02  0.    0.27  0.    0.05 -0.1   0.08 -0.24  0.07\n",
      " -0.38  0.07 -0.5   0.04 -0.5   0.04 -0.67  0.07 -0.83  0.04 -0.1   0.06\n",
      " -0.29  0.1  -0.5   0.06  0.    0.   -0.45  0.01  0.1   0.05 -0.6   0.04\n",
      "  0.41  0.06 -0.57  0.04  0.67  0.07 -0.53  0.07  0.71  0.05 -0.37  0.05\n",
      "  0.7   0.05 -0.31  0.05  0.69  0.04 -0.32  0.04  0.68  0.04 -0.34  0.04\n",
      "  0.68  0.04 -0.35  0.04  0.68  0.04 -0.35  0.04  0.68  0.04 -0.35  0.04\n",
      "  0.68  0.04 -0.35  0.04  0.68  0.04 -0.35  0.04  0.68  0.04 -0.35  0.04\n",
      "  0.68  0.04 -0.35  0.04  0.68  0.04 -0.35  0.04  0.68  0.04 -0.35  0.04\n",
      "  0.68  0.04 -0.35  0.04  0.68  0.04 -0.35  0.04  0.68  0.04 -0.35  0.04]\n"
     ]
    },
    {
     "data": {
      "image/png": "[encoded data removed]",
      "text/plain": [
       "<PIL.Image.Image image mode=1 size=800x200 at 0x217F8B24860>"
      ]
     },
     "execution_count": 9,
     "metadata": {},
     "output_type": "execute_result"
    }
   ],
   "source": [
    "#print(np.concatenate((outlines[0], outlines[2]), axis=1))\n",
    "print(np.reshape(outlines[1,0:60],(-1)))\n",
    "print(np.reshape(newoutlines[1,0:60], (-1)))\n",
    "drawOutlines(np.reshape(newoutlines,(len(glyphs),-1)), cellsize, scheme)"
   ]
  },
  {
   "cell_type": "code",
   "execution_count": null,
   "metadata": {
    "collapsed": false
   },
   "outputs": [],
   "source": [
    "#now, what happens when we predict mixed glyphs?\n",
    "mixed_outlines = model.predict(np.random.random(inputs2.shape), verbose=1)\n",
    "drawOutlines(mixed_outlines, cellsize, scheme)"
   ]
  },
  {
   "cell_type": "code",
   "execution_count": null,
   "metadata": {
    "collapsed": false
   },
   "outputs": [],
   "source": [
    "#what about interpolating between glyphs?  let's try gradually mixing A into B\n",
    "#need array [[1, 0, ...], [1, 0.1, ...]]\n",
    "A = inputs[0]\n",
    "B = inputs[1]\n",
    "steps=12\n",
    "mix = np.array([A*(steps-i)/steps + i*B/steps for i in range(steps+1)])\n",
    "#print(mix[:3])\n",
    "interp = outlines_model.predict(mix, verbose=1)\n",
    "drawOutlines(interp, cellsize, scheme)\n",
    "#not very convincing :(, perhaps raw points rather than angle, dist pairs for the outline would be better\n",
    "#also need to try interpolating A between two fonts"
   ]
  }
 ],
 "metadata": {
  "anaconda-cloud": {},
  "kernelspec": {
   "display_name": "Python [default]",
   "language": "python",
   "name": "python3"
  },
  "language_info": {
   "codemirror_mode": {
    "name": "ipython",
    "version": 3
   },
   "file_extension": ".py",
   "mimetype": "text/x-python",
   "name": "python",
   "nbconvert_exporter": "python",
   "pygments_lexer": "ipython3",
   "version": "3.5.2"
  }
 },
 "nbformat": 4,
 "nbformat_minor": 1
}
