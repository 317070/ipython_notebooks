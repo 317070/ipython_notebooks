{
 "cells": [
  {
   "cell_type": "markdown",
   "metadata": {},
   "source": [
    "# Deeperfont\n",
    "*[Website](http://nbviewer.jupyter.org/github/terryspitz/ipython_notebooks/blob/master/deeperfont.ipynb)*\n",
    "\n",
    "Deeperfont is a Neural Network attempt at the 'Font Problem' - how to capture the essence of a font in such a way as to generalise to unseen letters and to allow interpolation between different fonts.\n",
    "\n",
    "Initial research suggested the use of [Keras](https://keras.io/) and [Tensorflow](https://www.tensorflow.org/) as best practise for both getting started and long-term research.  As output the network will generate a set of font outlines or [glyphs](https://en.wikipedia.org/wiki/Glyph).  The encoding of outputs has been considered in two ways: raw (x,y) coordinates, as expressed in the TTF font glyphs, or a conversion of these outlines to (angle, distance) pairs as in [Turtle graphics](https://en.wikipedia.org/wiki/Turtle_graphics) (best known for it's  use in [Logo](https://en.wikipedia.org/wiki/Logo_(programming_language).)\n",
    "\n",
    "Considering the evaluation function we note that the exact sequence of points in the glyph can be varied while generating identical rendered output, for example a line segment can be split into a number of smaller colinear segments.  The network should be free to express its results in any equivalent way.  The evaluation function is therefore required to compare rendered output.  We build an evaluation function in pure Tensorflow using a [scanline algorithm](https://en.wikipedia.org/wiki/Scanline_rendering) to generate a tensor containing the x coordinates of the outline for a set of equi-spaced y line.  The predicted and true outlines are then compared by calculating the difference in visible pixels.\n",
    "\n",
    "While the network will output the outline into the Y variable, the Y_true will store a rendered outline to be consumed directly by the evaluation function.\n",
    "\n",
    "As input we provide the letter to render, in the form of a [one-hot](https://en.wikipedia.org/wiki/One-hot) vector.\n",
    "\n",
    "See also:\n",
    "* [MetaFont](https://en.wikipedia.org/wiki/Metafont)\n",
    "* [Metaflop - interactive MetaFont](http://www.metaflop.com/modulator)\n",
    "* [deepfont](https://erikbern.com/2016/01/21/analyzing-50k-fonts-using-deep-neural-networks.html)\n",
    "* https://arxiv.org/abs/1507.03196\n",
    "* https://pypi.python.org/pypi/FontTools\n"
   ]
  },
  {
   "cell_type": "code",
   "execution_count": null,
   "metadata": {
    "collapsed": false
   },
   "outputs": [],
   "source": [
    "import numpy as np\n",
    "import math\n",
    "import xml.etree.ElementTree as ET\n",
    "from PIL import Image, ImageDraw, ImageChops, ImageFont\n",
    "from keras.models import Sequential\n",
    "from keras.layers import Dense\n",
    "from keras.layers import LSTM\n",
    "from keras.layers import SimpleRNN\n",
    "from keras import backend as K\n",
    "import tensorflow as tf"
   ]
  },
  {
   "cell_type": "code",
   "execution_count": null,
   "metadata": {
    "collapsed": true
   },
   "outputs": [],
   "source": [
    "def renderGlyph(gl, max_points_per_line, ygrid):\n",
    "    '''\n",
    "    take 1D list of (angle, distance) representing 'logo' lines outlining glyph \n",
    "    turn into sorted list of x coords for each line crossing y grid\n",
    "    '''\n",
    "    angles = gl[::2]\n",
    "    dists = gl[1::2]\n",
    "\n",
    "    linexs = tf.cumsum(tf.abs(dists)*tf.cos(angles*math.pi))+1\n",
    "    x1s = linexs[:-1]\n",
    "    x2s = linexs[1:]\n",
    "    lineys = tf.cumsum(tf.abs(dists)*tf.sin(angles*math.pi))+1\n",
    "    y1s = lineys[:-1]\n",
    "    y2s = lineys[1:]\n",
    "\n",
    "    xx1s=tf.expand_dims(x1s,-1)\n",
    "    xx2s=tf.expand_dims(x2s,-1)\n",
    "    yy1s=tf.expand_dims(y1s,-1)\n",
    "    yy2s=tf.expand_dims(y2s,-1)\n",
    "\n",
    "    #interpolate the x coords at this y coord\n",
    "    xxs = (ygrid-yy1s)/(yy2s-yy1s)*(xx2s-xx1s)+xx1s  \n",
    "    in_range = tf.logical_or(tf.logical_and(yy1s<ygrid, ygrid<=yy2s), tf.logical_and(yy2s<ygrid, ygrid<=yy1s))\n",
    "    filteredxxs = tf.cast(in_range, tf.float32) * xxs * tf.expand_dims(tf.sign(dists[1:]),-1)\n",
    "    return tf.nn.top_k(tf.transpose(xxs),max_points_per_line).values\n",
    "\n",
    "def drawGlyph(xxs, ygrid):\n",
    "    '''Draw a glyph rasterisation based on a input y coord array with array of x-intercepts of lines with the y coord'''\n",
    "    size = 500\n",
    "    im = Image.new('1', size=(size, size), color=(0)) \n",
    "    draw = ImageDraw.Draw(im) \n",
    "    for xs, y in zip(xxs, ygrid):\n",
    "        for x in xs:\n",
    "            print(x,y)\n",
    "            if x>0.0:\n",
    "                draw.ellipse((x*size, y*size, x*size+10, y*size+10), fill=1)\n",
    "    return im"
   ]
  },
  {
   "cell_type": "code",
   "execution_count": 9,
   "metadata": {
    "collapsed": false
   },
   "outputs": [],
   "source": [
    "def readFont(ttx, letters):\n",
    "    \"\"\"Given an XML TTX file, calculates the max number of points across all letters of interest, plus 1 per contour (outline)\"\"\"\n",
    "    \n",
    "    numletters = len(letters)\n",
    "    points = np.zeros(numletters, int)\n",
    "    contours = np.zeros(numletters, int)\n",
    "    outputdim = 0\n",
    "    \n",
    "    #read overall ranges\n",
    "    for i in range(0, numletters):\n",
    "        glyph = ttx.find(r\".//TTGlyph[@name='\"+letters[i]+\"']\")\n",
    "        #xMin[i] = int(glyph.get('xMin'))\n",
    "        #xMax[i] = int(glyph.get('xMax'))\n",
    "        #yMin[i] = int(glyph.get('yMin'))\n",
    "        #yMax[i] = int(glyph.get('yMax'))\n",
    "        for contour in glyph.iterfind('contour'):\n",
    "            points[i] += len(list(contour.iterfind('pt')))\n",
    "            contours[i]+=1\n",
    "        outputdim = max(outputdim, points[i]+contours[i])\n",
    "\n",
    "    print('points min/max/avg:', points.min(), points.max(), points.mean())\n",
    "    print('contours min/max/avg:', contours.min(), contours.max(), contours.mean())\n",
    "\n",
    "    return outputdim\n",
    "\n",
    "def angleDist(p1,p2, hidden):\n",
    "    \"\"\"Given two point tuples return the angle scaled to [-1,1], and distance scaled similarly\"\"\"\n",
    "    dx = p2[0]-p1[0]\n",
    "    dy = p2[1]-p1[1]\n",
    "    maxDim = 1500\n",
    "    return math.atan2(dy,dx)/math.pi, math.sqrt(dx**2 + dy**2) * (-1 if hidden else 1) / maxDim  #negative distance means hidden\n",
    "\n",
    "def generateTrueOutput(ttx, letters, max_points_per_line, ygrid):\n",
    "    \"\"\"\n",
    "    Read the actual points from all letters in the font into numpy array.\n",
    "    Output is array of letters x points x 2 (angle in radians, distance).\n",
    "    We use float according to https://github.com/fchollet/keras/issues/2218.\n",
    "    \"\"\"\n",
    "    \n",
    "    numletters = len(letters)\n",
    "    Y = np.zeros((numletters, len(ygrid)*max_points_per_line), np.float32)\n",
    "    outline = []\n",
    "    for i, l in enumerate(letters):\n",
    "        glyph = ttx.find(r\".//TTGlyph[@name='\"+l+\"']\")\n",
    "        p=0 #point count across all contours (shapes)\n",
    "        startp = (0,0)\n",
    "\n",
    "        #ttx contours are areas within the letter, like the outside and inside of an O\n",
    "        for contour in glyph.iterfind('contour'):\n",
    "            pts = contour.iterfind('pt')\n",
    "            xy = [(int(pt.get('x')), int(pt.get('y'))) for pt in pts] #should read the ttx 'on' attribute too for bezier control points\n",
    "            #fill output matrix, start with hidden line to start position\n",
    "            outline += angleDist(startp, xy[0], True)\n",
    "            startp = xy[0]\n",
    "            p+=2\n",
    "            #then between points\n",
    "            for n in range(len(xy)-1):\n",
    "                outline += angleDist(xy[n],xy[n+1], False)\n",
    "                p+=2\n",
    "            #finally wrap last point to first in contour\n",
    "            N=len(xy)-1\n",
    "            outline += angleDist(xy[N],xy[0], False)\n",
    "            p+=2\n",
    "        print(outline)\n",
    "        xxs = renderGlyph(np.array(outline, dtype=np.float32), max_points_per_line, ygrid)\n",
    "        Y[i] = xxs.eval().flatten()\n",
    "    return Y\n",
    "\n",
    "def setupInputOutputRender(ttx, letters, outputdim):\n",
    "    \"\"\"\n",
    "    Generate target output by rendering each glyph and reading X coords of the outline.\n",
    "    Target Output is matrix of x coords of outline for each y coord\n",
    "    We use float not int according to https://github.com/fchollet/keras/issues/2218.\n",
    "    \"\"\"\n",
    "    numletters = len(letters)\n",
    "    Y = np.zeros((numletters, outputdim*2), np.float32)\n",
    "    for i, letter in enumerate(letters):\n",
    "        im = Image.new('1', size=(cellsize, cellsize), color=(0)) \n",
    "        draw = ImageDraw.Draw(im) \n",
    "        fnt = ImageFont.truetype('deeper/Quicksand-Bold.otf', cellsize)\n",
    "        draw.text((10,10), letter, font=fnt, fill=1)\n",
    "        im = ImageChops.logical_xor(im,  ImageChops.offset(im, 1, 0))\n",
    "        print(im.tobytes())\n",
    "        Y[i] = np.fromstring(im.tobytes())\n",
    "    \n",
    "    return Y\n",
    "\n",
    "def drawAllLetters(Y):\n",
    "    \"\"\"Draw numpy array interpreted as a letter per row and each row containing (angle, dist) pairs.\"\"\"\n",
    "    columns = 13\n",
    "    rows = math.ceil(Y.shape[0]/columns)\n",
    "    def drawPoints(im, points):\n",
    "        #temporary image to use to xor each part with main image\n",
    "        im2 = Image.new('1', size=(columns*cellsize, rows*cellsize), color=(0)) \n",
    "        draw = ImageDraw.Draw(im2) \n",
    "        draw.polygon(points, fill=1)\n",
    "        im = ImageChops.logical_xor(im, im2)\n",
    "        return im\n",
    "    scale = cellsize * 0.8\n",
    "    im = Image.new('1', size=(columns*cellsize, rows*cellsize), color=(0)) \n",
    "    for i in range(Y.shape[0]):\n",
    "        y,x = divmod(i, columns)\n",
    "        x *= cellsize\n",
    "        y = (y+1)*cellsize-1\n",
    "        points = []\n",
    "        for j in range(0, Y.shape[1], 2):\n",
    "            angle = Y[i][j]\n",
    "            dist = Y[i][j+1]\n",
    "            x2 = x+ abs(dist)*math.cos(angle*math.pi)*scale\n",
    "            y2 = y- abs(dist)*math.sin(angle*math.pi)*scale\n",
    "            if dist>0:\n",
    "                points += (x2,y2)\n",
    "            elif len(points)>2:\n",
    "                im = drawPoints(im, points)\n",
    "                points=[]\n",
    "            x=x2\n",
    "            y=y2\n",
    "    if len(points)>2:\n",
    "        im = drawPoints(im, points)\n",
    "    return im"
   ]
  },
  {
   "cell_type": "code",
   "execution_count": 10,
   "metadata": {
    "collapsed": false
   },
   "outputs": [
    {
     "name": "stdout",
     "output_type": "stream",
     "text": [
      "setup...\n",
      "[0.0, -0.9606666666666667, 1.0, 0.438, 0.5, 0.015333333333333332, 0.028535436069042946, 0.059572551472040276, 0.178623861896013, 0.02756003547812585, 0.17872898404746992, 0.04883077353927997, 0.5, 0.046, 0.5, 0.027333333333333334, 0.6227065089068241, 0.04964317117635057, 0.6224234830008081, 0.030206695357891177, 0.6229749548783353, 0.16985222335247124, 1.0, 0.29333333333333333, -0.6147055045831687, 0.09831468749773747, -0.6220031334449804, 0.044567053102288715, -0.6236056869845131, 0.07923242882669808, -0.5, 0.042, -0.5, 0.024666666666666667, -0.3484624256493684, 0.04800462940638585, -0.19743154328874657, 0.022939534045447005, -0.19275085295129984, 0.03162277660168379, -0.026032776886126124, 0.04080304999493162, -0.5, 0.015333333333333332, 1.0, 0.2986666666666667, 0.5, 0.015333333333333332, 0.017998334978345167, 0.035389891839965326, 0.16610501021452537, 0.06152145064031641, 0.29616820648624553, 0.042400209643087584, 0.2890466457719422, 0.03467307633052225, 0.3594001179929807, 0.09513031997096287, 0.3822990197755604, 0.09223400192505533, 0.3821534515869205, 0.674357307202775, 0.0, 0.038, -0.37508750387027356, 0.7583098164851737, -0.3756659163780024, 0.08579562278396775, -0.33542361804903437, 0.07822474743398736, -0.20780753684115866, 0.028534579412043595, -0.20483276469913345, 0.02, -0.09465426553125353, 0.043230647564995936, -0.03578666721852797, 0.041595939972817325, -0.5, 0.015333333333333332, 0.7599276300973421, -0.5744500751926915, 0.6225994420133901, 0.3726326758499731, -0.6162156942282131, 0.36970138099703, 0.0, 0.272]\n",
      "[0.0, -0.9606666666666667, 1.0, 0.438, 0.5, 0.015333333333333332, 0.028535436069042946, 0.059572551472040276, 0.178623861896013, 0.02756003547812585, 0.17872898404746992, 0.04883077353927997, 0.5, 0.046, 0.5, 0.027333333333333334, 0.6227065089068241, 0.04964317117635057, 0.6224234830008081, 0.030206695357891177, 0.6229749548783353, 0.16985222335247124, 1.0, 0.29333333333333333, -0.6147055045831687, 0.09831468749773747, -0.6220031334449804, 0.044567053102288715, -0.6236056869845131, 0.07923242882669808, -0.5, 0.042, -0.5, 0.024666666666666667, -0.3484624256493684, 0.04800462940638585, -0.19743154328874657, 0.022939534045447005, -0.19275085295129984, 0.03162277660168379, -0.026032776886126124, 0.04080304999493162, -0.5, 0.015333333333333332, 1.0, 0.2986666666666667, 0.5, 0.015333333333333332, 0.017998334978345167, 0.035389891839965326, 0.16610501021452537, 0.06152145064031641, 0.29616820648624553, 0.042400209643087584, 0.2890466457719422, 0.03467307633052225, 0.3594001179929807, 0.09513031997096287, 0.3822990197755604, 0.09223400192505533, 0.3821534515869205, 0.674357307202775, 0.0, 0.038, -0.37508750387027356, 0.7583098164851737, -0.3756659163780024, 0.08579562278396775, -0.33542361804903437, 0.07822474743398736, -0.20780753684115866, 0.028534579412043595, -0.20483276469913345, 0.02, -0.09465426553125353, 0.043230647564995936, -0.03578666721852797, 0.041595939972817325, -0.5, 0.015333333333333332, 0.7599276300973421, -0.5744500751926915, 0.6225994420133901, 0.3726326758499731, -0.6162156942282131, 0.36970138099703, 0.0, 0.272, 0.0, -0.03266666666666666, 0.5, 0.015333333333333332, 0.016449645189798613, 0.038718356255284275, 0.1156716269628379, 0.05064034403955451, 0.25578681486672206, 0.02593153378503563, 0.25, 0.03016988933062603, 0.4297080194413446, 0.06695935749061184, 0.5, 0.06866666666666667, 0.5, 0.49133333333333334, 0.5, 0.06866666666666667, 0.5702919805586555, 0.06695935749061184, 0.75, 0.03016988933062603, 0.7386366195061821, 0.0264154836748786, 0.889693253503772, 0.051033757890679037, 0.9832622916434259, 0.038052595180880895, 0.5, 0.015333333333333332, 0.0, 0.438, 0.0, 0.06666666666666667, -0.020507699924729308, 0.02070963275601209, -0.02507771365556257, 0.07623647421018367, -0.1720208696226307, 0.05830951894845301, -0.17559723470138278, 0.05088112507491249, -0.3408814987009093, 0.09874996483824972, -0.5, 0.054, -0.5, 0.08733333333333333, -0.7442131851332778, 0.07779460135510691, -0.7393935975944645, 0.02829998036905483, -0.8389509859933804, 0.056399369578824986, -0.8908120885663706, 0.04955356249106168, -0.05256845671125343, 0.064882800323181, -0.10956820980248361, 0.07507033738804932, -0.21296300060610354, 0.03654525352977532, -0.21718810492349722, 0.05497474167490214, -0.3632731376682317, 0.1136583574675537, -0.5, 0.06, -0.5, 0.06066666666666667, -0.6433397373119333, 0.1118133365132363, -0.8039625056941128, 0.05308693080431588, -0.8066887428985093, 0.047898039857829484, -0.9382944629034874, 0.11074093893206592, 1.0, 0.09866666666666667, 1.0, 0.48733333333333334, 0.4009598315109746, -0.9341893693346001, -0.5, 0.396, 0.0, 0.054, 0.0, 0.038, 0.04150866209217987, 0.0410149024407254, 0.04768678600063304, 0.03573358208868639, 0.10388323780100622, 0.045748102571460704, 0.1951899614273091, 0.022010098692292236, 0.2038317935137545, 0.042400209643087584, 0.3621907458065777, 0.08739692341394073, 0.5, 0.048, 0.5, 0.050666666666666665, 0.6255009034917041, 0.09892309021546879, 0.7835782897902284, 0.04029336863003087, 0.7842787505279423, 0.03508719297850871, 0.9284722135577085, 0.07180529228406497, 1.0, 0.07133333333333333, 1.0, 0.062, -0.5, -0.4166666666666667, -0.5, 0.27466666666666667, -0.5, 0.05, -0.4285661657055657, 0.06291087169780576, -0.2951672353008665, 0.02666666666666667, -0.2928990322229499, 0.05613475849338902, 0.0, 0.08266666666666667, 0.0, 0.10733333333333334, 0.24035719672817563, 0.17119839043895502, 0.5, 0.10133333333333333, 0.5, 0.058, 0.6181614435512697, 0.10659372506025964, 0.7820795883481293, 0.042168972268982585, 0.7809566544664657, 0.07767739553935737, 1.0, 0.128, 1.0, 0.11933333333333333]\n"
     ]
    },
    {
     "ename": "TypeError",
     "evalue": "'numpy.float32' object is not iterable",
     "output_type": "error",
     "traceback": [
      "\u001b[0;31m---------------------------------------------------------------------------\u001b[0m",
      "\u001b[0;31mTypeError\u001b[0m                                 Traceback (most recent call last)",
      "\u001b[0;32m<ipython-input-10-0c0d82de1367>\u001b[0m in \u001b[0;36m<module>\u001b[0;34m()\u001b[0m\n\u001b[1;32m     15\u001b[0m     \u001b[1;31m#drawAllLetters(Y)\u001b[0m\u001b[1;33m\u001b[0m\u001b[1;33m\u001b[0m\u001b[0m\n\u001b[1;32m     16\u001b[0m     \u001b[1;31m#xxs = renderGlyph(tf.constant(Y[1]), max_points_per_line, ygrid)\u001b[0m\u001b[1;33m\u001b[0m\u001b[1;33m\u001b[0m\u001b[0m\n\u001b[0;32m---> 17\u001b[0;31m     \u001b[0mim\u001b[0m \u001b[1;33m=\u001b[0m \u001b[0mdrawGlyph\u001b[0m\u001b[1;33m(\u001b[0m\u001b[0mY_true\u001b[0m\u001b[1;33m[\u001b[0m\u001b[1;36m0\u001b[0m\u001b[1;33m]\u001b[0m\u001b[1;33m,\u001b[0m \u001b[0mygrid\u001b[0m\u001b[1;33m)\u001b[0m\u001b[1;33m\u001b[0m\u001b[0m\n\u001b[0m\u001b[1;32m     18\u001b[0m \u001b[0mim\u001b[0m\u001b[1;33m\u001b[0m\u001b[0m\n",
      "\u001b[0;32m<ipython-input-2-77461d23fd2b>\u001b[0m in \u001b[0;36mdrawGlyph\u001b[0;34m(xxs, ygrid)\u001b[0m\n\u001b[1;32m     31\u001b[0m     \u001b[0mdraw\u001b[0m \u001b[1;33m=\u001b[0m \u001b[0mImageDraw\u001b[0m\u001b[1;33m.\u001b[0m\u001b[0mDraw\u001b[0m\u001b[1;33m(\u001b[0m\u001b[0mim\u001b[0m\u001b[1;33m)\u001b[0m\u001b[1;33m\u001b[0m\u001b[0m\n\u001b[1;32m     32\u001b[0m     \u001b[1;32mfor\u001b[0m \u001b[0mxs\u001b[0m\u001b[1;33m,\u001b[0m \u001b[0my\u001b[0m \u001b[1;32min\u001b[0m \u001b[0mzip\u001b[0m\u001b[1;33m(\u001b[0m\u001b[0mxxs\u001b[0m\u001b[1;33m,\u001b[0m \u001b[0mygrid\u001b[0m\u001b[1;33m)\u001b[0m\u001b[1;33m:\u001b[0m\u001b[1;33m\u001b[0m\u001b[0m\n\u001b[0;32m---> 33\u001b[0;31m         \u001b[1;32mfor\u001b[0m \u001b[0mx\u001b[0m \u001b[1;32min\u001b[0m \u001b[0mxs\u001b[0m\u001b[1;33m:\u001b[0m\u001b[1;33m\u001b[0m\u001b[0m\n\u001b[0m\u001b[1;32m     34\u001b[0m             \u001b[0mprint\u001b[0m\u001b[1;33m(\u001b[0m\u001b[0mx\u001b[0m\u001b[1;33m,\u001b[0m\u001b[0my\u001b[0m\u001b[1;33m)\u001b[0m\u001b[1;33m\u001b[0m\u001b[0m\n\u001b[1;32m     35\u001b[0m             \u001b[1;32mif\u001b[0m \u001b[0mx\u001b[0m\u001b[1;33m>\u001b[0m\u001b[1;36m0.0\u001b[0m\u001b[1;33m:\u001b[0m\u001b[1;33m\u001b[0m\u001b[0m\n",
      "\u001b[0;31mTypeError\u001b[0m: 'numpy.float32' object is not iterable"
     ]
    }
   ],
   "source": [
    "print('setup...')\n",
    "letters = [chr(i) for i in range(ord('A'), ord('Z')+1)]\n",
    "letters += [chr(i) for i in range(ord('a'), ord('z')+1)]\n",
    "letters += ['zero','one','two','three','four','five','six','seven','eight','nine']\n",
    "letters = ['A','B']\n",
    "\n",
    "ttx = ET.parse(r'deeper/BASKVILL.ttx') #read font data dumped from TrueType using fonttools\n",
    "#outputdim = readFont(ttx, letters)\n",
    "max_points_per_line = 10\n",
    "ygrid = np.linspace(0.0, 1.0, 10, endpoint=False)\n",
    "with tf.Session() as sess:\n",
    "    X = np.identity(len(letters), dtype=float)  #input is 'one-hot' array, one per letter\n",
    "    Y_true = generateTrueOutput(ttx, letters, max_points_per_line, ygrid)\n",
    "    #print(Y_true)\n",
    "    #drawAllLetters(Y)\n",
    "    #xxs = renderGlyph(tf.constant(Y[1]), max_points_per_line, ygrid)\n",
    "    im = drawGlyph(Y_true[0], ygrid)\n",
    "im"
   ]
  },
  {
   "cell_type": "code",
   "execution_count": null,
   "metadata": {
    "collapsed": true
   },
   "outputs": [],
   "source": [
    "def glyphDiffTF(y_true, y_pred):\n",
    "    return tf.reduce_max(glyph(y_true), axis=0)#-tf.reduce_min(glyph(y_pred, axis=1)) "
   ]
  },
  {
   "cell_type": "code",
   "execution_count": null,
   "metadata": {
    "collapsed": false
   },
   "outputs": [],
   "source": [
    "print('compile model...')\n",
    "model = Sequential()\n",
    "model.add(Dense(100, input_dim=X.shape[1]))#, activation='relu'))\n",
    "#model.add(Dense(600, activation='relu'))\n",
    "#model.add(LSTM(4))#, return_sequences=True))\n",
    "model.add(Dense(outputdim*2))\n",
    "model.compile(loss='mse', optimizer='rmsprop', metrics=['accuracy'])\n",
    "\n",
    "print('fit the model...')\n",
    "model.fit(X, Y_true, epochs=500, batch_size=len(letters), verbose=1)"
   ]
  },
  {
   "cell_type": "code",
   "execution_count": null,
   "metadata": {
    "collapsed": false
   },
   "outputs": [],
   "source": [
    "print('evaluate the model...')\n",
    "scores = model.evaluate(X, Y)\n",
    "print(\"\\n%s: %.2f%%\" % (model.metrics_names[1], scores[1]*100))\n",
    "\n",
    "print('predict...')\n",
    "newY = model.predict(X, verbose=1)\n",
    "\n",
    "print(\"true vs pred:\")\n",
    "print(Y[0][:20])\n",
    "print(newY[0][:20])\n",
    "drawAllLetters(newY)"
   ]
  },
  {
   "cell_type": "code",
   "execution_count": null,
   "metadata": {
    "collapsed": false
   },
   "outputs": [],
   "source": [
    "#now, what happens when we predict mixed letters?\n",
    "newY = model.predict(np.random.random(X.shape), verbose=1)\n",
    "drawAllLetters(newY)"
   ]
  },
  {
   "cell_type": "code",
   "execution_count": null,
   "metadata": {
    "collapsed": false
   },
   "outputs": [],
   "source": [
    "#what about interpolating between letters?  let's try gradually mixing A into B\n",
    "#need array [[1, 0, ...], [1, 0.1, ...]]\n",
    "A = X[0]\n",
    "B = X[1]\n",
    "steps=12\n",
    "mix = np.array([A*(steps-i)/steps + i*B/steps for i in range(steps+1)])\n",
    "#print(mix[:3])\n",
    "newY = model.predict(mix, verbose=1)\n",
    "drawAllLetters(newY)\n",
    "#not very convincing :(, perhaps raw points rather than angle, dist pairs for the outline would be better\n",
    "#also need to try interpolating A between two fonts"
   ]
  },
  {
   "cell_type": "code",
   "execution_count": null,
   "metadata": {
    "collapsed": true
   },
   "outputs": [],
   "source": []
  }
 ],
 "metadata": {
  "anaconda-cloud": {},
  "kernelspec": {
   "display_name": "Python [default]",
   "language": "python",
   "name": "python3"
  },
  "language_info": {
   "codemirror_mode": {
    "name": "ipython",
    "version": 3
   },
   "file_extension": ".py",
   "mimetype": "text/x-python",
   "name": "python",
   "nbconvert_exporter": "python",
   "pygments_lexer": "ipython3",
   "version": "3.5.2"
  }
 },
 "nbformat": 4,
 "nbformat_minor": 1
}
