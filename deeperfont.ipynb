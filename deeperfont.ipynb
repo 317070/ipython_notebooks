{
 "cells": [
  {
   "cell_type": "markdown",
   "metadata": {},
   "source": [
    "# Deeperfont\n",
    "*[Website](http://nbviewer.jupyter.org/github/terryspitz/ipython_notebooks/blob/master/deeperfont.ipynb)*\n",
    "\n",
    "Deeperfont is a Neural Network attempt at the 'Font Problem' - that is, how to capture the essence of a font in such a way as to generalise to unseen glyphs and to allow interpolation between different fonts.  This problem was noted as early as 1979 when Donald Knuth wrote the first version of [MetaFont](https://en.wikipedia.org/wiki/Metafont).\n",
    "\n",
    "For this network initial research suggested the use of [Keras](https://keras.io/) and [Tensorflow](https://www.tensorflow.org/) as best practise for both getting started and long-term research.  \n",
    "\n",
    "As output the network will generate a set of [glyph outlines](https://en.wikipedia.org/wiki/Glyph).  The encoding of outputs has been considered in a number of ways: \n",
    "* raw (x,y) coordinates, for example as expressed in the [TrueType](https://en.wikipedia.org/wiki/TrueType) font file\n",
    "* incremental coordinate changes (dx,dy)\n",
    "* a conversion of these outlines to (angle, distance) pairs for each line as in [Turtle graphics](https://en.wikipedia.org/wiki/Turtle_graphics) (best known for its  use in [Logo](https://en.wikipedia.org/wiki/Logo_(programming_language).)  We do not currently model the bezier curves used in the original glyphs; a future enhancement could use a rendered glyph as the source of font coordinates to train against.\n",
    "\n",
    "Considering the [loss](https://en.wikipedia.org/wiki/Loss_function) or evaluation function we note that the exact sequence of points in the glyph can be varied while generating identical rendered output, for example a line segment can be split into a number of smaller colinear segments.  The network should be free to express its results in any equivalent way.  The evaluation function is therefore required to compare rendered output.  We build an evaluation function in pure Tensorflow using a [scanline algorithm](https://en.wikipedia.org/wiki/Scanline_rendering) to generate a tensor containing the x coordinates of the outline for a set of equi-spaced y line.  The predicted and true outlines are then compared by calculating the difference in these coordinates (or perhaps *visible pixels* in a future enhancement).\n",
    "\n",
    "We would like access to the trained glyph outlines but since the network loss function requires the x coordinates we use a final lambda layer to render the outlines for comparison in the loss function, then use the previous, outline generation layer from the fitted model when making predictions.\n",
    "\n",
    "As input we provide a [one-hot](https://en.wikipedia.org/wiki/One-hot) vector respresenting the individual glyphs to render.  In a future enhancement where we train against multiple fonts, this input could also include a font feature or even font classifications such as serif/sans-serif/script/etc.\n",
    "\n",
    "See also:\n",
    "* [MetaFont](https://en.wikipedia.org/wiki/Metafont)\n",
    "* [Metaflop - interactive MetaFont](http://www.metaflop.com/modulator)\n",
    "* [deepfont](https://erikbern.com/2016/01/21/analyzing-50k-fonts-using-deep-neural-networks.html)\n",
    "* https://arxiv.org/abs/1507.03196\n",
    "* https://pypi.python.org/pypi/FontTools\n"
   ]
  },
  {
   "cell_type": "code",
   "execution_count": 80,
   "metadata": {
    "collapsed": false
   },
   "outputs": [],
   "source": [
    "from enum import Enum\n",
    "import math\n",
    "import os\n",
    "import xml.etree.ElementTree as ET\n",
    "import numpy as np\n",
    "from PIL import Image, ImageDraw, ImageChops, ImageFont\n",
    "from IPython.display import display\n",
    "from keras.callbacks import TensorBoard\n",
    "import keras.models as models\n",
    "import keras.layers as layers\n",
    "import keras.initializers\n",
    "import tensorflow as tf"
   ]
  },
  {
   "cell_type": "code",
   "execution_count": 89,
   "metadata": {
    "collapsed": false
   },
   "outputs": [],
   "source": [
    "class Scheme(Enum):\n",
    "     XY = 1\n",
    "     DXDY = 2\n",
    "     ANGDIST = 3\n",
    "\n",
    "def renderGlyphs(gls, max_points_per_line, ygrid, scheme):\n",
    "    '''\n",
    "    Pure tensorflow function\n",
    "    Input: 2D tensor of glyph * outlines (either x,y or angle, distance pairs)\n",
    "    Output: glyph * matrix of sorted x coords for each line per y coording\n",
    "    '''\n",
    "    if scheme == Scheme.XY:\n",
    "        xs = gls[:,::2]\n",
    "        ys = gls[:,1::2]\n",
    "        visible = tf.logical_or(xs[:,1:]>0,ys[:,1:]>0)\n",
    "    elif scheme == Scheme.DXDY:\n",
    "        dxs = gls[:,::2]\n",
    "        dys = gls[:,1::2]\n",
    "        xs = tf.cumsum(dxs, axis=-1)+1e-2\n",
    "        ys = tf.cumsum(dys, axis=-1)+1e-2\n",
    "        visible = tf.logical_or(xs[:,1:]>0,ys[:,1:]>0)\n",
    "    elif scheme == Scheme.ANGDIST:\n",
    "        angles = gls[:,::2]\n",
    "        dists = gls[:,1::2]\n",
    "        visible = dists[:,1:]>0\n",
    "        #turn angles,dists into coordinates\n",
    "        xs = tf.cumsum(tf.abs(dists)*tf.cos(angles*math.pi), axis=-1)+1e-2\n",
    "        ys = tf.cumsum(tf.abs(dists)*tf.sin(angles*math.pi), axis=-1)+1e-2\n",
    "    #offset to create line start x1,y1 to end x2,y2\n",
    "    x1s = xs[:,:-1]\n",
    "    x2s = xs[:,1:]\n",
    "    y1s = ys[:,:-1]\n",
    "    y2s = ys[:,1:]\n",
    "    #add 3rd dimension (size=1) so following interpolation in y is broadcast across all lines\n",
    "    xx1s=tf.expand_dims(x1s,-1)\n",
    "    xx2s=tf.expand_dims(x2s,-1)\n",
    "    yy1s=tf.expand_dims(y1s,-1)\n",
    "    yy2s=tf.expand_dims(y2s,-1)\n",
    "    #interpolate the x coords for all lines at all y coord\n",
    "    xxs = xx1s + (xx2s-xx1s)*(ygrid-yy1s)/(yy2s-yy1s)\n",
    "    #zero x coords outside of line y bounds or where dy=0 and for hidden lines\n",
    "    in_range = tf.logical_or(tf.logical_and(yy1s<ygrid, ygrid<=yy2s), tf.logical_and(yy2s<ygrid, ygrid<=yy1s))\n",
    "    in_range = tf.logical_and(in_range, yy2s!=yy1s)\n",
    "    in_range = tf.logical_and(in_range, tf.expand_dims(visible,-1))\n",
    "    xxs = tf.where(in_range, xxs, tf.zeros_like(xxs)) \n",
    "    return tf.nn.top_k(tf.transpose(xxs, perm=(0,2,1)),max_points_per_line).values"
   ]
  },
  {
   "cell_type": "code",
   "execution_count": 90,
   "metadata": {
    "collapsed": false
   },
   "outputs": [],
   "source": [
    "def angleDist(p1, p2, unitsPerEm, hidden=False):\n",
    "    \"\"\"Given two point tuples return the angle scaled to [-1,1], and distance scaled similarly\"\"\"\n",
    "    dx = p2[0]-p1[0]\n",
    "    dy = p2[1]-p1[1]\n",
    "    return math.atan2(dy,dx)/math.pi, math.sqrt(dx**2 + dy**2) * (-1 if hidden else 1) / unitsPerEm  #negative distance means hidden\n",
    "\n",
    "def generateOutlines(ttx, glyphs, max_points_per_line, ygrid):\n",
    "    \"\"\"\n",
    "    Read the actual points from all glyphs in the font into numpy array.\n",
    "    Output is array of glyphs x points x 2 (angle in radians, distance).\n",
    "    We use float according to https://github.com/fchollet/keras/issues/2218.\n",
    "    \"\"\"\n",
    "    unitsPerEm = int(ttx.find('head/unitsPerEm').get('value'))*0.9\n",
    "    numglyphs = len(glyphs)\n",
    "    outlines = np.zeros((numglyphs, 200), np.float32)\n",
    "    Y = np.zeros((numglyphs, len(ygrid),max_points_per_line), np.float32)\n",
    "    for i, l in enumerate(glyphs):\n",
    "        glyph = ttx.find(r\".//TTGlyph[@name='\"+l+\"']\")\n",
    "        outline = []\n",
    "        startp = (0,0)\n",
    "        #ttx contours are areas within the glyph, like the outside and inside outlines of an O\n",
    "        for contour in glyph.iterfind('contour'):\n",
    "            pts = contour.iterfind('pt')\n",
    "            xy = [(int(pt.get('x')), int(pt.get('y'))) for pt in pts] #should read the ttx 'on' attribute too for bezier control points\n",
    "            #fill output matrix, start with hidden line to start position\n",
    "            outline += angleDist(startp, xy[0], unitsPerEm, hidden=True)\n",
    "            startp = xy[0]\n",
    "            #then between points\n",
    "            for n in range(len(xy)-1):\n",
    "                outline += angleDist(xy[n],xy[n+1], unitsPerEm)\n",
    "            #finally wrap last point to first in contour\n",
    "            N=len(xy)-1\n",
    "            outline += angleDist(xy[N],xy[0], unitsPerEm)\n",
    "        if len(outline)>outlines.shape[1]: print(\"outline for \"+l+\" has too many points: \",len(outline))\n",
    "        outlines[i,:len(outline)] = np.array(outline[:outlines.shape[1]], dtype=np.float32)\n",
    "    return outlines\n",
    "\n",
    "def drawOutlines(outlines, cellsize, scheme):\n",
    "    \"\"\"Draw numpy array interpreted as a glyph per row and each row containing x,y or angle,dist pairs.\"\"\"\n",
    "    columns = math.ceil(800/cellsize)\n",
    "    rows = math.ceil(outlines.shape[0]/columns)\n",
    "    def drawPoints(im, points, cellx, celly):\n",
    "        #temporary image to use to xor each part with main image\n",
    "        im2 = Image.new('1', size=(columns*cellsize, rows*cellsize), color=(0)) \n",
    "        draw = ImageDraw.Draw(im2) \n",
    "        draw.polygon(points, fill=1)\n",
    "        im = ImageChops.logical_xor(im, im2)\n",
    "        return im\n",
    "    scale = cellsize * 0.9\n",
    "    im = Image.new('1', size=(columns*cellsize, rows*cellsize), color=(0)) \n",
    "    for i in range(outlines.shape[0]):\n",
    "        celly,cellx = divmod(i, columns)\n",
    "        cellx *= cellsize\n",
    "        celly *= cellsize\n",
    "        points = []\n",
    "        x,y=(0,cellsize-1)\n",
    "        for j in range(0, outlines.shape[1], 2):\n",
    "            if scheme == Scheme.XY:\n",
    "                x = outlines[i][j]*scale\n",
    "                y = -outlines[i][j+1]*scale\n",
    "                visible = x>0 or y>0\n",
    "            elif scheme == Scheme.DXDY:\n",
    "                x += outlines[i][j]*scale\n",
    "                y -= outlines[i][j+1]*scale\n",
    "                visible = x>0 or y>0\n",
    "            elif scheme == Scheme.ANGDIST:\n",
    "                angle = outlines[i][j]\n",
    "                dist = outlines[i][j+1]\n",
    "                x += abs(dist)*math.cos(angle*math.pi)*scale\n",
    "                y -= abs(dist)*math.sin(angle*math.pi)*scale\n",
    "                visible = dist>0\n",
    "            if visible:\n",
    "                points += (cellx+x,celly+y)\n",
    "            elif len(points)>2:\n",
    "                im = drawPoints(im, points, cellx, celly)\n",
    "                points=[]\n",
    "        if len(points)>2:\n",
    "            im = drawPoints(im, points, cellx, celly)\n",
    "    return im\n",
    "\n",
    "\n",
    "def drawXYs(xxs, ygrid, cellsize):\n",
    "    '''Draw a glyph rasterisation based on a input y coord array with array of x-intercepts of lines with the y coord'''\n",
    "    columns = math.ceil(800/cellsize)\n",
    "    rows = math.ceil(xxs.shape[0]/columns)\n",
    "    scale = cellsize * 0.9\n",
    "    im = Image.new('1', size=(columns*cellsize, rows*cellsize), color=(0)) \n",
    "    draw = ImageDraw.Draw(im) \n",
    "    for i in range(xxs.shape[0]):\n",
    "        yy,xx = divmod(i, columns)\n",
    "        xx *= cellsize\n",
    "        yy = (yy+1)*cellsize-1\n",
    "        for xs, y in zip(xxs[i], ygrid):\n",
    "            for x in xs:\n",
    "                if x>0.0:\n",
    "                    draw.ellipse((xx+x*scale, yy-y*scale, xx+x*scale+3, yy-y*scale+3), fill=1)\n",
    "    return im"
   ]
  },
  {
   "cell_type": "code",
   "execution_count": 91,
   "metadata": {
    "collapsed": false
   },
   "outputs": [
    {
     "name": "stdout",
     "output_type": "stream",
     "text": [
      "setup...\n",
      "outline for g has too many points:  204\n",
      "outline shape:  (62, 200)\n",
      "output shape:  (62, 20, 10)\n"
     ]
    },
    {
     "data": {
      "image/png": "[encoded data removed]",
      "text/plain": [
       "<PIL.Image.Image image mode=1 size=800x200 at 0x27FBC4F2F98>"
      ]
     },
     "metadata": {},
     "output_type": "display_data"
    },
    {
     "data": {
      "image/png": "[encoded data removed]",
      "text/plain": [
       "<PIL.Image.Image image mode=1 size=800x200 at 0x27FBF8ACDD8>"
      ]
     },
     "metadata": {},
     "output_type": "display_data"
    }
   ],
   "source": [
    "print('setup...')\n",
    "glyphs = [chr(i) for i in range(ord('A'), ord('Z')+1)]\n",
    "glyphs += [chr(i) for i in range(ord('a'), ord('z')+1)]\n",
    "glyphs += ['zero','one','two','three','four','five','six','seven','eight','nine']\n",
    "#glyphs = ['A','B','a','b','one','two']\n",
    "np.set_printoptions(precision=2)\n",
    "ttx = ET.parse(r'deeper/BASKVILL.ttx') #read font data dumped from TrueType using fonttools\n",
    "max_points_per_line = 10 # required for g, m\n",
    "y_divisions = 20\n",
    "ygrid = np.linspace(0.0, 1.0, y_divisions, endpoint=False) #y coordinates to render on\n",
    "X = np.identity(len(glyphs), dtype=float)  #input is 'one-hot' array, one per glyph\n",
    "outlines = generateOutlines(ttx, glyphs, max_points_per_line, ygrid)\n",
    "print(\"outline shape: \",outlines.shape)\n",
    "scheme = Scheme.ANGDIST\n",
    "with tf.Session() as sess:\n",
    "    xcoords = renderGlyphs(outlines, max_points_per_line, ygrid, scheme).eval()\n",
    "    #print(xcoords)\n",
    "    print(\"output shape: \", xcoords.shape)\n",
    "cellsize = 50\n",
    "display(drawOutlines(outlines, cellsize, scheme), drawXYs(xcoords, ygrid, cellsize))"
   ]
  },
  {
   "cell_type": "code",
   "execution_count": null,
   "metadata": {
    "collapsed": false
   },
   "outputs": [
    {
     "name": "stdout",
     "output_type": "stream",
     "text": [
      "compile model...\n",
      "(None, 20, 10)\n",
      "fitting model...\n",
      "tensorboard --logdir=C:\\src\\Repos\\ipython_notebooks\\logs\n"
     ]
    }
   ],
   "source": [
    "#update modelNum to refit, uses saved model if found\n",
    "modelNum = 3\n",
    "file = \"models/deepermodel\"+str(modelNum)+\".h5\"\n",
    "if os.path.isfile(file):\n",
    "    model = keras.models.load_model(file)\n",
    "    print(\"loaded model\")\n",
    "else:\n",
    "    print('compile model...')\n",
    "    model = models.Sequential()\n",
    "    model.add(layers.Dense(100, input_dim=X.shape[1]))\n",
    "    #model.add(LSTM(4))#, return_sequences=True))\n",
    "    model.add(layers.Dense(100, activation='relu'))\n",
    "    model.add(layers.Dense(200, activation='tanh', name='outlines', bias_initializer=keras.initializers.Constant(0.0)))\n",
    "    scheme = Scheme.DXDY\n",
    "    model.add(layers.Lambda(lambda outline:renderGlyphs(outline, max_points_per_line, ygrid, scheme), name='renderGlyph'))\n",
    "    print(model.output_shape)\n",
    "    model.compile(loss='mse', optimizer='rmsprop', metrics=['mae'])\n",
    "\n",
    "    print('fitting model...')\n",
    "    epochs=1000\n",
    "    logs = 'logs/run'+str(modelNum)\n",
    "    print('tensorboard --logdir='+os.path.abspath('logs'))\n",
    "    board = TensorBoard(log_dir=logs)#, histogram_freq=10000)\n",
    "    model.fit(X, xcoords, batch_size=len(glyphs), epochs=epochs, verbose=0, callbacks=[board])\n",
    "    scores = model.evaluate(X, xcoords, verbose=0)\n",
    "    print(\"%s: %.2f%%\" % (model.metrics_names[0], scores[0]*100))\n",
    "    print(\"%s: %.2f%%\" % (model.metrics_names[1], scores[1]*100))\n",
    "    model.save(file)\n",
    "    print('saved: '+file)"
   ]
  },
  {
   "cell_type": "code",
   "execution_count": null,
   "metadata": {
    "collapsed": false
   },
   "outputs": [],
   "source": [
    "print('predict outlines...')\n",
    "outlines_model = models.Model(inputs=model.input, outputs=model.get_layer('outlines').output)\n",
    "outlines_new = outlines_model.predict(X, verbose=0)\n",
    "print(\"outlines: \",outlines[0])\n",
    "print(\"outlines_new: \",outlines_new[0])\n",
    "xcoords_new = model.predict(X, verbose=0)\n",
    "print(\"xcoords: \",xcoords[0])\n",
    "print(\"xcoords_new: \",xcoords_new[0])\n",
    "display(drawOutlines(outlines_new, cellsize, scheme), drawXYs(xcoords_new, ygrid, cellsize))"
   ]
  },
  {
   "cell_type": "code",
   "execution_count": 20,
   "metadata": {
    "collapsed": false
   },
   "outputs": [
    {
     "name": "stdout",
     "output_type": "stream",
     "text": [
      "\r",
      "32/62 [==============>...............] - ETA: 0s"
     ]
    },
    {
     "ename": "TypeError",
     "evalue": "drawOutlines() missing 1 required positional argument: 'cellsize'",
     "output_type": "error",
     "traceback": [
      "\u001b[0;31m---------------------------------------------------------------------------\u001b[0m",
      "\u001b[0;31mTypeError\u001b[0m                                 Traceback (most recent call last)",
      "\u001b[0;32m<ipython-input-20-97be44d0ffff>\u001b[0m in \u001b[0;36m<module>\u001b[0;34m()\u001b[0m\n\u001b[1;32m      1\u001b[0m \u001b[1;31m#now, what happens when we predict mixed glyphs?\u001b[0m\u001b[1;33m\u001b[0m\u001b[1;33m\u001b[0m\u001b[0m\n\u001b[1;32m      2\u001b[0m \u001b[0mmixed_outlines\u001b[0m \u001b[1;33m=\u001b[0m \u001b[0moutlines_model\u001b[0m\u001b[1;33m.\u001b[0m\u001b[0mpredict\u001b[0m\u001b[1;33m(\u001b[0m\u001b[0mnp\u001b[0m\u001b[1;33m.\u001b[0m\u001b[0mrandom\u001b[0m\u001b[1;33m.\u001b[0m\u001b[0mrandom\u001b[0m\u001b[1;33m(\u001b[0m\u001b[0mX\u001b[0m\u001b[1;33m.\u001b[0m\u001b[0mshape\u001b[0m\u001b[1;33m)\u001b[0m\u001b[1;33m,\u001b[0m \u001b[0mverbose\u001b[0m\u001b[1;33m=\u001b[0m\u001b[1;36m1\u001b[0m\u001b[1;33m)\u001b[0m\u001b[1;33m\u001b[0m\u001b[0m\n\u001b[0;32m----> 3\u001b[0;31m \u001b[0mdrawOutlines\u001b[0m\u001b[1;33m(\u001b[0m\u001b[0mmixed_outlines\u001b[0m\u001b[1;33m)\u001b[0m\u001b[1;33m\u001b[0m\u001b[0m\n\u001b[0m",
      "\u001b[0;31mTypeError\u001b[0m: drawOutlines() missing 1 required positional argument: 'cellsize'"
     ]
    }
   ],
   "source": [
    "#now, what happens when we predict mixed glyphs?\n",
    "mixed_outlines = outlines_model.predict(np.random.random(X.shape), verbose=1)\n",
    "drawOutlines(mixed_outlines)"
   ]
  },
  {
   "cell_type": "code",
   "execution_count": null,
   "metadata": {
    "collapsed": false
   },
   "outputs": [],
   "source": [
    "#what about interpolating between glyphs?  let's try gradually mixing A into B\n",
    "#need array [[1, 0, ...], [1, 0.1, ...]]\n",
    "A = X[0]\n",
    "B = X[1]\n",
    "steps=12\n",
    "mix = np.array([A*(steps-i)/steps + i*B/steps for i in range(steps+1)])\n",
    "#print(mix[:3])\n",
    "interp = outlines_model.predict(mix, verbose=1)\n",
    "drawOutlines(interp)\n",
    "#not very convincing :(, perhaps raw points rather than angle, dist pairs for the outline would be better\n",
    "#also need to try interpolating A between two fonts"
   ]
  },
  {
   "cell_type": "code",
   "execution_count": null,
   "metadata": {
    "collapsed": true
   },
   "outputs": [],
   "source": []
  }
 ],
 "metadata": {
  "anaconda-cloud": {},
  "kernelspec": {
   "display_name": "Python [default]",
   "language": "python",
   "name": "python3"
  },
  "language_info": {
   "codemirror_mode": {
    "name": "ipython",
    "version": 3
   },
   "file_extension": ".py",
   "mimetype": "text/x-python",
   "name": "python",
   "nbconvert_exporter": "python",
   "pygments_lexer": "ipython3",
   "version": "3.5.2"
  }
 },
 "nbformat": 4,
 "nbformat_minor": 1
}
