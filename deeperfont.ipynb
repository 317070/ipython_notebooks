{
 "cells": [
  {
   "cell_type": "markdown",
   "metadata": {},
   "source": [
    "# Deeperfont\n",
    "*[Website](http://nbviewer.jupyter.org/github/terryspitz/ipython_notebooks/blob/master/deeperfont.ipynb)*\n",
    "\n",
    "Deeperfont is a Neural Network attempt at the 'Font Problem' - how to capture the essence of a font in such a way as to generalise to unseen glyphs and to allow interpolation between different fonts.\n",
    "\n",
    "Initial research suggested the use of [Keras](https://keras.io/) and [Tensorflow](https://www.tensorflow.org/) as best practise for both getting started and long-term research.  \n",
    "\n",
    "As output the network will generate a set of [glyph outlines](https://en.wikipedia.org/wiki/Glyph).  The encoding of outputs has been considered in two ways: raw (x,y) coordinates, as expressed in the TTF font glyphs, or a conversion of these outlines to (angle, distance) pairs as in [Turtle graphics](https://en.wikipedia.org/wiki/Turtle_graphics) (best known for its  use in [Logo](https://en.wikipedia.org/wiki/Logo_(programming_language).)\n",
    "\n",
    "Considering the evaluation function we note that the exact sequence of points in the glyph can be varied while generating identical rendered output, for example a line segment can be split into a number of smaller colinear segments.  The network should be free to express its results in any equivalent way.  The evaluation function is therefore required to compare rendered output.  We build an evaluation function in pure Tensorflow using a [scanline algorithm](https://en.wikipedia.org/wiki/Scanline_rendering) to generate a tensor containing the x coordinates of the outline for a set of equi-spaced y line.  The predicted and true outlines are then compared by calculating the difference in these coordinates (or perhaps *visible pixels*).\n",
    "\n",
    "We need access to the glyph outlines but since the network evaluation function requires the x coordinates we use a final lambda layer to render the outlines for comparison in the loss function, then use the outlines layer from the fitted model when making predictions.\n",
    "\n",
    "As input we provide the glyph to render, in the form of a [one-hot](https://en.wikipedia.org/wiki/One-hot) vector.\n",
    "\n",
    "See also:\n",
    "* [MetaFont](https://en.wikipedia.org/wiki/Metafont)\n",
    "* [Metaflop - interactive MetaFont](http://www.metaflop.com/modulator)\n",
    "* [deepfont](https://erikbern.com/2016/01/21/analyzing-50k-fonts-using-deep-neural-networks.html)\n",
    "* https://arxiv.org/abs/1507.03196\n",
    "* https://pypi.python.org/pypi/FontTools\n"
   ]
  },
  {
   "cell_type": "code",
   "execution_count": 100,
   "metadata": {
    "collapsed": false
   },
   "outputs": [],
   "source": [
    "import numpy as np\n",
    "import math\n",
    "import os\n",
    "import xml.etree.ElementTree as ET\n",
    "from PIL import Image, ImageDraw, ImageChops, ImageFont\n",
    "from keras.callbacks import TensorBoard\n",
    "import keras.models as models\n",
    "import keras.layers as layers\n",
    "from keras import backend as K\n",
    "import tensorflow as tf"
   ]
  },
  {
   "cell_type": "code",
   "execution_count": 201,
   "metadata": {
    "collapsed": false
   },
   "outputs": [],
   "source": [
    "def renderGlyphs(gls, max_points_per_line, ygrid):\n",
    "    '''\n",
    "    Pure tensorflow function\n",
    "    Input: 2D tensor of glyph * outlines (angle, distance) pairs \n",
    "    Output: glyph * matrix of sorted x coords for each line per y coording\n",
    "    '''\n",
    "    angles = gls[:,::2]\n",
    "    dists = gls[:,1::2]\n",
    "    #turn angles,dists into coordinates\n",
    "    xs = tf.cumsum(tf.abs(dists)*tf.cos(angles*math.pi), axis=-1)+1e-2\n",
    "    ys = tf.cumsum(tf.abs(dists)*tf.sin(angles*math.pi), axis=-1)+1e-2\n",
    "    #offset to create line start x1,y1 to end x2,y2\n",
    "    x1s = xs[:,:-1]\n",
    "    x2s = xs[:,1:]\n",
    "    y1s = ys[:,:-1]\n",
    "    y2s = ys[:,1:]\n",
    "    #add 3rd dimension (size=1) so following interpolation in y is broadcast across all lines\n",
    "    xx1s=tf.expand_dims(x1s,-1)\n",
    "    xx2s=tf.expand_dims(x2s,-1)\n",
    "    yy1s=tf.expand_dims(y1s,-1)\n",
    "    yy2s=tf.expand_dims(y2s,-1)\n",
    "    #interpolate the x coords for all lines at all y coord\n",
    "    xxs = xx1s + (xx2s-xx1s)*(ygrid-yy1s)/(yy2s-yy1s)\n",
    "    #zero x coords outside of line y bounds or where dy=0 and for hidden lines\n",
    "    in_range = tf.logical_or(tf.logical_and(yy1s<ygrid, ygrid<=yy2s), tf.logical_and(yy2s<ygrid, ygrid<=yy1s))\n",
    "    in_range = tf.logical_and(in_range, yy2s!=yy1s)\n",
    "    in_range = tf.logical_and(in_range, tf.expand_dims(dists[:,1:]>0,-1))\n",
    "    xxs = tf.where(in_range, xxs, tf.zeros_like(xxs)) \n",
    "    return tf.nn.top_k(tf.transpose(xxs, perm=(0,2,1)),max_points_per_line).values"
   ]
  },
  {
   "cell_type": "code",
   "execution_count": 222,
   "metadata": {
    "collapsed": false
   },
   "outputs": [],
   "source": [
    "def angleDist(p1, p2, unitsPerEm, hidden=False):\n",
    "    \"\"\"Given two point tuples return the angle scaled to [-1,1], and distance scaled similarly\"\"\"\n",
    "    dx = p2[0]-p1[0]\n",
    "    dy = p2[1]-p1[1]\n",
    "    return math.atan2(dy,dx)/math.pi, math.sqrt(dx**2 + dy**2) * (-1 if hidden else 1) / unitsPerEm  #negative distance means hidden\n",
    "\n",
    "def generateOutlines(ttx, glyphs, max_points_per_line, ygrid):\n",
    "    \"\"\"\n",
    "    Read the actual points from all glyphs in the font into numpy array.\n",
    "    Output is array of glyphs x points x 2 (angle in radians, distance).\n",
    "    We use float according to https://github.com/fchollet/keras/issues/2218.\n",
    "    \"\"\"\n",
    "    unitsPerEm = int(ttx.find('head/unitsPerEm').get('value'))*0.8\n",
    "    numglyphs = len(glyphs)\n",
    "    outlines = np.zeros((numglyphs, 200), np.float32)\n",
    "    Y = np.zeros((numglyphs, len(ygrid),max_points_per_line), np.float32)\n",
    "    for i, l in enumerate(glyphs):\n",
    "        glyph = ttx.find(r\".//TTGlyph[@name='\"+l+\"']\")\n",
    "        outline = []\n",
    "        startp = (0,0)\n",
    "        #ttx contours are areas within the glyph, like the outside and inside outlines of an O\n",
    "        for contour in glyph.iterfind('contour'):\n",
    "            pts = contour.iterfind('pt')\n",
    "            xy = [(int(pt.get('x')), int(pt.get('y'))) for pt in pts] #should read the ttx 'on' attribute too for bezier control points\n",
    "            #fill output matrix, start with hidden line to start position\n",
    "            outline += angleDist(startp, xy[0], unitsPerEm, hidden=True)\n",
    "            startp = xy[0]\n",
    "            #then between points\n",
    "            for n in range(len(xy)-1):\n",
    "                outline += angleDist(xy[n],xy[n+1], unitsPerEm)\n",
    "            #finally wrap last point to first in contour\n",
    "            N=len(xy)-1\n",
    "            outline += angleDist(xy[N],xy[0], unitsPerEm)\n",
    "        if len(outline)>outlines.shape[1]: print(\"outline for \"+l+\" has too many points: \",len(outline))\n",
    "        outlines[i,:len(outline)] = np.array(outline[:outlines.shape[1]], dtype=np.float32)\n",
    "    return outlines\n",
    "\n",
    "def setupInputOutputRender(ttx, glyphs, outputdim):\n",
    "    \"\"\"\n",
    "    Generate target output by rendering each glyph and reading X coords of the outline.\n",
    "    Target Output is matrix of x coords of outline for each y coord\n",
    "    We use float not int according to https://github.com/fchollet/keras/issues/2218.\n",
    "    \"\"\"\n",
    "    numglyphs = len(glyphs)\n",
    "    Y = np.zeros((numglyphs, outputdim*2), np.float32)\n",
    "    for i, glyph in enumerate(glyphs):\n",
    "        im = Image.new('1', size=(cellsize, cellsize), color=(0)) \n",
    "        draw = ImageDraw.Draw(im) \n",
    "        fnt = ImageFont.truetype('deeper/Quicksand-Bold.otf', cellsize)\n",
    "        draw.text((10,10), glyph, font=fnt, fill=1)\n",
    "        im = ImageChops.logical_xor(im,  ImageChops.offset(im, 1, 0))\n",
    "        print(im.tobytes())\n",
    "        Y[i] = np.fromstring(im.tobytes())\n",
    "    \n",
    "    return Y\n",
    "\n",
    "def drawOutlines(Y):\n",
    "    \"\"\"Draw numpy array interpreted as a glyph per row and each row containing (angle, dist) pairs.\"\"\"\n",
    "    cellsize = 100\n",
    "    columns = math.ceil(800/cellsize)\n",
    "    rows = math.ceil(Y.shape[0]/columns)\n",
    "    cellsize = 50\n",
    "    def drawPoints(im, points):\n",
    "        #temporary image to use to xor each part with main image\n",
    "        im2 = Image.new('1', size=(columns*cellsize, rows*cellsize), color=(0)) \n",
    "        draw = ImageDraw.Draw(im2) \n",
    "        draw.polygon(points, fill=1)\n",
    "        im = ImageChops.logical_xor(im, im2)\n",
    "        return im\n",
    "    scale = cellsize * 0.8\n",
    "    im = Image.new('1', size=(columns*cellsize, rows*cellsize), color=(0)) \n",
    "    for i in range(Y.shape[0]):\n",
    "        y,x = divmod(i, columns)\n",
    "        x *= cellsize\n",
    "        y = (y+1)*cellsize-1\n",
    "        points = []\n",
    "        for j in range(0, Y.shape[1], 2):\n",
    "            angle = Y[i][j]\n",
    "            dist = Y[i][j+1]\n",
    "            x2 = x+ abs(dist)*math.cos(angle*math.pi)*scale\n",
    "            y2 = y- abs(dist)*math.sin(angle*math.pi)*scale\n",
    "            if dist>0:\n",
    "                points += (x2,y2)\n",
    "            elif len(points)>2:\n",
    "                im = drawPoints(im, points)\n",
    "                points=[]\n",
    "            x=x2\n",
    "            y=y2\n",
    "    if len(points)>2:\n",
    "        im = drawPoints(im, points)\n",
    "    return im\n",
    "\n",
    "\n",
    "def drawXYs(xxs, ygrid):\n",
    "    '''Draw a glyph rasterisation based on a input y coord array with array of x-intercepts of lines with the y coord'''\n",
    "    cellsize = 100\n",
    "    columns = math.ceil(800/cellsize)\n",
    "    rows = math.ceil(xxs.shape[0]/columns)\n",
    "    scale = cellsize * 0.8\n",
    "    im = Image.new('1', size=(columns*cellsize, rows*cellsize), color=(0)) \n",
    "    draw = ImageDraw.Draw(im) \n",
    "    for i in range(xxs.shape[0]):\n",
    "        yy,xx = divmod(i, columns)\n",
    "        xx *= cellsize\n",
    "        yy = (yy+1)*cellsize-1\n",
    "        for xs, y in zip(xxs[i], ygrid):\n",
    "            for x in xs:\n",
    "                if x>0.0:\n",
    "                    draw.ellipse((xx+x*scale, yy-y*scale, xx+x*scale+3, yy-y*scale+3), fill=1)\n",
    "    return im"
   ]
  },
  {
   "cell_type": "code",
   "execution_count": 227,
   "metadata": {
    "collapsed": false
   },
   "outputs": [
    {
     "name": "stdout",
     "output_type": "stream",
     "text": [
      "setup...\n",
      "outline for g has too many points:  204\n",
      "outline shape:  (62, 200)\n",
      "output shape:  (62, 20, 6)\n"
     ]
    },
    {
     "data": {
      "image/png": "[encoded data removed]",
      "text/plain": [
       "<PIL.Image.Image image mode=1 size=800x800 at 0x1DFCCCD9D68>"
      ]
     },
     "execution_count": 227,
     "metadata": {},
     "output_type": "execute_result"
    }
   ],
   "source": [
    "print('setup...')\n",
    "glyphs = [chr(i) for i in range(ord('A'), ord('Z')+1)]\n",
    "glyphs += [chr(i) for i in range(ord('a'), ord('z')+1)]\n",
    "glyphs += ['zero','one','two','three','four','five','six','seven','eight','nine']\n",
    "#glyphs = ['A','B','a','b','one','two']\n",
    "np.set_printoptions(precision=2)\n",
    "ttx = ET.parse(r'deeper/BASKVILL.ttx') #read font data dumped from TrueType using fonttools\n",
    "max_points_per_line = 6\n",
    "y_divisions = 20\n",
    "ygrid = np.linspace(0.0, 1.0, y_divisions, endpoint=False) #y coordinates to render on\n",
    "X = np.identity(len(glyphs), dtype=float)  #input is 'one-hot' array, one per glyph\n",
    "outlines = generateOutlines(ttx, glyphs, max_points_per_line, ygrid)\n",
    "print(\"outline shape: \",outlines.shape)\n",
    "with tf.Session() as sess:\n",
    "    Y_true = renderGlyphs(outlines, max_points_per_line, ygrid).eval()\n",
    "    #print(Y_true)\n",
    "    print(\"output shape: \", Y_true.shape)\n",
    "drawXYs(Y_true, ygrid)\n",
    "#drawOutlines(outlines)"
   ]
  },
  {
   "cell_type": "code",
   "execution_count": 229,
   "metadata": {
    "collapsed": false
   },
   "outputs": [
    {
     "name": "stdout",
     "output_type": "stream",
     "text": [
      "compile model...\n",
      "compile model...\n",
      "(None, 20, 6)\n",
      "fitting model...\n",
      "tensorboard --logdir=C:\\src\\Repos\\ipython_notebooks\\logs\n",
      "loss: 8.72%\n",
      "mean_absolute_error: 16.39%\n",
      "saved: deepermodel11.h5\n"
     ]
    }
   ],
   "source": [
    "#update modelNum to refit, uses saved model if found\n",
    "modelNum = 11\n",
    "file = \"deepermodel\"+str(modelNum)+\".h5\"\n",
    "if False: #os.path.isfile(file):\n",
    "    model = keras.models.load_model(file)\n",
    "    print(\"loaded model\")\n",
    "else:\n",
    "    print('compile model...')\n",
    "    model = Sequential()\n",
    "    model.add(layers.Dense(100, input_dim=X.shape[1]))\n",
    "    #model.add(LSTM(4))#, return_sequences=True))\n",
    "    model.add(layers.Dense(100, activation='relu'))\n",
    "    model.add(layers.Dense(200, name='outlines'))\n",
    "    model.add(layers.Lambda(lambda outline:renderGlyphs(outline, max_points_per_line, ygrid), name='renderGlyph'))\n",
    "    print(model.output_shape)\n",
    "    model.compile(loss='mse', optimizer='rmsprop', metrics=['mae'])\n",
    "\n",
    "    print('fitting model...')\n",
    "    epochs=100\n",
    "    logs = 'logs/run'+str(modelNum)\n",
    "    print('tensorboard --logdir='+os.path.abspath('logs'))\n",
    "    board = TensorBoard(log_dir=logs, histogram_freq=10000)\n",
    "    model.fit(X, Y_true, batch_size=len(glyphs), epochs=epochs, verbose=0, callbacks=[board])\n",
    "    scores = model.evaluate(X, Y_true, verbose=0)\n",
    "    print(\"%s: %.2f%%\" % (model.metrics_names[0], scores[0]*100))\n",
    "    print(\"%s: %.2f%%\" % (model.metrics_names[1], scores[1]*100))\n",
    "    model.save(file)\n",
    "    print('saved: '+file)"
   ]
  },
  {
   "cell_type": "code",
   "execution_count": 230,
   "metadata": {
    "collapsed": false
   },
   "outputs": [
    {
     "name": "stdout",
     "output_type": "stream",
     "text": [
      "predict outlines...\n",
      "outlines:  [[ 0.   -0.88  1.   ...,  0.    0.    0.  ]\n",
      " [ 0.   -0.03  0.5  ...,  0.    0.    0.  ]\n",
      " [ 0.26 -1.14 -0.49 ...,  0.    0.    0.  ]\n",
      " ..., \n",
      " [ 0.31 -0.99 -0.62 ...,  0.    0.    0.  ]\n",
      " [ 0.28 -0.59 -0.16 ...,  0.    0.    0.  ]\n",
      " [ 0.21 -0.58 -0.78 ...,  0.    0.    0.  ]]\n",
      "outlines:  [[ nan  nan  nan ...,  nan  nan  nan]\n",
      " [ nan  nan  nan ...,  nan  nan  nan]\n",
      " [ nan  nan  nan ...,  nan  nan  nan]\n",
      " ..., \n",
      " [ nan  nan  nan ...,  nan  nan  nan]\n",
      " [ nan  nan  nan ...,  nan  nan  nan]\n",
      " [ nan  nan  nan ...,  nan  nan  nan]]\n"
     ]
    }
   ],
   "source": [
    "print('predict outlines...')\n",
    "outlines_model = models.Model(inputs=model.input, outputs=model.get_layer('outlines').output)\n",
    "outlines_new = outlines_model.predict(X, verbose=0)\n",
    "drawOutlines(outlines_new)\n",
    "print(\"outlines: \",outlines)\n",
    "print(\"outlines_new: \",outlines_new)\n",
    "xcoords_new = model.predict(X, verbose=1)\n",
    "print(\"xcoords: \",outlines)\n",
    "print(\"outlines: \",outlines_new)\n",
    "#drawXYs(xcoords,ygrid)"
   ]
  },
  {
   "cell_type": "code",
   "execution_count": 213,
   "metadata": {
    "collapsed": false
   },
   "outputs": [
    {
     "name": "stdout",
     "output_type": "stream",
     "text": [
      "6/6 [==============================] - 0s\n"
     ]
    },
    {
     "data": {
      "image/png": "[encoded data removed]",
      "text/plain": [
       "<PIL.Image.Image image mode=1 size=200x100 at 0x1DFC71DAE80>"
      ]
     },
     "execution_count": 213,
     "metadata": {},
     "output_type": "execute_result"
    }
   ],
   "source": [
    "#now, what happens when we predict mixed glyphs?\n",
    "mixed_outlines = outlines_model.predict(np.random.random(X.shape), verbose=1)\n",
    "drawOutlines(mixed_outlines)"
   ]
  },
  {
   "cell_type": "code",
   "execution_count": 214,
   "metadata": {
    "collapsed": false
   },
   "outputs": [
    {
     "name": "stdout",
     "output_type": "stream",
     "text": [
      "13/13 [==============================] - 0s\n"
     ]
    },
    {
     "data": {
      "image/png": "[encoded data removed]",
      "text/plain": [
       "<PIL.Image.Image image mode=1 size=200x200 at 0x1DFE7C946D8>"
      ]
     },
     "execution_count": 214,
     "metadata": {},
     "output_type": "execute_result"
    }
   ],
   "source": [
    "#what about interpolating between glyphs?  let's try gradually mixing A into B\n",
    "#need array [[1, 0, ...], [1, 0.1, ...]]\n",
    "A = X[0]\n",
    "B = X[1]\n",
    "steps=12\n",
    "mix = np.array([A*(steps-i)/steps + i*B/steps for i in range(steps+1)])\n",
    "#print(mix[:3])\n",
    "interp = outlines_model.predict(mix, verbose=1)\n",
    "drawOutlines(interp)\n",
    "#not very convincing :(, perhaps raw points rather than angle, dist pairs for the outline would be better\n",
    "#also need to try interpolating A between two fonts"
   ]
  },
  {
   "cell_type": "code",
   "execution_count": null,
   "metadata": {
    "collapsed": true
   },
   "outputs": [],
   "source": []
  }
 ],
 "metadata": {
  "anaconda-cloud": {},
  "kernelspec": {
   "display_name": "Python [default]",
   "language": "python",
   "name": "python3"
  },
  "language_info": {
   "codemirror_mode": {
    "name": "ipython",
    "version": 3
   },
   "file_extension": ".py",
   "mimetype": "text/x-python",
   "name": "python",
   "nbconvert_exporter": "python",
   "pygments_lexer": "ipython3",
   "version": "3.5.2"
  }
 },
 "nbformat": 4,
 "nbformat_minor": 1
}
