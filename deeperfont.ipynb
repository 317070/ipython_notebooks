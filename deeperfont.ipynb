{
 "cells": [
  {
   "cell_type": "markdown",
   "metadata": {},
   "source": [
    "# Deeperfont\n",
    "*[Website](http://nbviewer.jupyter.org/github/terryspitz/ipython_notebooks/blob/master/deeperfont.ipynb)*\n",
    "\n",
    "Deeperfont is a Neural Network attempt at the 'Font Problem' - that is, how to capture the essence of a font in such a way as to generalise to unseen glyphs and to allow interpolation between different fonts.  This problem was noted as early as 1979 when Donald Knuth wrote the first version of [MetaFont](https://en.wikipedia.org/wiki/Metafont).\n",
    "\n",
    "For this network initial research suggested the use of [Keras](https://keras.io/) and [Tensorflow](https://www.tensorflow.org/) as best practise for both getting started and long-term research.  \n",
    "\n",
    "As output the network will generate a set of [glyph outlines](https://en.wikipedia.org/wiki/Glyph).  The encoding of outputs has been considered in a number of ways: \n",
    "* raw (x,y) coordinates, for example as expressed in the [TrueType](https://en.wikipedia.org/wiki/TrueType) font file\n",
    "* incremental coordinate changes (dx,dy)\n",
    "* a conversion of these outlines to (angle, distance) pairs for each line as in [Turtle graphics](https://en.wikipedia.org/wiki/Turtle_graphics) (best known for its  use in [Logo](https://en.wikipedia.org/wiki/Logo_(programming_language).)  We do not currently model the bezier curves used in the original glyphs; a future enhancement could use a rendered glyph as the source of font coordinates to train against.\n",
    "\n",
    "Considering the [loss](https://en.wikipedia.org/wiki/Loss_function) or evaluation function we note that the exact sequence of points in the glyph can be varied while generating identical rendered output, for example a line segment can be split into a number of smaller colinear segments.  The network should be free to express its results in any equivalent way.  The evaluation function is therefore required to compare rendered output.  We build an evaluation function in pure Tensorflow using a [scanline algorithm](https://en.wikipedia.org/wiki/Scanline_rendering) to generate a tensor containing the x coordinates of the outline for a set of equi-spaced y line.  The predicted and true outlines are then compared by calculating the difference in these coordinates (or perhaps *visible pixels* in a future enhancement).\n",
    "\n",
    "We would like access to the trained glyph outlines but since the network loss function requires the x coordinates we use a final lambda layer to render the outlines for comparison in the loss function, then use the previous, outline generation layer from the fitted model when making predictions.\n",
    "\n",
    "As input we provide a [one-hot](https://en.wikipedia.org/wiki/One-hot) vector respresenting the individual glyphs to render.  In a future enhancement where we train against multiple fonts, this input could also include a font feature or even font classifications such as serif/sans-serif/script/etc.\n",
    "\n",
    "See also:\n",
    "* [MetaFont](https://en.wikipedia.org/wiki/Metafont)\n",
    "* [Metaflop - interactive MetaFont](http://www.metaflop.com/modulator)\n",
    "* [deepfont](https://erikbern.com/2016/01/21/analyzing-50k-fonts-using-deep-neural-networks.html)\n",
    "* https://arxiv.org/abs/1507.03196\n",
    "* https://pypi.python.org/pypi/FontTools\n"
   ]
  },
  {
   "cell_type": "code",
   "execution_count": 1,
   "metadata": {
    "collapsed": false
   },
   "outputs": [
    {
     "name": "stderr",
     "output_type": "stream",
     "text": [
      "Using TensorFlow backend.\n"
     ]
    },
    {
     "name": "stdout",
     "output_type": "stream",
     "text": [
      "1.13.1\n",
      "1.2.0\n",
      "2.0.6\n"
     ]
    }
   ],
   "source": [
    "from enum import Enum, IntEnum\n",
    "import math\n",
    "import os\n",
    "import glob\n",
    "import xml.etree.ElementTree as ET\n",
    "import numpy as np\n",
    "from PIL import Image, ImageDraw, ImageChops, ImageFont\n",
    "from IPython.display import display\n",
    "from keras.callbacks import TensorBoard\n",
    "import keras.models as models\n",
    "import keras.layers as layers\n",
    "import keras.initializers\n",
    "import keras\n",
    "import tensorflow as tf\n",
    "print(np.__version__)\n",
    "print(tf.__version__)\n",
    "print(keras.__version__)"
   ]
  },
  {
   "cell_type": "code",
   "execution_count": 2,
   "metadata": {
    "collapsed": false
   },
   "outputs": [],
   "source": [
    "class Scheme(Enum):\n",
    "    \"\"\"\n",
    "    Enum defining scheme for respresenting the glyph outlines:\n",
    "    XY: the raw (x,y) coordinates\n",
    "    DXDY: incremental coordinate changes (dx,dy)\n",
    "    ANGDIST: a conversion of these outlines to (angle, distance) pairs for each line \n",
    "    \"\"\"\n",
    "    XY = 1\n",
    "    DXDY = 2\n",
    "    ANGDIST = 3\n",
    "\n",
    "def renderGlyphs(gls, max_points_per_line, ygrid, scheme):\n",
    "    '''\n",
    "    Pure tensorflow function\n",
    "    Input: 2D tensor of glyph * outlines (either x,y or angle, distance pairs)\n",
    "    Output: glyph * matrix of sorted x coords for each line per y coording\n",
    "    '''\n",
    "    if scheme == Scheme.XY:\n",
    "        xs = gls[:,::2]\n",
    "        ys = gls[:,1::2]\n",
    "        visible = tf.logical_or(xs[:,1:]>0,ys[:,1:]>0)\n",
    "    elif scheme == Scheme.DXDY:\n",
    "        dxs = gls[:,::2]\n",
    "        dys = gls[:,1::2]\n",
    "        xs = tf.cumsum(dxs, axis=-1)+1e-2\n",
    "        ys = tf.cumsum(dys, axis=-1)+1e-2\n",
    "        visible = tf.logical_or(xs[:,1:]>0,ys[:,1:]>0)\n",
    "    elif scheme == Scheme.ANGDIST:\n",
    "        angles = gls[:,::2]\n",
    "        dists = gls[:,1::2]\n",
    "        visible = dists[:,1:]>0\n",
    "        #turn angles,dists into coordinates\n",
    "        xs = tf.cumsum(tf.abs(dists)*tf.cos(angles*math.pi), axis=-1)+1e-2\n",
    "        ys = tf.cumsum(tf.abs(dists)*tf.sin(angles*math.pi), axis=-1)+1e-2\n",
    "    #offset to create line start x1,y1 to end x2,y2\n",
    "    x1s = xs[:,:-1]\n",
    "    x2s = xs[:,1:]\n",
    "    y1s = ys[:,:-1]\n",
    "    y2s = ys[:,1:]\n",
    "    #add 3rd dimension (size=1) so following interpolation in y is broadcast across all lines\n",
    "    xx1s=tf.expand_dims(x1s,-1)\n",
    "    xx2s=tf.expand_dims(x2s,-1)\n",
    "    yy1s=tf.expand_dims(y1s,-1)\n",
    "    yy2s=tf.expand_dims(y2s,-1)\n",
    "    #interpolate the x coords for all lines at all y coord\n",
    "    xxs = xx1s + (xx2s-xx1s)*(ygrid-yy1s)/(yy2s-yy1s)\n",
    "    #zero x coords outside of line y bounds or where dy=0 and for hidden lines\n",
    "    in_range = tf.logical_or(tf.logical_and(yy1s<ygrid, ygrid<=yy2s), tf.logical_and(yy2s<ygrid, ygrid<=yy1s))\n",
    "    in_range = tf.logical_and(in_range, yy2s!=yy1s)\n",
    "    in_range = tf.logical_and(in_range, tf.expand_dims(visible,-1))\n",
    "    xxs = tf.where(in_range, xxs, tf.zeros_like(xxs)) \n",
    "    return tf.nn.top_k(tf.transpose(xxs, perm=(0,2,1)),max_points_per_line).values"
   ]
  },
  {
   "cell_type": "code",
   "execution_count": 3,
   "metadata": {
    "collapsed": false
   },
   "outputs": [],
   "source": [
    "#Read Font outlines from local font files and write outlines to file for fitting\n",
    "from fontTools.ttLib import TTFont  #pip install fonttools\n",
    "\n",
    "def GetCoordinates(font, glyphName):\n",
    "    \"\"\"font, glyphName --> glyph coordinates as expected by \"gvar\" table\n",
    "    The result includes four \"phantom points\" for the glyph metrics,\n",
    "    as mandated by the \"gvar\" spec.\n",
    "    Function from https://github.com/fonttools/fonttools/blob/master/Snippets/interpolate.py\n",
    "    By inspection coords[0] are all points, and coords[1] are the end of the ranges for each contour (shape)\n",
    "    \"\"\"\n",
    "    glyphTable = font[\"glyf\"]\n",
    "    glyph = glyphTable.glyphs.get(glyphName)\n",
    "    if glyph is None:\n",
    "        return None\n",
    "    glyph.expand(glyphTable)\n",
    "    glyph.recalcBounds(glyphTable)\n",
    "    coords = glyph.getCoordinates(glyphTable)\n",
    "    start=0\n",
    "    contours = []\n",
    "    for end in coords[1]:\n",
    "        contours.append(coords[0][start:end+1])\n",
    "        start=end+1\n",
    "    return contours\n",
    "\n",
    "def readFonts(glyphs, max_outline_points, ygrid):\n",
    "    glyphinputs = np.identity(len(glyphs), dtype=float)  #input is one-hot vec, one per glyph\n",
    "    files = glob.glob('deeper/*.ttf')\n",
    "    fontvec = np.identity(len(files), dtype=float)  #one-hot vec, one per file\n",
    "    inputs = []\n",
    "    outlines = []\n",
    "    for i, fontfile in enumerate(files):\n",
    "        fontvec = np.zeros(len(files))\n",
    "        fontvec[i]=1\n",
    "        inputs.append(np.concatenate(glyphinputs, fontvec))\n",
    "        outlines.append(generateOutlines(fontfile, glyphs, max_outline_points, ygrid))\n",
    "    return np.stack(inputs), np.stack(outlines)\n",
    "\n",
    "class LastDim(IntEnum):\n",
    "    \"\"\"\n",
    "    Enum defining last dimension\n",
    "    \"\"\"\n",
    "    DX = 0\n",
    "    DY = 1\n",
    "    Show_line = 2  #+1 draw, -1 if this line is hidden, i.e. between contours in the glyph\n",
    "    End_glyph = 3  #>0 for drawing no further points in outline\n",
    "    Last_dim_size = 4\n",
    "    \n",
    "def generateOutlines(fontfile, glyphs, max_outline_pointsmax_outline_points, ygrid):\n",
    "    \"\"\"\n",
    "    Read the actual points from all glyphs in the font into numpy array.\n",
    "    Output is array of glyphs x points x 2 (angle in radians, distance).\n",
    "    We use float not the original ints from the font - according to https://github.com/fchollet/keras/issues/2218.\n",
    "    \"\"\"\n",
    "    font = TTFont(fontfile)\n",
    "    unitsPerEm = font['head'].unitsPerEm * 0.9\n",
    "    def angleDist(p1, p2, hidden=False):\n",
    "        \"\"\"Given two point tuples return the angle scaled to [-1,1], and distance scaled similarly\"\"\"\n",
    "        dx = p2[0]-p1[0]\n",
    "        dy = p2[1]-p1[1]\n",
    "        return math.atan2(dy,dx)/math.pi, math.sqrt(dx**2 + dy**2) * (-1 if hidden else 1) / unitsPerEm  #negative distance means hidden\n",
    "    numglyphs = len(glyphs)\n",
    "    outlines = np.zeros((numglyphs, max_outline_points, LastDim.Last_dim_size), np.float32)\n",
    "    for i, letter in enumerate(glyphs):\n",
    "        contours = GetCoordinates(font, letter)\n",
    "        j = 0\n",
    "        startp = (0,0.1)\n",
    "        #ttx contours are areas within the glyph, like the outside and inside outlines of an O\n",
    "        for xy in contours:\n",
    "            #fill output matrix, start with hidden line to start position\n",
    "            outlines[i,j,LastDim.DX] = (xy[0][0]-startp[0])/ unitsPerEm\n",
    "            outlines[i,j,LastDim.DY] = (xy[0][1]-startp[1])/ unitsPerEm\n",
    "            outlines[i,j,LastDim.Show_line] = -1\n",
    "            outlines[i,j,LastDim.End_glyph] = -1\n",
    "            j = j+1\n",
    "            startp = xy[0]\n",
    "            #then between points\n",
    "            for n in range(len(xy)-1):\n",
    "                outlines[i,j,LastDim.DX] = (xy[n+1][0]-xy[n][0])/ unitsPerEm\n",
    "                outlines[i,j,LastDim.DY] = (xy[n+1][1]-xy[n][1])/ unitsPerEm\n",
    "                outlines[i,j,LastDim.Show_line] = +1\n",
    "                outlines[i,j,LastDim.End_glyph] = -1\n",
    "                j = j+1\n",
    "            #finally wrap last point to first in contour\n",
    "            N=len(xy)-1\n",
    "            outlines[i,j,LastDim.DX] = (xy[0][0]-xy[N][0])/ unitsPerEm\n",
    "            outlines[i,j,LastDim.DY] = (xy[0][1]-xy[N][1])/ unitsPerEm\n",
    "            outlines[i,j,LastDim.Show_line] = +1\n",
    "            outlines[i,j,LastDim.End_glyph] = -1\n",
    "            j = j+1\n",
    "        outlines[i,j-1,LastDim.End_glyph] = +1\n",
    "\n",
    "    return outlines"
   ]
  },
  {
   "cell_type": "code",
   "execution_count": 4,
   "metadata": {
    "collapsed": false
   },
   "outputs": [],
   "source": [
    "def drawOutlines(outlines, cellsize, scheme):\n",
    "    \"\"\"Draw numpy array interpreted as a glyph per row and each row containing x,y or angle,dist pairs.\"\"\"\n",
    "    columns = math.ceil(800/cellsize)\n",
    "    rows = math.ceil(outlines.shape[0]/columns)\n",
    "    def drawPoints(im, points, cellx, celly):\n",
    "        #temporary image to use to xor each part with main image\n",
    "        im2 = Image.new('1', size=(columns*cellsize, rows*cellsize), color=(0)) \n",
    "        draw = ImageDraw.Draw(im2) \n",
    "        draw.polygon(points, fill=1)\n",
    "        im = ImageChops.logical_xor(im, im2)\n",
    "        return im\n",
    "    scale = cellsize * 0.9\n",
    "    im = Image.new('1', size=(columns*cellsize, rows*cellsize), color=(0)) \n",
    "    for i in range(outlines.shape[0]):\n",
    "        celly,cellx = divmod(i, columns)\n",
    "        cellx *= cellsize\n",
    "        celly *= cellsize\n",
    "        points = []\n",
    "        x,y=(0,cellsize-1)\n",
    "        for j in range(outlines.shape[1]):\n",
    "            x += outlines[i][j][LastDim.DX]*scale\n",
    "            y -= outlines[i][j][LastDim.DY]*scale\n",
    "            if outlines[i][j][LastDim.Show_line]>0:\n",
    "                points += (cellx+x,celly+y)\n",
    "            elif len(points)>2:\n",
    "                im = drawPoints(im, points, cellx, celly)\n",
    "                points=[]\n",
    "            if outlines[i][j][LastDim.End_glyph]>0: break;\n",
    "        if len(points)>2:\n",
    "            im = drawPoints(im, points, cellx, celly)\n",
    "    return im\n",
    "\n",
    "def drawXYs(xxs, ygrid, cellsize):\n",
    "    '''Draw a glyph rasterisation based on a input y coord array with array of x-intercepts of lines with the y coord'''\n",
    "    columns = math.ceil(800/cellsize)\n",
    "    rows = math.ceil(xxs.shape[0]/columns)\n",
    "    scale = cellsize * 0.9\n",
    "    im = Image.new('1', size=(columns*cellsize, rows*cellsize), color=(0)) \n",
    "    draw = ImageDraw.Draw(im) \n",
    "    for i in range(xxs.shape[0]):\n",
    "        yy,xx = divmod(i, columns)\n",
    "        xx *= cellsize\n",
    "        yy = (yy+1)*cellsize-1\n",
    "        for xs, y in zip(xxs[i], ygrid):\n",
    "            for x in xs:\n",
    "                if x>0.0:\n",
    "                    draw.ellipse((xx+x*scale, yy-y*scale, xx+x*scale+3, yy-y*scale+3), fill=1)\n",
    "    return im"
   ]
  },
  {
   "cell_type": "code",
   "execution_count": 69,
   "metadata": {
    "collapsed": false
   },
   "outputs": [
    {
     "name": "stdout",
     "output_type": "stream",
     "text": [
      "setup...\n",
      "outline shape:  (62, 100, 4)\n"
     ]
    },
    {
     "data": {
      "image/png": "[encoded data removed]",
      "text/plain": [
       "<PIL.Image.Image image mode=1 size=800x200 at 0x24C527AEEB8>"
      ]
     },
     "execution_count": 69,
     "metadata": {},
     "output_type": "execute_result"
    }
   ],
   "source": [
    "print('setup...')\n",
    "glyphs = [chr(i) for i in range(ord('A'), ord('Z')+1)]\n",
    "glyphs += [chr(i) for i in range(ord('a'), ord('z')+1)]\n",
    "glyphs += ['zero','one','two','three','four','five','six','seven','eight','nine']\n",
    "#glyphs = ['A','B','a','b','one','two']\n",
    "max_points_per_line = 10 # required for g, m\n",
    "max_outline_points = 100\n",
    "y_divisions = 20\n",
    "ygrid = np.linspace(0.0, 1.0, y_divisions, endpoint=False) #y coordinates to render on\n",
    "#inputs, outlines = readFonts(glyphs, max_outline_points, ygrid)\n",
    "inputs = np.identity(len(glyphs), dtype=float)  #input is one-hot vec, one per glyph\n",
    "outlines = generateOutlines('deeper/Courier Prime.ttf', glyphs, max_outline_points, ygrid)\n",
    "print(\"outline shape: \", outlines.shape)\n",
    "#with tf.Session() as sess:\n",
    "#    xcoords = renderGlyphs(outlines, max_points_per_line, ygrid, scheme).eval()\n",
    "    #print(xcoords)\n",
    "#    print(\"output shape: \", xcoords.shape)\n",
    "cellsize = 50\n",
    "drawOutlines(outlines, cellsize, Scheme.DXDY)\n",
    "#display(drawOutlines(outlines, cellsize, scheme), drawXYs(xcoords, ygrid, cellsize))"
   ]
  },
  {
   "cell_type": "code",
   "execution_count": 87,
   "metadata": {
    "collapsed": false
   },
   "outputs": [
    {
     "name": "stdout",
     "output_type": "stream",
     "text": [
      "compile models...\n",
      "outlines.shape: (62, 100, 4)\n",
      "_________________________________________________________________\n",
      "Layer (type)                 Output Shape              Param #   \n",
      "=================================================================\n",
      "input (InputLayer)           (None, 62)                0         \n",
      "_________________________________________________________________\n",
      "dense_22 (Dense)             (None, 256)               16128     \n",
      "_________________________________________________________________\n",
      "dense_23 (Dense)             (None, 256)               65792     \n",
      "_________________________________________________________________\n",
      "dense_24 (Dense)             (None, 400)               102800    \n",
      "_________________________________________________________________\n",
      "outlines (Reshape)           (None, 100, 4)            0         \n",
      "=================================================================\n",
      "Total params: 184,720\n",
      "Trainable params: 184,720\n",
      "Non-trainable params: 0\n",
      "_________________________________________________________________\n"
     ]
    }
   ],
   "source": [
    "print('compile models...')\n",
    "print('outlines.shape: {}'.format(outlines.shape))\n",
    "inputlayer = layers.Input(shape=inputs.shape[1:], name='input')\n",
    "layer = layers.Dense(256)(inputlayer)\n",
    "layer = layers.Dense(256)(layer)\n",
    "layer = layers.Dense(outlines.shape[1]*outlines.shape[2])(layer)\n",
    "outlineslayer = layers.Reshape(outlines.shape[1:], name='outlines')(layer)\n",
    "#model.add(layers.Lambda(lambda outline: renderGlyphs(outline, max_points_per_line, ygrid, scheme), name='renderGlyph'))\n",
    "model = models.Model(inputs=inputlayer, outputs=outlineslayer)\n",
    "model.summary()\n",
    "model.compile(loss='mse', optimizer='rmsprop', metrics=['mae'])\n",
    "##grab a model excluding final rendering layer for fitting/predicting outlines only\n",
    "#outlines_model = models.Model(inputs=model.input, outputs=model.get_layer('outlines').output)\n",
    "#outlines_model.compile(loss='mse', optimizer='rmsprop', metrics=['mae'])\n",
    "#print(\"outlines_model.output_shape\", outlines_model.output_shape)"
   ]
  },
  {
   "cell_type": "code",
   "execution_count": 71,
   "metadata": {
    "collapsed": false
   },
   "outputs": [
    {
     "name": "stdout",
     "output_type": "stream",
     "text": [
      "fitting model...\n",
      "logs/deeper-p184720\n",
      "view using:\n",
      "tensorboard --logdir=C:\\src\\Repos\\ipython_notebooks\\logs\n"
     ]
    },
    {
     "data": {
      "text/plain": [
       "<keras.callbacks.History at 0x24c54d0a978>"
      ]
     },
     "execution_count": 71,
     "metadata": {},
     "output_type": "execute_result"
    }
   ],
   "source": [
    "print('fitting model...')\n",
    "epochs=1000\n",
    "logs = 'logs/deeper-p'+str(np.sum([np.prod(t.shape) for t in model.get_weights()]))+'-e'+str(epochs)\n",
    "print(logs)\n",
    "print('view using:\\ntensorboard --logdir='+os.path.abspath('logs'))\n",
    "board = TensorBoard(log_dir=logs)\n",
    "model.fit(inputs, outlines, batch_size=len(glyphs), epochs=epochs, verbose=0, callbacks=[board], shuffle=False)\n",
    "#for i in range(epochs):\n",
    "#    model.fit(timestepinputs, timestepoutputs, epochs=1, batch_size=batch_size, verbose=2, shuffle=False, callbacks=[board])\n",
    "#    model.reset_states()\n",
    "#scores = model.evaluate({'timestepinput':timestepinputs, 'glyphinput':glyphinputs}, timestepoutputs, verbose=0)\n",
    "#print(\"%s: %.2f%%\" % (model.metrics_names[0], scores[0]*100))\n",
    "#print(\"%s: %.2f%%\" % (model.metrics_names[1], scores[1]*100))"
   ]
  },
  {
   "cell_type": "code",
   "execution_count": 75,
   "metadata": {
    "collapsed": false
   },
   "outputs": [
    {
     "name": "stdout",
     "output_type": "stream",
     "text": [
      "predict outlines...\n",
      "[[  22   24    7   10 -100 -105 -100 -105]\n",
      " [   1    2    0    0  100  105 -100 -105]\n",
      " [   1    1   -1   -2  100  105 -100 -105]\n",
      " [   0    0   -2    0  100  105 -100 -105]\n",
      " [   0   -1   -2   -4  100  105 -100 -105]\n",
      " [  -1   -3   -1    0  100  105 -100 -105]\n",
      " [  -1   -1    0    0  100  105 -100 -105]\n",
      " [ -18  -16    0    0  100  105 -100 -105]\n",
      " [  -1   -1    0    0  100  105 -100 -105]\n",
      " [  -1   -2    1    2  100  105 -100 -105]\n",
      " [   0    0    2    4  100  105 -100 -105]\n",
      " [   0    1    2    1  100  105 -100 -105]\n",
      " [   1    3    1    0  100  105 -100 -105]\n",
      " [   1    1    0    0  100  105 -100 -105]\n",
      " [   3    2    0    0  100  105 -100 -105]\n",
      " [  17   19   49   48  100  105 -100 -105]\n",
      " [ -10   -9    0    1  100  105 -100 -105]\n",
      " [  -1   -1    0   -1  100  105 -100 -105]\n",
      " [  -1   -2    1    0  100  105 -100 -105]\n",
      " [   0   -1    2    2  100  105 -100 -105]\n",
      " [   0    2    2    2  100  105 -100 -105]\n",
      " [   1   -1    1    0  100  104 -100 -105]\n",
      " [   1    0    0   -2  100  105 -100 -105]\n",
      " [  19   21    0    1  100  105 -100 -105]\n",
      " [   2    3    0    1  100  105 -100 -105]\n",
      " [   2    1   -1    0  100  105 -100 -105]\n",
      " [   0    0   -1   -3  100  105 -100 -105]\n",
      " [  19   20  -53  -54  100  105 -100 -105]\n",
      " [   3    2    0   -1  100  105 -100 -105]\n",
      " [   1    3    0    0  100  105 -100 -105]\n",
      " [   1    0   -1   -2  100  105 -100 -105]\n",
      " [   0   -1   -2   -3  100  105 -100 -105]\n",
      " [   0    0   -2   -2  100  105 -100 -105]\n",
      " [  -1   -1   -1    0  100  105 -100 -105]\n",
      " [  -1   -2    0    0  100  105 -100 -105]\n",
      " [ -19  -20    0    2  100  105 -100 -105]\n",
      " [  -1    0    0    0  100  105 -100 -105]\n",
      " [  -1    0    1    1  100  105 -100 -105]\n",
      " [   0   -1    2    2  100  104 -100 -105]\n",
      " [   0    0    2    1  100  105 -100 -105]\n",
      " [   1    3    1    2  100  105 -100 -104]\n",
      " [   1    0    0    0  100  105 -100 -103]\n",
      " [   7    8    0    0  100  103 -100 -104]\n",
      " [  -4   -3   12   14  100  104 -100 -104]\n",
      " [ -26  -25    0    0  100  104 -100 -104]\n",
      " [  -4   -3  -12  -13  100  104 -100 -104]\n",
      " [   6    8    0   -1  100  104 -100 -103]\n",
      " [   0    1   20   20 -100  -96 -100 -104]\n",
      " [  21   20    0    1  100  104 -100 -104]\n",
      " [ -10   -9   29   28  100  104 -100 -104]\n",
      " [  -1    0    0    0  100  104 -100 -103]\n",
      " [ -10  -12  -29  -28  100  103  100   96]\n",
      " [   0   -2    0    0    0    3    0   -1]\n",
      " [   0    0    0   -2    0    2    0   -2]\n",
      " [   0    0    0    0    0    3    0    0]\n",
      " [   0    0    0    1    0    1    0    0]\n",
      " [   0    0    0    0    0    1    0    1]\n",
      " [   0    0    0    0    0    0    0    0]\n",
      " [   0    0    0    0    0    0    0    0]\n",
      " [   0    0    0    0    0    0    0    0]\n",
      " [   0   -1    0    0    0    0    0    0]\n",
      " [   0    1    0    1    0    0    0    0]\n",
      " [   0   -1    0   -1    0    0    0    0]\n",
      " [   0    0    0    0    0    0    0    0]\n",
      " [   0    1    0   -1    0    0    0    1]\n",
      " [   0   -1    0   -2    0    0    0    1]\n",
      " [   0    0    0    0    0    0    0    0]\n",
      " [   0    0    0    0    0    0    0    1]\n",
      " [   0   -1    0    1    0    0    0    0]\n",
      " [   0    0    0   -1    0   -1    0    0]\n",
      " [   0    0    0    0    0    0    0    0]\n",
      " [   0    1    0    0    0    0    0    0]\n",
      " [   0   -1    0   -1    0   -1    0    0]\n",
      " [   0    0    0   -1    0    0    0    0]\n",
      " [   0    0    0    0    0    0    0    0]\n",
      " [   0    0    0    0    0    0    0    0]\n",
      " [   0    0    0    0    0    0    0    0]\n",
      " [   0    0    0    1    0    0    0    0]\n",
      " [   0    0    0    1    0    0    0    0]\n",
      " [   0   -1    0    0    0    0    0    0]\n",
      " [   0    0    0    1    0    0    0    1]\n",
      " [   0    0    0    0    0   -1    0    2]\n",
      " [   0    0    0    0    0   -1    0    0]\n",
      " [   0    0    0    0    0    0    0   -1]\n",
      " [   0    0    0   -2    0    0    0   -1]\n",
      " [   0   -1    0    2    0    0    0    2]\n",
      " [   0    1    0   -1    0    1    0    0]\n",
      " [   0    1    0   -1    0    1    0    1]\n",
      " [   0    0    0    0    0    1    0    1]\n",
      " [   0    0    0    0    0    1    0   -1]\n",
      " [   0   -1    0    0    0   -1    0   -1]\n",
      " [   0    0    0    0    0    0    0   -1]\n",
      " [   0    0    0    0    0    0    0    1]\n",
      " [   0   -1    0   -1    0    0    0    1]\n",
      " [   0   -2    0    0    0    0    0    0]\n",
      " [   0    0    0    0    0    0    0    1]\n",
      " [   0    1    0    0    0    1    0    1]\n",
      " [   0   -1    0    0    0   -2    0    0]\n",
      " [   0    0    0    2    0   -1    0    0]\n",
      " [   0   -1    0    0    0    0    0    0]]\n"
     ]
    }
   ],
   "source": [
    "print('predict outlines...')\n",
    "newoutlines = model.predict(inputs, verbose=0)\n",
    "    \n",
    "np.set_printoptions(precision=0)\n",
    "print(np.reshape(np.stack((outlines[0]*100, newoutlines[0]*100), axis=-1).astype(np.int), (-1, 8)))"
   ]
  },
  {
   "cell_type": "code",
   "execution_count": 59,
   "metadata": {
    "collapsed": false
   },
   "outputs": [
    {
     "data": {
      "image/png": "[encoded data removed]",
      "text/plain": [
       "<PIL.Image.Image image mode=1 size=800x200 at 0x24C55217278>"
      ]
     },
     "execution_count": 59,
     "metadata": {},
     "output_type": "execute_result"
    }
   ],
   "source": [
    "#display(drawOutlines(np.reshape(newoutlines[:,0:30,:],(len(glyphs),-1)), cellsize, scheme),\n",
    "drawOutlines(np.reshape(newoutlines,(len(glyphs),-1, LastDim.Last_dim_size)), cellsize, Scheme.DXDY)"
   ]
  },
  {
   "cell_type": "code",
   "execution_count": 79,
   "metadata": {
    "collapsed": false
   },
   "outputs": [
    {
     "name": "stdout",
     "output_type": "stream",
     "text": [
      "\r",
      "32/62 [==============>...............] - ETA: 0s"
     ]
    },
    {
     "data": {
      "image/png": "[encoded data removed]",
      "text/plain": [
       "<PIL.Image.Image image mode=1 size=800x200 at 0x24C53A95278>"
      ]
     },
     "execution_count": 79,
     "metadata": {},
     "output_type": "execute_result"
    }
   ],
   "source": [
    "#now, what happens when we predict mixed glyphs?\n",
    "mixed_outlines = model.predict(np.random.random(inputs.shape), verbose=1)\n",
    "drawOutlines(mixed_outlines, cellsize, Scheme.DXDY)"
   ]
  },
  {
   "cell_type": "code",
   "execution_count": 86,
   "metadata": {
    "collapsed": false
   },
   "outputs": [
    {
     "name": "stdout",
     "output_type": "stream",
     "text": [
      "17/17 [==============================] - 0s\n"
     ]
    },
    {
     "data": {
      "image/png": "[encoded data removed]",
      "text/plain": [
       "<PIL.Image.Image image mode=1 size=1000x1250 at 0x24C53AB1EF0>"
      ]
     },
     "execution_count": 86,
     "metadata": {},
     "output_type": "execute_result"
    }
   ],
   "source": [
    "#what about interpolating between glyphs?  let's try gradually mixing A into B\n",
    "#need array [[1, 0, ...], [1, 0.1, ...]]\n",
    "A = inputs[4]\n",
    "B = inputs[5]\n",
    "steps=12\n",
    "mix = np.array([A*(steps-i)/steps + i*B/steps for i in range(steps+5)])\n",
    "#print(mix[:3])\n",
    "interp = model.predict(mix, verbose=1)\n",
    "drawOutlines(interp, cellsize*5, Scheme.DXDY)\n",
    "#not very convincing :(, perhaps raw points rather than angle, dist pairs for the outline would be better\n",
    "#also need to try interpolating A between two fonts"
   ]
  },
  {
   "cell_type": "code",
   "execution_count": null,
   "metadata": {
    "collapsed": true
   },
   "outputs": [],
   "source": []
  }
 ],
 "metadata": {
  "anaconda-cloud": {},
  "kernelspec": {
   "display_name": "Python [default]",
   "language": "python",
   "name": "python3"
  },
  "language_info": {
   "codemirror_mode": {
    "name": "ipython",
    "version": 3
   },
   "file_extension": ".py",
   "mimetype": "text/x-python",
   "name": "python",
   "nbconvert_exporter": "python",
   "pygments_lexer": "ipython3",
   "version": "3.5.2"
  }
 },
 "nbformat": 4,
 "nbformat_minor": 1
}
