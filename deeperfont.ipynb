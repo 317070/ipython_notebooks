{
 "cells": [
  {
   "cell_type": "markdown",
   "metadata": {},
   "source": [
    "# Deeperfont\n",
    "*[Website](http://nbviewer.jupyter.org/github/terryspitz/ipython_notebooks/blob/master/deeperfont.ipynb)*\n",
    "\n",
    "Deeperfont is a Neural Network attempt at the 'Font Problem' - that is, how to capture the essence of a font in such a way as to generalise to unseen glyphs and to allow interpolation between different fonts.  This problem was noted as early as 1979 when Donald Knuth wrote the first version of [MetaFont](https://en.wikipedia.org/wiki/Metafont).\n",
    "\n",
    "For this network initial research suggested the use of [Keras](https://keras.io/) and [Tensorflow](https://www.tensorflow.org/) as best practise for both getting started and long-term research.  \n",
    "\n",
    "As output the network will generate a set of [glyph outlines](https://en.wikipedia.org/wiki/Glyph).  The encoding of outputs has been considered in a number of ways: \n",
    "* raw (x,y) coordinates, for example as expressed in the [TrueType](https://en.wikipedia.org/wiki/TrueType) font file\n",
    "* incremental coordinate changes (dx,dy)\n",
    "* a conversion of these outlines to (angle, distance) pairs for each line as in [Turtle graphics](https://en.wikipedia.org/wiki/Turtle_graphics) (best known for its  use in [Logo](https://en.wikipedia.org/wiki/Logo_(programming_language).)  We do not currently model the bezier curves used in the original glyphs; a future enhancement could use a rendered glyph as the source of font coordinates to train against.\n",
    "\n",
    "Considering the [loss](https://en.wikipedia.org/wiki/Loss_function) or evaluation function we note that the exact sequence of points in the glyph can be varied while generating identical rendered output, for example a line segment can be split into a number of smaller colinear segments.  The network should be free to express its results in any equivalent way.  The evaluation function is therefore required to compare rendered output.  We build an evaluation function in pure Tensorflow using a [scanline algorithm](https://en.wikipedia.org/wiki/Scanline_rendering) to generate a tensor containing the x coordinates of the outline for a set of equi-spaced y line.  The predicted and true outlines are then compared by calculating the difference in these coordinates (or perhaps *visible pixels* in a future enhancement).\n",
    "\n",
    "We would like access to the trained glyph outlines but since the network loss function requires the x coordinates we use a final lambda layer to render the outlines for comparison in the loss function, then use the previous, outline generation layer from the fitted model when making predictions.\n",
    "\n",
    "As input we provide a [one-hot](https://en.wikipedia.org/wiki/One-hot) vector respresenting the individual glyphs to render.  In a future enhancement where we train against multiple fonts, this input could also include a font feature or even font classifications such as serif/sans-serif/script/etc.\n",
    "\n",
    "See also:\n",
    "* [MetaFont](https://en.wikipedia.org/wiki/Metafont)\n",
    "* [Metaflop - interactive MetaFont](http://www.metaflop.com/modulator)\n",
    "* [deepfont](https://erikbern.com/2016/01/21/analyzing-50k-fonts-using-deep-neural-networks.html)\n",
    "* https://arxiv.org/abs/1507.03196\n",
    "* https://pypi.python.org/pypi/FontTools\n"
   ]
  },
  {
   "cell_type": "code",
   "execution_count": 1,
   "metadata": {
    "collapsed": false
   },
   "outputs": [
    {
     "name": "stderr",
     "output_type": "stream",
     "text": [
      "Using TensorFlow backend.\n"
     ]
    },
    {
     "name": "stdout",
     "output_type": "stream",
     "text": [
      "1.13.1\n",
      "1.2.0\n",
      "2.0.6\n"
     ]
    }
   ],
   "source": [
    "from enum import Enum\n",
    "import math\n",
    "import os\n",
    "import glob\n",
    "import xml.etree.ElementTree as ET\n",
    "import numpy as np\n",
    "from PIL import Image, ImageDraw, ImageChops, ImageFont\n",
    "from IPython.display import display\n",
    "from keras.callbacks import TensorBoard\n",
    "import keras.models as models\n",
    "import keras.layers as layers\n",
    "import keras.initializers\n",
    "import keras\n",
    "import tensorflow as tf\n",
    "print(np.__version__)\n",
    "print(tf.__version__)\n",
    "print(keras.__version__)\n",
    "np.set_printoptions(precision=2)"
   ]
  },
  {
   "cell_type": "code",
   "execution_count": 2,
   "metadata": {
    "collapsed": false
   },
   "outputs": [],
   "source": [
    "class Scheme(Enum):\n",
    "    \"\"\"\n",
    "    Enum defining scheme for respresenting the glyph outlines:\n",
    "    XY: the raw (x,y) coordinates\n",
    "    DXDY: incremental coordinate changes (dx,dy)\n",
    "    ANGDIST: a conversion of these outlines to (angle, distance) pairs for each line \n",
    "    \"\"\"\n",
    "    XY = 1\n",
    "    DXDY = 2\n",
    "    ANGDIST = 3\n",
    "\n",
    "def renderGlyphs(gls, max_points_per_line, ygrid, scheme):\n",
    "    '''\n",
    "    Pure tensorflow function\n",
    "    Input: 2D tensor of glyph * outlines (either x,y or angle, distance pairs)\n",
    "    Output: glyph * matrix of sorted x coords for each line per y coording\n",
    "    '''\n",
    "    if scheme == Scheme.XY:\n",
    "        xs = gls[:,::2]\n",
    "        ys = gls[:,1::2]\n",
    "        visible = tf.logical_or(xs[:,1:]>0,ys[:,1:]>0)\n",
    "    elif scheme == Scheme.DXDY:\n",
    "        dxs = gls[:,::2]\n",
    "        dys = gls[:,1::2]\n",
    "        xs = tf.cumsum(dxs, axis=-1)+1e-2\n",
    "        ys = tf.cumsum(dys, axis=-1)+1e-2\n",
    "        visible = tf.logical_or(xs[:,1:]>0,ys[:,1:]>0)\n",
    "    elif scheme == Scheme.ANGDIST:\n",
    "        angles = gls[:,::2]\n",
    "        dists = gls[:,1::2]\n",
    "        visible = dists[:,1:]>0\n",
    "        #turn angles,dists into coordinates\n",
    "        xs = tf.cumsum(tf.abs(dists)*tf.cos(angles*math.pi), axis=-1)+1e-2\n",
    "        ys = tf.cumsum(tf.abs(dists)*tf.sin(angles*math.pi), axis=-1)+1e-2\n",
    "    #offset to create line start x1,y1 to end x2,y2\n",
    "    x1s = xs[:,:-1]\n",
    "    x2s = xs[:,1:]\n",
    "    y1s = ys[:,:-1]\n",
    "    y2s = ys[:,1:]\n",
    "    #add 3rd dimension (size=1) so following interpolation in y is broadcast across all lines\n",
    "    xx1s=tf.expand_dims(x1s,-1)\n",
    "    xx2s=tf.expand_dims(x2s,-1)\n",
    "    yy1s=tf.expand_dims(y1s,-1)\n",
    "    yy2s=tf.expand_dims(y2s,-1)\n",
    "    #interpolate the x coords for all lines at all y coord\n",
    "    xxs = xx1s + (xx2s-xx1s)*(ygrid-yy1s)/(yy2s-yy1s)\n",
    "    #zero x coords outside of line y bounds or where dy=0 and for hidden lines\n",
    "    in_range = tf.logical_or(tf.logical_and(yy1s<ygrid, ygrid<=yy2s), tf.logical_and(yy2s<ygrid, ygrid<=yy1s))\n",
    "    in_range = tf.logical_and(in_range, yy2s!=yy1s)\n",
    "    in_range = tf.logical_and(in_range, tf.expand_dims(visible,-1))\n",
    "    xxs = tf.where(in_range, xxs, tf.zeros_like(xxs)) \n",
    "    return tf.nn.top_k(tf.transpose(xxs, perm=(0,2,1)),max_points_per_line).values"
   ]
  },
  {
   "cell_type": "code",
   "execution_count": 3,
   "metadata": {
    "collapsed": false
   },
   "outputs": [],
   "source": [
    "#Read Font outlines from local font files and write outlines to file for fitting\n",
    "from fontTools.ttLib import TTFont  #pip install fonttools\n",
    "\n",
    "def GetCoordinates(font, glyphName):\n",
    "    \"\"\"font, glyphName --> glyph coordinates as expected by \"gvar\" table\n",
    "    The result includes four \"phantom points\" for the glyph metrics,\n",
    "    as mandated by the \"gvar\" spec.\n",
    "    Function from https://github.com/fonttools/fonttools/blob/master/Snippets/interpolate.py\n",
    "    By inspection coords[0] are all points, and coords[1] are the end of the ranges for each contour (shape)\n",
    "    \"\"\"\n",
    "    glyphTable = font[\"glyf\"]\n",
    "    glyph = glyphTable.glyphs.get(glyphName)\n",
    "    if glyph is None:\n",
    "        return None\n",
    "    glyph.expand(glyphTable)\n",
    "    glyph.recalcBounds(glyphTable)\n",
    "    coords = glyph.getCoordinates(glyphTable)\n",
    "    start=0\n",
    "    contours = []\n",
    "    for end in coords[1]:\n",
    "        contours.append(coords[0][start:end+1])\n",
    "        start=end+1\n",
    "    return contours\n",
    "\n",
    "def readFonts(glyphs, max_points_per_line, ygrid):\n",
    "    glyphinputs = np.identity(len(glyphs), dtype=float)  #input is one-hot vec, one per glyph\n",
    "    files = glob.glob('deeper/*.ttf')\n",
    "    fontvec = np.identity(len(files), dtype=float)  #one-hot vec, one per file\n",
    "    inputs = []\n",
    "    outlines = []\n",
    "    for i, fontfile in enumerate(files):\n",
    "        fontvec = np.zeros(len(files))\n",
    "        fontvec[i]=1\n",
    "        inputs.append(np.concatenate(glyphinputs, fontvec))\n",
    "        outlines.append(generateOutlines(fontfile, glyphs, max_points_per_line, ygrid))\n",
    "    return np.stack(inputs), np.stack(outlines)\n",
    "\n",
    "def generateOutlines(fontfile, glyphs, max_points_per_line, ygrid):\n",
    "    \"\"\"\n",
    "    Read the actual points from all glyphs in the font into numpy array.\n",
    "    Output is array of glyphs x points x 2 (angle in radians, distance).\n",
    "    We use float not the original ints from the font - according to https://github.com/fchollet/keras/issues/2218.\n",
    "    \"\"\"\n",
    "    font = TTFont(fontfile)\n",
    "    unitsPerEm = font['head'].unitsPerEm * 0.9\n",
    "    def angleDist(p1, p2, hidden=False):\n",
    "        \"\"\"Given two point tuples return the angle scaled to [-1,1], and distance scaled similarly\"\"\"\n",
    "        dx = p2[0]-p1[0]\n",
    "        dy = p2[1]-p1[1]\n",
    "        return math.atan2(dy,dx)/math.pi, math.sqrt(dx**2 + dy**2) * (-1 if hidden else 1) / unitsPerEm  #negative distance means hidden\n",
    "    numglyphs = len(glyphs)\n",
    "    outlines = np.zeros((numglyphs, 200), np.float32)\n",
    "    Y = np.zeros((numglyphs, len(ygrid),max_points_per_line), np.float32)\n",
    "    for i, letter in enumerate(glyphs):\n",
    "        contours = GetCoordinates(font, letter)\n",
    "        outline = []\n",
    "        startp = (0,0.1)\n",
    "        #ttx contours are areas within the glyph, like the outside and inside outlines of an O\n",
    "        for xy in contours:\n",
    "            #fill output matrix, start with hidden line to start position\n",
    "            outline += angleDist(startp, xy[0], hidden=True)\n",
    "            startp = xy[0]\n",
    "            #then between points\n",
    "            for n in range(len(xy)-1):\n",
    "                outline += angleDist(xy[n],xy[n+1])\n",
    "            #finally wrap last point to first in contour\n",
    "            N=len(xy)-1\n",
    "            outline += angleDist(xy[N],xy[0])\n",
    "        if len(outline)>outlines.shape[1]: print(\"outline for \"+letter+\" has too many points: \",len(outline))\n",
    "        outlines[i,:len(outline)] = np.array(outline[:outlines.shape[1]], dtype=np.float32)\n",
    "    return outlines"
   ]
  },
  {
   "cell_type": "code",
   "execution_count": 4,
   "metadata": {
    "collapsed": false
   },
   "outputs": [],
   "source": [
    "def drawOutlines(outlines, cellsize, scheme):\n",
    "    \"\"\"Draw numpy array interpreted as a glyph per row and each row containing x,y or angle,dist pairs.\"\"\"\n",
    "    columns = math.ceil(800/cellsize)\n",
    "    rows = math.ceil(outlines.shape[0]/columns)\n",
    "    def drawPoints(im, points, cellx, celly):\n",
    "        #temporary image to use to xor each part with main image\n",
    "        im2 = Image.new('1', size=(columns*cellsize, rows*cellsize), color=(0)) \n",
    "        draw = ImageDraw.Draw(im2) \n",
    "        draw.polygon(points, fill=1)\n",
    "        im = ImageChops.logical_xor(im, im2)\n",
    "        return im\n",
    "    scale = cellsize * 0.9\n",
    "    im = Image.new('1', size=(columns*cellsize, rows*cellsize), color=(0)) \n",
    "    for i in range(outlines.shape[0]):\n",
    "        celly,cellx = divmod(i, columns)\n",
    "        cellx *= cellsize\n",
    "        celly *= cellsize\n",
    "        points = []\n",
    "        x,y=(0,cellsize-1)\n",
    "        for j in range(0, outlines.shape[1], 2):\n",
    "            if scheme == Scheme.XY:\n",
    "                x = outlines[i][j]*scale\n",
    "                y = -outlines[i][j+1]*scale\n",
    "                visible = x>0 or y>0\n",
    "            elif scheme == Scheme.DXDY:\n",
    "                x += outlines[i][j]*scale\n",
    "                y -= outlines[i][j+1]*scale\n",
    "                visible = x>0 or y>0\n",
    "            elif scheme == Scheme.ANGDIST:\n",
    "                angle = outlines[i][j]\n",
    "                dist = outlines[i][j+1]\n",
    "                x += abs(dist)*math.cos(angle*math.pi)*scale\n",
    "                y -= abs(dist)*math.sin(angle*math.pi)*scale\n",
    "                visible = dist>0\n",
    "            if visible:\n",
    "                points += (cellx+x,celly+y)\n",
    "            elif len(points)>2:\n",
    "                im = drawPoints(im, points, cellx, celly)\n",
    "                points=[]\n",
    "        if len(points)>2:\n",
    "            im = drawPoints(im, points, cellx, celly)\n",
    "    return im\n",
    "\n",
    "def drawXYs(xxs, ygrid, cellsize):\n",
    "    '''Draw a glyph rasterisation based on a input y coord array with array of x-intercepts of lines with the y coord'''\n",
    "    columns = math.ceil(800/cellsize)\n",
    "    rows = math.ceil(xxs.shape[0]/columns)\n",
    "    scale = cellsize * 0.9\n",
    "    im = Image.new('1', size=(columns*cellsize, rows*cellsize), color=(0)) \n",
    "    draw = ImageDraw.Draw(im) \n",
    "    for i in range(xxs.shape[0]):\n",
    "        yy,xx = divmod(i, columns)\n",
    "        xx *= cellsize\n",
    "        yy = (yy+1)*cellsize-1\n",
    "        for xs, y in zip(xxs[i], ygrid):\n",
    "            for x in xs:\n",
    "                if x>0.0:\n",
    "                    draw.ellipse((xx+x*scale, yy-y*scale, xx+x*scale+3, yy-y*scale+3), fill=1)\n",
    "    return im"
   ]
  },
  {
   "cell_type": "code",
   "execution_count": 16,
   "metadata": {
    "collapsed": false
   },
   "outputs": [
    {
     "name": "stdout",
     "output_type": "stream",
     "text": [
      "setup...\n",
      "outline shape:  (62, 200)\n"
     ]
    },
    {
     "data": {
      "image/png": "[encoded data removed]",
      "text/plain": [
       "<PIL.Image.Image image mode=1 size=800x200 at 0x1241AA53978>"
      ]
     },
     "execution_count": 16,
     "metadata": {},
     "output_type": "execute_result"
    }
   ],
   "source": [
    "print('setup...')\n",
    "glyphs = [chr(i) for i in range(ord('A'), ord('Z')+1)]\n",
    "glyphs += [chr(i) for i in range(ord('a'), ord('z')+1)]\n",
    "glyphs += ['zero','one','two','three','four','five','six','seven','eight','nine']\n",
    "#glyphs = ['A','B','a','b','one','two']\n",
    "max_points_per_line = 10 # required for g, m\n",
    "y_divisions = 20\n",
    "ygrid = np.linspace(0.0, 1.0, y_divisions, endpoint=False) #y coordinates to render on\n",
    "#inputs, outlines = readFonts(glyphs, max_points_per_line, ygrid)\n",
    "inputs = np.identity(len(glyphs), dtype=float)  #input is one-hot vec, one per glyph\n",
    "outlines = generateOutlines('deeper/Courier Prime.ttf', glyphs, max_points_per_line, ygrid)\n",
    "print(\"outline shape: \", outlines.shape)\n",
    "scheme = Scheme.ANGDIST\n",
    "#with tf.Session() as sess:\n",
    "#    xcoords = renderGlyphs(outlines, max_points_per_line, ygrid, scheme).eval()\n",
    "    #print(xcoords)\n",
    "#    print(\"output shape: \", xcoords.shape)\n",
    "cellsize = 50\n",
    "drawOutlines(outlines, cellsize, scheme)\n",
    "#display(drawOutlines(outlines, cellsize, scheme), drawXYs(xcoords, ygrid, cellsize))"
   ]
  },
  {
   "cell_type": "code",
   "execution_count": 57,
   "metadata": {
    "collapsed": false
   },
   "outputs": [
    {
     "name": "stdout",
     "output_type": "stream",
     "text": [
      "compile models...\n",
      "95 (5890, 5, 2) (5890, 2) (5890, 5, 62)\n",
      "[[[ 0.1  -0.23]\n",
      "  [ 0.    0.02]\n",
      "  [-0.26  0.02]\n",
      "  [-0.5   0.02]\n",
      "  [-0.5   0.02]]\n",
      "\n",
      " [[ 0.    0.02]\n",
      "  [-0.26  0.02]\n",
      "  [-0.5   0.02]\n",
      "  [-0.5   0.02]\n",
      "  [-0.74  0.02]]]\n",
      "____________________________________________________________________________________________________\n",
      "Layer (type)                     Output Shape          Param #     Connected to                     \n",
      "====================================================================================================\n",
      "timestepinput (InputLayer)       (None, 5, 2)          0                                            \n",
      "____________________________________________________________________________________________________\n",
      "lstm_33 (LSTM)                   (None, 5, 32)         4480        timestepinput[0][0]              \n",
      "____________________________________________________________________________________________________\n",
      "glyphinput (InputLayer)          (None, 5, 62)         0                                            \n",
      "____________________________________________________________________________________________________\n",
      "concatenate_10 (Concatenate)     (None, 5, 94)         0           lstm_33[0][0]                    \n",
      "                                                                   glyphinput[0][0]                 \n",
      "____________________________________________________________________________________________________\n",
      "dense_1 (Dense)                  (None, 5, 64)         6080        concatenate_10[0][0]             \n",
      "____________________________________________________________________________________________________\n",
      "lstm_34 (LSTM)                   (None, 5, 32)         12416       dense_1[0][0]                    \n",
      "____________________________________________________________________________________________________\n",
      "flatten_12 (Flatten)             (None, 160)           0           lstm_34[0][0]                    \n",
      "____________________________________________________________________________________________________\n",
      "outlines (Dense)                 (None, 2)             322         flatten_12[0][0]                 \n",
      "====================================================================================================\n",
      "Total params: 23,298\n",
      "Trainable params: 23,298\n",
      "Non-trainable params: 0\n",
      "____________________________________________________________________________________________________\n"
     ]
    }
   ],
   "source": [
    "print('compile models...')\n",
    "timesteps = 5\n",
    "#indices = np.zeros(shape=(timesteps, len(inputs)-timesteps), dtype=np.int32)\n",
    "#for i in range(timesteps):\n",
    "#    indices[i,:] = np.arange(i, i+len(inputs)-timesteps)\n",
    "outlines = np.reshape(outlines, (outlines.shape[0], -1, 2))\n",
    "#print(outlines.shape, outlines[0][:10])\n",
    "batch_size = outlines.shape[1]-timesteps\n",
    "#inputs->outputs:\n",
    "#A1, A2, A3... -> A6\n",
    "#A2, A3, A4... -> A7\n",
    "#...\n",
    "#B1, B2, B3... -> B6\n",
    "timestepinputs = np.stack([r[i:i+timesteps] for r in outlines for i in range(batch_size)])\n",
    "timestepoutputs = np.stack([r[i+timesteps] for r in outlines for i in range(batch_size)])\n",
    "glyphinputs = np.reshape(np.repeat(inputs, batch_size*timesteps, axis=0), (-1, timesteps, len(glyphs)))\n",
    "print(batch_size, timestepinputs.shape, timestepoutputs.shape, glyphinputs.shape)\n",
    "print(timestepinputs[0:2])\n",
    "inputlayer = layers.Input(shape=(timesteps, 2), name='timestepinput')\n",
    "layer = layers.LSTM(32, input_shape=(timesteps, 2), dropout=0.1, return_sequences=True)(inputlayer)\n",
    "glyphinputlayer = layers.Input(shape=(timesteps, glyphinputs.shape[2]), name='glyphinput')\n",
    "concat = keras.layers.concatenate([layer, glyphinputlayer])\n",
    "layer = layers.Dense(64)(concat)\n",
    "layer = layers.LSTM(32, dropout=0.1, recurrent_dropout=0.1, return_sequences=True, stateful=False)(layer)\n",
    "layer = layers.Flatten()(layer)\n",
    "outlineslayer = layers.Dense(2, name='outlines')(layer)\n",
    "#scheme = Scheme.ANGDIST\n",
    "#model.add(layers.Lambda(lambda outline: renderGlyphs(outline, max_points_per_line, ygrid, scheme), name='renderGlyph'))\n",
    "model = models.Model(inputs=(inputlayer, glyphinputlayer), outputs=outlineslayer)\n",
    "model.summary()\n",
    "model.compile(loss='mse', optimizer='rmsprop', metrics=['mae'])\n",
    "##grab a model excluding final rendering layer for fitting/predicting outlines only\n",
    "#outlines_model = models.Model(inputs=model.input, outputs=model.get_layer('outlines').output)\n",
    "#outlines_model.compile(loss='mse', optimizer='rmsprop', metrics=['mae'])\n",
    "#print(\"outlines_model.output_shape\", outlines_model.output_shape)"
   ]
  },
  {
   "cell_type": "code",
   "execution_count": null,
   "metadata": {
    "collapsed": false
   },
   "outputs": [
    {
     "name": "stdout",
     "output_type": "stream",
     "text": [
      "fitting model...\n",
      "view using:\n",
      "tensorboard --logdir=C:\\src\\Repos\\ipython_notebooks\\logs\n"
     ]
    }
   ],
   "source": [
    "print('fitting model...')\n",
    "epochs=100\n",
    "logs = 'logs/deeperlstm3266432'\n",
    "print('view using:\\ntensorboard --logdir='+os.path.abspath('logs'))\n",
    "board = TensorBoard(log_dir=logs)#, histogram_freq=10000)\n",
    "model.fit({'timestepinput':timestepinputs, 'glyphinput':glyphinputs}, timestepoutputs, batch_size=batch_size, epochs=epochs, verbose=2, callbacks=[board], shuffle=False)\n",
    "#for i in range(epochs):\n",
    "#    model.fit(timestepinputs, timestepoutputs, epochs=1, batch_size=batch_size, verbose=2, shuffle=False, callbacks=[board])\n",
    "#    model.reset_states()\n",
    "#scores = model.evaluate({'timestepinput':timestepinputs, 'glyphinput':glyphinputs}, timestepoutputs, verbose=0)\n",
    "#print(\"%s: %.2f%%\" % (model.metrics_names[0], scores[0]*100))\n",
    "#print(\"%s: %.2f%%\" % (model.metrics_names[1], scores[1]*100))"
   ]
  },
  {
   "cell_type": "code",
   "execution_count": 55,
   "metadata": {
    "collapsed": false
   },
   "outputs": [
    {
     "name": "stdout",
     "output_type": "stream",
     "text": [
      "predict outlines...\n"
     ]
    }
   ],
   "source": [
    "print('predict outlines...')\n",
    "newoutlines = np.zeros_like(outlines)\n",
    "newoutlines[:,0:timesteps] = outlines[:,0:timesteps] #start with existing\n",
    "predictglyphinputs = np.reshape(np.repeat(inputs, timesteps, axis=0), (-1, timesteps, len(glyphs)))\n",
    "\n",
    "for i in range(batch_size):\n",
    "    predict = model.predict({'timestepinput': np.reshape(newoutlines[:,i:i+timesteps], (-1, timesteps, 2)), \n",
    "                             'glyphinput': predictglyphinputs }, \n",
    "                            verbose=0)\n",
    "    newoutlines[:,i+timesteps] = np.reshape(predict, (-1, 2))\n",
    "    "
   ]
  },
  {
   "cell_type": "code",
   "execution_count": 49,
   "metadata": {
    "collapsed": false
   },
   "outputs": [
    {
     "name": "stdout",
     "output_type": "stream",
     "text": [
      "[  4.21e-01   4.21e-01  -5.88e-01  -5.88e-01   1.00e+00   1.00e+00\n",
      "   6.62e-02   6.62e-02   1.00e+00   1.00e+00   1.84e-02   1.84e-02\n",
      "   7.45e-01   7.45e-01   2.26e-02   2.26e-02   5.00e-01   5.00e-01\n",
      "   2.06e-02   2.06e-02   5.00e-01   4.26e-01   2.06e-02   2.82e-02\n",
      "   2.55e-01   2.85e-01   2.26e-02   3.99e-02   0.00e+00   1.57e-01\n",
      "   1.84e-02   5.67e-02   0.00e+00   1.14e-01   2.72e-01   6.14e-02\n",
      "   0.00e+00   9.46e-02   4.88e-02   5.96e-02  -1.04e-01   3.02e-02\n",
      "   7.79e-02   5.22e-02  -2.39e-01  -6.31e-02   6.76e-02   4.29e-02\n",
      "  -3.80e-01  -1.86e-01   6.94e-02   2.14e-02  -5.00e-01  -3.19e-01\n",
      "   3.91e-02   1.22e-02  -5.00e-01  -3.23e-01   4.23e-02   4.71e-02\n",
      "  -6.73e-01  -1.49e-01   7.35e-02   4.75e-02  -8.35e-01   1.41e-01\n",
      "   3.94e-02   3.39e-02  -9.88e-02   3.30e-01   6.04e-02   6.09e-03\n",
      "  -2.94e-01   5.30e-01   1.02e-01   1.35e-02  -5.00e-01   5.92e-01\n",
      "   6.08e-02   3.89e-02  -5.00e-01   5.23e-01   4.29e-02   3.54e-02\n",
      "  -6.23e-01   5.08e-01   7.32e-02   3.59e-02  -7.67e-01   5.01e-01\n",
      "   7.15e-02   4.18e-02  -8.99e-01   4.45e-01   8.17e-02   4.77e-02\n",
      "   1.00e+00   3.76e-01   4.99e-02   4.87e-02   1.00e+00   3.37e-01\n",
      "   3.08e-01   5.14e-02   1.00e+00   3.12e-01   1.84e-02   5.25e-02\n",
      "   7.45e-01   2.77e-01   2.26e-02   5.01e-02   5.00e-01   2.29e-01\n",
      "   2.06e-02   5.00e-02   5.00e-01   1.86e-01   2.06e-02   5.21e-02\n",
      "   2.55e-01   1.43e-01   2.26e-02   5.38e-02   0.00e+00   8.95e-02\n",
      "   1.84e-02   5.47e-02   0.00e+00   2.91e-02   6.62e-02   5.33e-02\n",
      "   5.00e-01  -4.01e-02   4.96e-01   4.52e-02  -3.64e-01  -1.48e-01\n",
      "  -5.45e-01   2.56e-02   0.00e+00  -2.91e-01   6.78e-02   8.18e-03\n",
      "   2.17e-01  -3.31e-01   9.14e-02   3.89e-02   5.00e-01  -1.98e-01\n",
      "   5.26e-02   5.08e-02   5.00e-01   8.32e-02   1.12e-01   3.60e-02\n",
      "   1.00e+00   2.89e-01   1.36e-01   1.05e-02   1.00e+00   4.79e-01\n",
      "   1.46e-01   7.05e-03  -5.00e-01   5.96e-01   2.22e-01   3.44e-02\n",
      "   0.00e+00   5.28e-01   1.44e-01   3.89e-02   5.34e-01   5.06e-01\n",
      "  -2.97e-01   3.48e-02   0.00e+00   5.02e-01   6.40e-02   4.00e-02\n",
      "   2.21e-01   4.61e-01   8.13e-02   4.66e-02   5.00e-01   3.92e-01\n",
      "   4.77e-02   4.80e-02   5.00e-01   3.47e-01   4.94e-02   5.05e-02\n",
      "   7.80e-01   3.21e-01   8.09e-02   5.23e-02   1.00e+00   2.89e-01\n",
      "   6.40e-02   5.06e-02   1.00e+00   2.44e-01   1.12e-01   4.97e-02\n",
      "  -5.00e-01   1.99e-01   2.01e-01   5.15e-02   0.00e+00   1.57e-01\n",
      "   1.12e-01   5.32e-02   0.00e+00   1.08e-01   0.00e+00   5.46e-02\n",
      "   0.00e+00   4.82e-02   0.00e+00   5.43e-02   0.00e+00  -1.68e-02\n",
      "   0.00e+00   4.87e-02   0.00e+00  -1.08e-01   0.00e+00   3.31e-02\n",
      "   0.00e+00  -2.50e-01   0.00e+00   9.98e-03   0.00e+00  -3.37e-01\n",
      "   0.00e+00   2.63e-02   0.00e+00  -2.58e-01   0.00e+00   5.34e-02\n",
      "   0.00e+00  -8.43e-03   0.00e+00   3.94e-02   0.00e+00   2.29e-01\n",
      "   0.00e+00   1.98e-02   0.00e+00   4.05e-01   0.00e+00   5.25e-04\n",
      "   0.00e+00   5.84e-01   0.00e+00   2.49e-02   0.00e+00   5.43e-01\n",
      "   0.00e+00   4.25e-02   0.00e+00   5.05e-01   0.00e+00   3.37e-02\n",
      "   0.00e+00   5.01e-01   0.00e+00   3.80e-02   0.00e+00   4.82e-01\n",
      "   0.00e+00   4.42e-02   0.00e+00   4.18e-01   0.00e+00   4.72e-02\n",
      "   0.00e+00   3.62e-01   0.00e+00   4.91e-02   0.00e+00   3.32e-01\n",
      "   0.00e+00   5.17e-02   0.00e+00   3.05e-01   0.00e+00   5.13e-02\n",
      "   0.00e+00   2.64e-01   0.00e+00   4.95e-02   0.00e+00   2.18e-01\n",
      "   0.00e+00   5.07e-02   0.00e+00   1.76e-01   0.00e+00   5.26e-02\n",
      "   0.00e+00   1.31e-01   0.00e+00   5.40e-02   0.00e+00   7.42e-02\n",
      "   0.00e+00   5.46e-02   0.00e+00   1.28e-02   0.00e+00   5.20e-02\n",
      "   0.00e+00  -6.19e-02   0.00e+00   4.15e-02   0.00e+00  -1.84e-01\n",
      "   0.00e+00   1.92e-02   0.00e+00  -3.17e-01   0.00e+00   1.14e-02\n",
      "   0.00e+00  -3.14e-01   0.00e+00   4.72e-02   0.00e+00  -1.37e-01\n",
      "   0.00e+00   4.64e-02   0.00e+00   1.44e-01   0.00e+00   3.18e-02\n",
      "   0.00e+00   3.31e-01   0.00e+00   4.30e-03   0.00e+00   5.29e-01\n",
      "   0.00e+00   1.37e-02   0.00e+00   5.83e-01   0.00e+00   3.92e-02\n",
      "   0.00e+00   5.17e-01   0.00e+00   3.58e-02   0.00e+00   5.02e-01\n",
      "   0.00e+00   3.61e-02   0.00e+00   4.97e-01   0.00e+00   4.17e-02\n",
      "   0.00e+00   4.44e-01   0.00e+00   4.73e-02   0.00e+00   3.78e-01\n",
      "   0.00e+00   4.82e-02   0.00e+00   3.39e-01   0.00e+00   5.11e-02\n",
      "   0.00e+00   3.15e-01   0.00e+00   5.21e-02   0.00e+00   2.80e-01\n",
      "   0.00e+00   5.00e-02   0.00e+00   2.33e-01   0.00e+00   5.00e-02\n",
      "   0.00e+00   1.90e-01   0.00e+00   5.20e-02   0.00e+00   1.47e-01\n",
      "   0.00e+00   5.36e-02   0.00e+00   9.43e-02   0.00e+00   5.47e-02\n",
      "   0.00e+00   3.42e-02   0.00e+00   5.36e-02]\n"
     ]
    },
    {
     "data": {
      "image/png": "[encoded data removed]",
      "text/plain": [
       "<PIL.Image.Image image mode=1 size=800x200 at 0x12448FCFF60>"
      ]
     },
     "execution_count": 49,
     "metadata": {},
     "output_type": "execute_result"
    }
   ],
   "source": [
    "#print(np.concatenate((outlines[0], outlines[2]), axis=1))\n",
    "print(np.stack((outlines[1].flatten(), newoutlines[1].flatten()), axis=-1).flatten())\n",
    "drawOutlines(np.reshape(newoutlines,(len(glyphs),-1)), cellsize, scheme)"
   ]
  },
  {
   "cell_type": "code",
   "execution_count": 56,
   "metadata": {
    "collapsed": false
   },
   "outputs": [
    {
     "ename": "ValueError",
     "evalue": "The model expects 2  arrays, but only received one array. Found: array with shape (5890, 5, 2)",
     "output_type": "error",
     "traceback": [
      "\u001b[0;31m---------------------------------------------------------------------------\u001b[0m",
      "\u001b[0;31mValueError\u001b[0m                                Traceback (most recent call last)",
      "\u001b[0;32m<ipython-input-56-d06a630f2760>\u001b[0m in \u001b[0;36m<module>\u001b[0;34m()\u001b[0m\n\u001b[1;32m      1\u001b[0m \u001b[1;31m#now, what happens when we predict mixed glyphs?\u001b[0m\u001b[1;33m\u001b[0m\u001b[1;33m\u001b[0m\u001b[0m\n\u001b[0;32m----> 2\u001b[0;31m \u001b[0mmixed_outlines\u001b[0m \u001b[1;33m=\u001b[0m \u001b[0mmodel\u001b[0m\u001b[1;33m.\u001b[0m\u001b[0mpredict\u001b[0m\u001b[1;33m(\u001b[0m\u001b[0mnp\u001b[0m\u001b[1;33m.\u001b[0m\u001b[0mrandom\u001b[0m\u001b[1;33m.\u001b[0m\u001b[0mrandom\u001b[0m\u001b[1;33m(\u001b[0m\u001b[0mtimestepinputs\u001b[0m\u001b[1;33m.\u001b[0m\u001b[0mshape\u001b[0m\u001b[1;33m)\u001b[0m\u001b[1;33m,\u001b[0m \u001b[0mverbose\u001b[0m\u001b[1;33m=\u001b[0m\u001b[1;36m1\u001b[0m\u001b[1;33m)\u001b[0m\u001b[1;33m\u001b[0m\u001b[0m\n\u001b[0m\u001b[1;32m      3\u001b[0m \u001b[0mdrawOutlines\u001b[0m\u001b[1;33m(\u001b[0m\u001b[0mmixed_outlines\u001b[0m\u001b[1;33m,\u001b[0m \u001b[0mcellsize\u001b[0m\u001b[1;33m,\u001b[0m \u001b[0mscheme\u001b[0m\u001b[1;33m)\u001b[0m\u001b[1;33m\u001b[0m\u001b[0m\n",
      "\u001b[0;32mC:\\Program Files\\Anaconda3\\lib\\site-packages\\keras\\engine\\training.py\u001b[0m in \u001b[0;36mpredict\u001b[0;34m(self, x, batch_size, verbose)\u001b[0m\n\u001b[1;32m   1497\u001b[0m         x = _standardize_input_data(x, self._feed_input_names,\n\u001b[1;32m   1498\u001b[0m                                     \u001b[0mself\u001b[0m\u001b[1;33m.\u001b[0m\u001b[0m_feed_input_shapes\u001b[0m\u001b[1;33m,\u001b[0m\u001b[1;33m\u001b[0m\u001b[0m\n\u001b[0;32m-> 1499\u001b[0;31m                                     check_batch_axis=False)\n\u001b[0m\u001b[1;32m   1500\u001b[0m         \u001b[1;32mif\u001b[0m \u001b[0mself\u001b[0m\u001b[1;33m.\u001b[0m\u001b[0mstateful\u001b[0m\u001b[1;33m:\u001b[0m\u001b[1;33m\u001b[0m\u001b[0m\n\u001b[1;32m   1501\u001b[0m             \u001b[1;32mif\u001b[0m \u001b[0mx\u001b[0m\u001b[1;33m[\u001b[0m\u001b[1;36m0\u001b[0m\u001b[1;33m]\u001b[0m\u001b[1;33m.\u001b[0m\u001b[0mshape\u001b[0m\u001b[1;33m[\u001b[0m\u001b[1;36m0\u001b[0m\u001b[1;33m]\u001b[0m \u001b[1;33m>\u001b[0m \u001b[0mbatch_size\u001b[0m \u001b[1;32mand\u001b[0m \u001b[0mx\u001b[0m\u001b[1;33m[\u001b[0m\u001b[1;36m0\u001b[0m\u001b[1;33m]\u001b[0m\u001b[1;33m.\u001b[0m\u001b[0mshape\u001b[0m\u001b[1;33m[\u001b[0m\u001b[1;36m0\u001b[0m\u001b[1;33m]\u001b[0m \u001b[1;33m%\u001b[0m \u001b[0mbatch_size\u001b[0m \u001b[1;33m!=\u001b[0m \u001b[1;36m0\u001b[0m\u001b[1;33m:\u001b[0m\u001b[1;33m\u001b[0m\u001b[0m\n",
      "\u001b[0;32mC:\\Program Files\\Anaconda3\\lib\\site-packages\\keras\\engine\\training.py\u001b[0m in \u001b[0;36m_standardize_input_data\u001b[0;34m(data, names, shapes, check_batch_axis, exception_prefix)\u001b[0m\n\u001b[1;32m    105\u001b[0m                              \u001b[0mexception_prefix\u001b[0m \u001b[1;33m+\u001b[0m\u001b[1;33m\u001b[0m\u001b[0m\n\u001b[1;32m    106\u001b[0m                              \u001b[1;34m' arrays, but only received one array. '\u001b[0m\u001b[1;33m\u001b[0m\u001b[0m\n\u001b[0;32m--> 107\u001b[0;31m                              'Found: array with shape ' + str(data.shape))\n\u001b[0m\u001b[1;32m    108\u001b[0m         \u001b[0marrays\u001b[0m \u001b[1;33m=\u001b[0m \u001b[1;33m[\u001b[0m\u001b[0mdata\u001b[0m\u001b[1;33m]\u001b[0m\u001b[1;33m\u001b[0m\u001b[0m\n\u001b[1;32m    109\u001b[0m \u001b[1;33m\u001b[0m\u001b[0m\n",
      "\u001b[0;31mValueError\u001b[0m: The model expects 2  arrays, but only received one array. Found: array with shape (5890, 5, 2)"
     ]
    }
   ],
   "source": [
    "#now, what happens when we predict mixed glyphs?\n",
    "mixed_outlines = model.predict(np.random.random(timestepinputs.shape), verbose=1)\n",
    "drawOutlines(mixed_outlines, cellsize, scheme)"
   ]
  },
  {
   "cell_type": "code",
   "execution_count": null,
   "metadata": {
    "collapsed": false
   },
   "outputs": [],
   "source": [
    "#what about interpolating between glyphs?  let's try gradually mixing A into B\n",
    "#need array [[1, 0, ...], [1, 0.1, ...]]\n",
    "A = inputs[0]\n",
    "B = inputs[1]\n",
    "steps=12\n",
    "mix = np.array([A*(steps-i)/steps + i*B/steps for i in range(steps+1)])\n",
    "#print(mix[:3])\n",
    "interp = outlines_model.predict(mix, verbose=1)\n",
    "drawOutlines(interp, cellsize, scheme)\n",
    "#not very convincing :(, perhaps raw points rather than angle, dist pairs for the outline would be better\n",
    "#also need to try interpolating A between two fonts"
   ]
  }
 ],
 "metadata": {
  "anaconda-cloud": {},
  "kernelspec": {
   "display_name": "Python [default]",
   "language": "python",
   "name": "python3"
  },
  "language_info": {
   "codemirror_mode": {
    "name": "ipython",
    "version": 3
   },
   "file_extension": ".py",
   "mimetype": "text/x-python",
   "name": "python",
   "nbconvert_exporter": "python",
   "pygments_lexer": "ipython3",
   "version": "3.5.2"
  }
 },
 "nbformat": 4,
 "nbformat_minor": 1
}
