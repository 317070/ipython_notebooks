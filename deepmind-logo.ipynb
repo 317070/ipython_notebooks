{
 "cells": [
  {
   "cell_type": "markdown",
   "metadata": {},
   "source": [
    "# Jupyter meets MathBox2\n",
    "\n",
    "from https://nbviewer.jupyter.org/github/znah/mathbox/blob/jupyter/examples/notebooks/mathbox.ipynb:\n",
    "using [MathBox2](https://github.com/unconed/mathbox)"
   ]
  },
  {
   "cell_type": "code",
   "execution_count": 4,
   "metadata": {
    "collapsed": true
   },
   "outputs": [],
   "source": [
    "import json\n",
    "import numpy as np\n",
    "from IPython.display import HTML, Javascript, display"
   ]
  },
  {
   "cell_type": "code",
   "execution_count": 5,
   "metadata": {
    "collapsed": true
   },
   "outputs": [],
   "source": [
    "def json_numpy_serialzer(o):\n",
    "    '''Helper function to serialize NumPy arrays.'''\n",
    "    if isinstance(o, np.ndarray):\n",
    "        return o.tolist()\n",
    "    raise TypeError(\"{} of type {} is not JSON serializable\".format(repr(o), type(o)))\n",
    "\n",
    "def jsglobal(**params):\n",
    "    '''Populate JS global namespace with provided Python obejcts.'''\n",
    "    code = [];\n",
    "    for name, value in params.items():\n",
    "        jsdata = json.dumps(value, default=json_numpy_serialzer)\n",
    "        code.append(\"window.{} = {};\".format(name, jsdata))\n",
    "    display(Javascript(\"\\n\".join(code)))"
   ]
  },
  {
   "cell_type": "code",
   "execution_count": 6,
   "metadata": {},
   "outputs": [
    {
     "data": {
      "application/javascript": [
       "\n",
       "// Loading the compiled MathBox bundle.\n",
       "require.config({\n",
       "    paths: {\n",
       "        mathBox: '//cdn.rawgit.com/unconed/mathbox/eaeb8e15/build/mathbox-bundle'\n",
       "    }\n",
       "});\n",
       "\n",
       "// Helper function that setups WebGL context and initializes MathBox.\n",
       "window.with_mathbox = function(element, func) {\n",
       "    require(['mathBox'], function(){\n",
       "        var mathbox = mathBox({\n",
       "          plugins: ['core', 'controls', 'cursor', 'mathbox'],\n",
       "          controls: { klass: THREE.OrbitControls },\n",
       "          mathbox: {inspect: false},\n",
       "          element: element[0],\n",
       "          loop: {start: false},\n",
       "            \n",
       "        });\n",
       "        var three = mathbox.three;\n",
       "        three.renderer.setClearColor(new THREE.Color(0xFFFFFF), 1.0);\n",
       "        three.camera.position.set(-1, 1, 2);\n",
       "        three.controls.noKeys = true;\n",
       "        \n",
       "        three.element.style.height = \"400px\";\n",
       "        three.element.style.width = \"100%\";\n",
       "        \n",
       "        function isInViewport(element) {\n",
       "          var rect = element.getBoundingClientRect();\n",
       "          var html = document.documentElement;\n",
       "          var w = window.innerWidth || html.clientWidth;\n",
       "          var h = window.innerHeight || html.clientHeight;\n",
       "          return rect.top < h && rect.left < w && rect.bottom > 0 && rect.right > 0;\n",
       "        }\n",
       "        \n",
       "        // Running update/render loop only for visible plots.\n",
       "        var intervalId = setInterval(function(){\n",
       "            if (three.element.offsetParent === null) {\n",
       "                clearInterval(intervalId);\n",
       "                three.destroy();\n",
       "                return;\n",
       "            }\n",
       "            var visible = isInViewport(three.canvas);\n",
       "            if (three.Loop.running != visible) {\n",
       "                visible? three.Loop.start() : three.Loop.stop();\n",
       "            }\n",
       "        }, 100);\n",
       "\n",
       "        func(mathbox);\n",
       "        \n",
       "        window.dispatchEvent(new Event('resize'));\n",
       "    })\n",
       "}"
      ],
      "text/plain": [
       "<IPython.core.display.Javascript object>"
      ]
     },
     "metadata": {},
     "output_type": "display_data"
    }
   ],
   "source": [
    "%%javascript\n",
    "\n",
    "// Loading the compiled MathBox bundle.\n",
    "require.config({\n",
    "    paths: {\n",
    "        mathBox: '//cdn.rawgit.com/unconed/mathbox/eaeb8e15/build/mathbox-bundle'\n",
    "    }\n",
    "});\n",
    "\n",
    "// Helper function that setups WebGL context and initializes MathBox.\n",
    "window.with_mathbox = function(element, func) {\n",
    "    require(['mathBox'], function(){\n",
    "        var mathbox = mathBox({\n",
    "          plugins: ['core', 'controls', 'cursor', 'mathbox'],\n",
    "          controls: { klass: THREE.OrbitControls },\n",
    "          mathbox: {inspect: false},\n",
    "          element: element[0],\n",
    "          loop: {start: false},\n",
    "            \n",
    "        });\n",
    "        var three = mathbox.three;\n",
    "        three.renderer.setClearColor(new THREE.Color(0xFFFFFF), 1.0);\n",
    "        three.camera.position.set(-1, 1, 2);\n",
    "        three.controls.noKeys = true;\n",
    "        \n",
    "        three.element.style.height = \"400px\";\n",
    "        three.element.style.width = \"100%\";\n",
    "        \n",
    "        function isInViewport(element) {\n",
    "          var rect = element.getBoundingClientRect();\n",
    "          var html = document.documentElement;\n",
    "          var w = window.innerWidth || html.clientWidth;\n",
    "          var h = window.innerHeight || html.clientHeight;\n",
    "          return rect.top < h && rect.left < w && rect.bottom > 0 && rect.right > 0;\n",
    "        }\n",
    "        \n",
    "        // Running update/render loop only for visible plots.\n",
    "        var intervalId = setInterval(function(){\n",
    "            if (three.element.offsetParent === null) {\n",
    "                clearInterval(intervalId);\n",
    "                three.destroy();\n",
    "                return;\n",
    "            }\n",
    "            var visible = isInViewport(three.canvas);\n",
    "            if (three.Loop.running != visible) {\n",
    "                visible? three.Loop.start() : three.Loop.stop();\n",
    "            }\n",
    "        }, 100);\n",
    "\n",
    "        func(mathbox);\n",
    "        \n",
    "        window.dispatchEvent(new Event('resize'));\n",
    "    })\n",
    "}"
   ]
  },
  {
   "cell_type": "markdown",
   "metadata": {},
   "source": [
    "## Simple surface plot\n",
    "\n",
    "This code snippet shows an 3d surface plot of a function, defined in JS callback."
   ]
  },
  {
   "cell_type": "code",
   "execution_count": 293,
   "metadata": {},
   "outputs": [
    {
     "data": {
      "application/javascript": [
       "function fn(i, j, k) {\n",
       "    var rad = j / 20.0 * Math.PI / 3.0\n",
       "    var y_centre = Math.sin(Math.PI/3) /3\n",
       "    if(k==0) {\n",
       "        var u = Math.cos(rad)-0.5\n",
       "        var v = Math.sin(rad)-y_centre\n",
       "    }\n",
       "    else if(k==1) {\n",
       "        var u = 0.5-Math.cos(rad)\n",
       "        var v = Math.sin(rad)-y_centre\n",
       "    }\n",
       "    else if(k==2) {\n",
       "        var u = Math.sin(rad - Math.PI/6)\n",
       "        var v = y_centre*2-Math.cos(rad - Math.PI/6)\n",
       "    }\n",
       "    var az = i / 50.0 * Math.PI * 2.0 \n",
       "    var r = Math.sqrt(u*u+v*v)\n",
       "    var th = Math.atan2(v,u) + az*2/3 //twist it!\n",
       "    var rr = 1.1\n",
       "    var x = Math.sin(az+ Math.PI/3) * (1+r*Math.cos(th)*rr)\n",
       "    var y = Math.cos(az+ Math.PI/3) * (1.1+r*Math.cos(th)*rr)\n",
       "    var z = r*Math.sin(th)*rr\n",
       "    return {x: x, y: z, z: y}\n",
       "}\n",
       "\n",
       "with_mathbox(element, function(mathbox) {\n",
       "    var view = mathbox.cartesian({scale: [0.1, 0.1, 0.1]})//,{rotation:(t)=>[0, t*0.1, 0]}) // Setup rotating the coordinate frame.\n",
       "    view.voxel({\n",
       "        width: 50,\n",
       "        height: 20,\n",
       "        depth: 3,\n",
       "        expr: function (emit, i, j, k, t) {\n",
       "            var p0 = fn(i,j,k); emit(p0.x, p0.y, p0.z)\n",
       "            var p1 = fn(i+1,j,k); emit(p1.x, p1.y, p1.z);\n",
       "            var p2 = fn(i+1,j+1,k); emit(p2.x, p2.y, p2.z);\n",
       "            var p3 = fn(i,j+1,k); emit(p3.x, p3.y, p3.z);\n",
       "      },\n",
       "      items: 4, channels: 3,\n",
       "    })\n",
       "    for(var i=-2; i<=2; ++i)\n",
       "    for(var j=-2; j<=2; ++j)\n",
       "        view.transform({position: [i*3.5, 0, j*3.5]})\n",
       "            .transform({rotation: [(i+2)/Math.PI, 0, (j+2)/5.0]})\n",
       "            .face({color: 0x3090FF, shaded: true})\n",
       "}) "
      ],
      "text/plain": [
       "<IPython.core.display.Javascript object>"
      ]
     },
     "metadata": {},
     "output_type": "display_data"
    }
   ],
   "source": [
    "%%javascript\n",
    "function fn(i, j, k) {\n",
    "    var rad = j / 20.0 * Math.PI / 3.0\n",
    "    var y_centre = Math.sin(Math.PI/3) /3\n",
    "    if(k==0) {\n",
    "        var u = Math.cos(rad)-0.5\n",
    "        var v = Math.sin(rad)-y_centre\n",
    "    }\n",
    "    else if(k==1) {\n",
    "        var u = 0.5-Math.cos(rad)\n",
    "        var v = Math.sin(rad)-y_centre\n",
    "    }\n",
    "    else if(k==2) {\n",
    "        var u = Math.sin(rad - Math.PI/6)\n",
    "        var v = y_centre*2-Math.cos(rad - Math.PI/6)\n",
    "    }\n",
    "    var az = i / 50.0 * Math.PI * 2.0 \n",
    "    var r = Math.sqrt(u*u+v*v)\n",
    "    var th = Math.atan2(v,u) + az*2/3 //twist it!\n",
    "    var rr = 1.1\n",
    "    var x = Math.sin(az+ Math.PI/3) * (1+r*Math.cos(th)*rr)\n",
    "    var y = Math.cos(az+ Math.PI/3) * (1.1+r*Math.cos(th)*rr)\n",
    "    var z = r*Math.sin(th)*rr\n",
    "    return {x: x, y: z, z: y}\n",
    "}\n",
    "\n",
    "with_mathbox(element, function(mathbox) {\n",
    "    var view = mathbox.cartesian({scale: [0.1, 0.1, 0.1]})//,{rotation:(t)=>[0, t*0.1, 0]}) // Setup rotating the coordinate frame.\n",
    "    view.voxel({\n",
    "        width: 50,\n",
    "        height: 20,\n",
    "        depth: 3,\n",
    "        expr: function (emit, i, j, k, t) {\n",
    "            var p0 = fn(i,j,k); emit(p0.x, p0.y, p0.z)\n",
    "            var p1 = fn(i+1,j,k); emit(p1.x, p1.y, p1.z);\n",
    "            var p2 = fn(i+1,j+1,k); emit(p2.x, p2.y, p2.z);\n",
    "            var p3 = fn(i,j+1,k); emit(p3.x, p3.y, p3.z);\n",
    "      },\n",
    "      items: 4, channels: 3,\n",
    "    })\n",
    "    for(var i=-2; i<=2; ++i)\n",
    "    for(var j=-2; j<=2; ++j)\n",
    "        view.transform({position: [i*3.5, 0, j*3.5]})\n",
    "            .transform({rotation: [(i+2)/Math.PI, 0, (j+2)/5.0]})\n",
    "            .face({color: 0x3090FF, shaded: true})\n",
    "}) \n"
   ]
  },
  {
   "cell_type": "code",
   "execution_count": null,
   "metadata": {
    "collapsed": true
   },
   "outputs": [],
   "source": []
  }
 ],
 "metadata": {
  "kernelspec": {
   "display_name": "Python 3",
   "language": "python",
   "name": "python3"
  },
  "language_info": {
   "codemirror_mode": {
    "name": "ipython",
    "version": 3
   },
   "file_extension": ".py",
   "mimetype": "text/x-python",
   "name": "python",
   "nbconvert_exporter": "python",
   "pygments_lexer": "ipython3",
   "version": "3.6.2"
  }
 },
 "nbformat": 4,
 "nbformat_minor": 1
}
