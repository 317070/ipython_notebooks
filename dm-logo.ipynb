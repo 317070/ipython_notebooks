{
 "cells": [
  {
   "cell_type": "markdown",
   "metadata": {},
   "source": [
    "# Jupyter meets MathBox2\n",
    "\n",
    "from https://nbviewer.jupyter.org/github/znah/mathbox/blob/jupyter/examples/notebooks/mathbox.ipynb:\n",
    "using [MathBox2](https://github.com/unconed/mathbox)"
   ]
  },
  {
   "cell_type": "code",
   "execution_count": 1,
   "metadata": {
    "collapsed": true
   },
   "outputs": [],
   "source": [
    "import json\n",
    "import numpy as np\n",
    "from IPython.display import HTML, Javascript, display"
   ]
  },
  {
   "cell_type": "code",
   "execution_count": 43,
   "metadata": {},
   "outputs": [
    {
     "data": {
      "application/javascript": [
       "require.config({\n",
       "    paths: { mathBox: '//cdn.rawgit.com/unconed/mathbox/eaeb8e15/build/mathbox-bundle' }\n",
       "});\n",
       "// Helper function that setups WebGL context and initializes MathBox.\n",
       "window.with_mathbox = function(element, func) {\n",
       "    require(['mathBox'], function(){\n",
       "        var mathbox = mathBox({\n",
       "          plugins: ['core', 'controls', 'cursor', 'mathbox'],\n",
       "          controls: { klass: THREE.OrbitControls },\n",
       "          mathbox: {inspect: false},\n",
       "          element: element[0],\n",
       "          loop: {start: true},\n",
       "        });\n",
       "        var three = mathbox.three;\n",
       "        three.renderer.setClearColor(new THREE.Color(0xFFFFFF), 1.0);\n",
       "        three.camera.position.set(0, 2, 0);\n",
       "        three.controls.noKeys = true;\n",
       "        three.element.style.height = \"800px\";\n",
       "        three.element.style.width = \"100%\";\n",
       "        func(mathbox);\n",
       "        window.dispatchEvent(new Event('resize'));\n",
       "    })\n",
       "}"
      ],
      "text/plain": [
       "<IPython.core.display.Javascript object>"
      ]
     },
     "metadata": {},
     "output_type": "display_data"
    }
   ],
   "source": [
    "%%javascript\n",
    "require.config({\n",
    "    paths: { mathBox: '//cdn.rawgit.com/unconed/mathbox/eaeb8e15/build/mathbox-bundle' }\n",
    "});\n",
    "// Helper function that setups WebGL context and initializes MathBox.\n",
    "window.with_mathbox = function(element, func) {\n",
    "    require(['mathBox'], function(){\n",
    "        var mathbox = mathBox({\n",
    "          plugins: ['core', 'controls', 'cursor', 'mathbox'],\n",
    "          controls: { klass: THREE.OrbitControls },\n",
    "          mathbox: {inspect: false},\n",
    "          element: element[0],\n",
    "          loop: {start: true},\n",
    "        });\n",
    "        var three = mathbox.three;\n",
    "        three.renderer.setClearColor(new THREE.Color(0xFFFFFF), 1.0);\n",
    "        three.camera.position.set(0, 2, 0);\n",
    "        three.controls.noKeys = true;\n",
    "        three.element.style.height = \"800px\";\n",
    "        three.element.style.width = \"100%\";\n",
    "        func(mathbox);\n",
    "        window.dispatchEvent(new Event('resize'));\n",
    "    })\n",
    "}"
   ]
  },
  {
   "cell_type": "code",
   "execution_count": 44,
   "metadata": {
    "scrolled": false
   },
   "outputs": [
    {
     "data": {
      "application/javascript": [
       "\n",
       "function reuleaux(i, j, k) {\n",
       "    if(j==0) return reuleaux(i, 19, k-1) //flatten off edge\n",
       "    var rad = (j / 10.0 - 1) * Math.PI / 3.0\n",
       "    //using Polar equation of a curve from https://en.wikipedia.org/wiki/Polar_coordinate_system\n",
       "    //R=1, r0=1/sqrt(3) (2/3 height of unit sided equilateral triangle, offset of centre of reuleaux arc)\n",
       "    var cosr = Math.cos(rad)\n",
       "    var r = (Math.sqrt(cosr*cosr + 2.0) - cosr)/Math.sqrt(3)\n",
       "    var az = i / 50.0 * Math.PI * 2.0 \n",
       "    var th = rad + (k*Math.PI + az)*2/3 //twist it!\n",
       "    //based on parametric equation of a torus\n",
       "    var x = Math.sin(az) * (1 + r * Math.cos(th))\n",
       "    var y = Math.cos(az) * (1 + r * Math.cos(th))\n",
       "    var z = r*Math.sin(th)\n",
       "    return {x: x, y: z, z: y}\n",
       "}\n",
       "\n",
       "with_mathbox(element, function(mathbox) {\n",
       "    var view = mathbox.cartesian({scale: [0.1, 0.1, 0.1]})\n",
       "    .unit({scale:1000})\n",
       "    view.voxel({\n",
       "        width: 50, height: 19, depth: 3,\n",
       "        items: 4, channels: 3,\n",
       "        expr: function (emit, i, j, k, t) {\n",
       "            var p0 = reuleaux(i,j,k); emit(p0.x, p0.y, p0.z)\n",
       "            var p1 = reuleaux(i+1,j,k); emit(p1.x, p1.y, p1.z);\n",
       "            var p2 = reuleaux(i+1,j+1,k); emit(p2.x, p2.y, p2.z);\n",
       "            var p3 = reuleaux(i,j+1,k); emit(p3.x, p3.y, p3.z);\n",
       "        }\n",
       "    })\n",
       "    for(var i=-2; i<=2; ++i)\n",
       "    for(var j=-2; j<=2; ++j)\n",
       "        view.transform({position: [-j*3.5, 0, -i*3.5]})\n",
       "            .transform({rotation: [(i+1)/Math.PI, 0, (j+2)/5.0]})\n",
       "            .face({color: (i==-2 && j==-1 )?0x60B0FF : 0xEEEEEE, shaded: false})\n",
       "            .face({color: (i==-2 && j==-1 )?0x60B0FF : 0xEEEEEE, shaded: true, opacity: 0.5})\n",
       "}) "
      ],
      "text/plain": [
       "<IPython.core.display.Javascript object>"
      ]
     },
     "metadata": {},
     "output_type": "display_data"
    }
   ],
   "source": [
    "%%javascript\n",
    "\n",
    "function reuleaux(i, j, k) {\n",
    "    if(j==0) return reuleaux(i, 19, k-1) //flatten off edge\n",
    "    var rad = (j / 10.0 - 1) * Math.PI / 3.0\n",
    "    //using Polar equation of a curve from https://en.wikipedia.org/wiki/Polar_coordinate_system\n",
    "    //R=1, r0=1/sqrt(3) (2/3 height of unit sided equilateral triangle, offset of centre of reuleaux arc)\n",
    "    var cosr = Math.cos(rad)\n",
    "    var r = (Math.sqrt(cosr*cosr + 2.0) - cosr)/Math.sqrt(3)\n",
    "    var az = i / 50.0 * Math.PI * 2.0 \n",
    "    var th = rad + (k*Math.PI + az)*2/3 //twist it!\n",
    "    //based on parametric equation of a torus\n",
    "    var x = Math.sin(az) * (1 + r * Math.cos(th))\n",
    "    var y = Math.cos(az) * (1 + r * Math.cos(th))\n",
    "    var z = r*Math.sin(th)\n",
    "    return {x: x, y: z, z: y}\n",
    "}\n",
    "\n",
    "with_mathbox(element, function(mathbox) {\n",
    "    var view = mathbox.cartesian({scale: [0.1, 0.1, 0.1]})\n",
    "    .unit({scale:1000})\n",
    "    view.voxel({\n",
    "        width: 50, height: 19, depth: 3,\n",
    "        items: 4, channels: 3,\n",
    "        expr: function (emit, i, j, k, t) {\n",
    "            var p0 = reuleaux(i,j,k); emit(p0.x, p0.y, p0.z)\n",
    "            var p1 = reuleaux(i+1,j,k); emit(p1.x, p1.y, p1.z);\n",
    "            var p2 = reuleaux(i+1,j+1,k); emit(p2.x, p2.y, p2.z);\n",
    "            var p3 = reuleaux(i,j+1,k); emit(p3.x, p3.y, p3.z);\n",
    "        }\n",
    "    })\n",
    "    for(var i=-2; i<=2; ++i)\n",
    "    for(var j=-2; j<=2; ++j)\n",
    "        view.transform({position: [-j*3.5, 0, -i*3.5]})\n",
    "            .transform({rotation: [(i+1)/Math.PI, 0, (j+2)/5.0]})\n",
    "            .face({color: (i==-2 && j==-1 )?0x60B0FF : 0xEEEEEE, shaded: false})\n",
    "            .face({color: (i==-2 && j==-1 )?0x60B0FF : 0xEEEEEE, shaded: true, opacity: 0.5})\n",
    "}) \n"
   ]
  },
  {
   "cell_type": "code",
   "execution_count": null,
   "metadata": {
    "collapsed": true
   },
   "outputs": [],
   "source": []
  }
 ],
 "metadata": {
  "kernelspec": {
   "display_name": "Python 3",
   "language": "python",
   "name": "python3"
  },
  "language_info": {
   "codemirror_mode": {
    "name": "ipython",
    "version": 3
   },
   "file_extension": ".py",
   "mimetype": "text/x-python",
   "name": "python",
   "nbconvert_exporter": "python",
   "pygments_lexer": "ipython3",
   "version": "3.6.3"
  }
 },
 "nbformat": 4,
 "nbformat_minor": 1
}
